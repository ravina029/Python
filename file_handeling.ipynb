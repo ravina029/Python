{
  "nbformat": 4,
  "nbformat_minor": 0,
  "metadata": {
    "colab": {
      "provenance": []
    },
    "kernelspec": {
      "name": "python3",
      "display_name": "Python 3"
    },
    "language_info": {
      "name": "python"
    }
  },
  "cells": [
    {
      "cell_type": "code",
      "execution_count": 1,
      "metadata": {
        "id": "leeGVa3g1Y4X",
        "colab": {
          "base_uri": "https://localhost:8080/",
          "height": 233
        },
        "outputId": "8bcbf426-8439-48a6-8528-360f421d6159"
      },
      "outputs": [
        {
          "output_type": "error",
          "ename": "ValueError",
          "evalue": "I/O operation on closed file.",
          "traceback": [
            "\u001b[0;31m---------------------------------------------------------------------------\u001b[0m",
            "\u001b[0;31mValueError\u001b[0m                                Traceback (most recent call last)",
            "\u001b[0;32m<ipython-input-1-aa0074d5d25c>\u001b[0m in \u001b[0;36m<cell line: 6>\u001b[0;34m()\u001b[0m\n\u001b[1;32m      4\u001b[0m \u001b[0mf\u001b[0m\u001b[0;34m.\u001b[0m\u001b[0mclose\u001b[0m\u001b[0;34m(\u001b[0m\u001b[0;34m)\u001b[0m \u001b[0;31m#good practice to close the file to free the memory and for sequarity\u001b[0m\u001b[0;34m\u001b[0m\u001b[0;34m\u001b[0m\u001b[0m\n\u001b[1;32m      5\u001b[0m \u001b[0;31m#file is closed therefore. this operation will give error\u001b[0m\u001b[0;34m\u001b[0m\u001b[0;34m\u001b[0m\u001b[0m\n\u001b[0;32m----> 6\u001b[0;31m \u001b[0mf\u001b[0m\u001b[0;34m.\u001b[0m\u001b[0mwrite\u001b[0m\u001b[0;34m(\u001b[0m\u001b[0;34m\"rigth\"\u001b[0m\u001b[0;34m)\u001b[0m\u001b[0;34m\u001b[0m\u001b[0;34m\u001b[0m\u001b[0m\n\u001b[0m",
            "\u001b[0;31mValueError\u001b[0m: I/O operation on closed file."
          ]
        }
      ],
      "source": [
        "# if the txt file is not present: we will create the file and then write into it.\n",
        "f=open(\"my_file.txt\",'w')\n",
        "f.write(\"this file is created\")\n",
        "f.close() #good practice to close the file to free the memory and for sequarity\n",
        "#file is closed therefore. this operation will give error\n",
        "f.write(\"rigth\")"
      ]
    },
    {
      "cell_type": "code",
      "source": [
        "#write multiple strings\n",
        "f=open(\"sampl.txt\",'w')\n",
        "f.write(\"hello\")\n",
        "f.write(\"hello there\")\n"
      ],
      "metadata": {
        "colab": {
          "base_uri": "https://localhost:8080/"
        },
        "id": "I1RTYWdaLgju",
        "outputId": "6229328d-a863-4ec0-a03f-50ed060b2918"
      },
      "execution_count": 2,
      "outputs": [
        {
          "output_type": "execute_result",
          "data": {
            "text/plain": [
              "11"
            ]
          },
          "metadata": {},
          "execution_count": 2
        }
      ]
    },
    {
      "cell_type": "code",
      "source": [
        "# case 2=if the file is already present: it will replace the old content with the new one\n",
        "f=open('sampl.txt','w')\n",
        "f.write('here we are')\n",
        "\n"
      ],
      "metadata": {
        "colab": {
          "base_uri": "https://localhost:8080/"
        },
        "id": "3_gVuksUMNUC",
        "outputId": "ef7f1f74-3e7c-4b31-c73b-29c702c335ac"
      },
      "execution_count": 3,
      "outputs": [
        {
          "output_type": "execute_result",
          "data": {
            "text/plain": [
              "11"
            ]
          },
          "metadata": {},
          "execution_count": 3
        }
      ]
    },
    {
      "cell_type": "code",
      "source": [
        "#writing without replacing\n",
        "f=open('/content/temp/sampl.txt','a') #append mode, saving into different path\n",
        "f.write(\"\\n welcome you all\")\n",
        "f.close()"
      ],
      "metadata": {
        "colab": {
          "base_uri": "https://localhost:8080/",
          "height": 269
        },
        "id": "yaQ4MfisMgDx",
        "outputId": "89d6865b-2afe-4b6a-bd9a-0a67bd9e0733"
      },
      "execution_count": 4,
      "outputs": [
        {
          "output_type": "error",
          "ename": "FileNotFoundError",
          "evalue": "[Errno 2] No such file or directory: '/content/temp/sampl.txt'",
          "traceback": [
            "\u001b[0;31m---------------------------------------------------------------------------\u001b[0m",
            "\u001b[0;31mFileNotFoundError\u001b[0m                         Traceback (most recent call last)",
            "\u001b[0;32m<ipython-input-4-476628531026>\u001b[0m in \u001b[0;36m<cell line: 2>\u001b[0;34m()\u001b[0m\n\u001b[1;32m      1\u001b[0m \u001b[0;31m#writing without replacing\u001b[0m\u001b[0;34m\u001b[0m\u001b[0;34m\u001b[0m\u001b[0m\n\u001b[0;32m----> 2\u001b[0;31m \u001b[0mf\u001b[0m\u001b[0;34m=\u001b[0m\u001b[0mopen\u001b[0m\u001b[0;34m(\u001b[0m\u001b[0;34m'/content/temp/sampl.txt'\u001b[0m\u001b[0;34m,\u001b[0m\u001b[0;34m'a'\u001b[0m\u001b[0;34m)\u001b[0m \u001b[0;31m#append mode, saving into different path\u001b[0m\u001b[0;34m\u001b[0m\u001b[0;34m\u001b[0m\u001b[0m\n\u001b[0m\u001b[1;32m      3\u001b[0m \u001b[0mf\u001b[0m\u001b[0;34m.\u001b[0m\u001b[0mwrite\u001b[0m\u001b[0;34m(\u001b[0m\u001b[0;34m\"\\n welcome you all\"\u001b[0m\u001b[0;34m)\u001b[0m\u001b[0;34m\u001b[0m\u001b[0;34m\u001b[0m\u001b[0m\n\u001b[1;32m      4\u001b[0m \u001b[0mf\u001b[0m\u001b[0;34m.\u001b[0m\u001b[0mclose\u001b[0m\u001b[0;34m(\u001b[0m\u001b[0;34m)\u001b[0m\u001b[0;34m\u001b[0m\u001b[0;34m\u001b[0m\u001b[0m\n",
            "\u001b[0;31mFileNotFoundError\u001b[0m: [Errno 2] No such file or directory: '/content/temp/sampl.txt'"
          ]
        }
      ]
    },
    {
      "cell_type": "code",
      "source": [
        "#write multiple lines\n",
        "L=['hello',\"\\nthere, how are you \", \"\\nwhat is the new course\"]\n",
        "f=open('sampl.txt','w')\n",
        "f.writelines(L)\n",
        "f.close()"
      ],
      "metadata": {
        "id": "XWTuy2q3NhvJ"
      },
      "execution_count": null,
      "outputs": []
    },
    {
      "cell_type": "code",
      "source": [
        "# reading from the file\n",
        "f=open(\"/content/sampl.txt\",'r')\n",
        "s=f.read()\n",
        "print(s)\n",
        "f.close()\n"
      ],
      "metadata": {
        "colab": {
          "base_uri": "https://localhost:8080/"
        },
        "id": "1ALA5QX1OKrh",
        "outputId": "4db3ffe3-474c-48ef-fae2-7d32e491b2b1"
      },
      "execution_count": 5,
      "outputs": [
        {
          "output_type": "stream",
          "name": "stdout",
          "text": [
            "hellohello there\n"
          ]
        }
      ]
    },
    {
      "cell_type": "code",
      "source": [
        "#reading upto n characters\n",
        "f=open(\"/content/sampl.txt\",'r')\n",
        "s=f.read(10)\n",
        "print(s)\n",
        "f.close()"
      ],
      "metadata": {
        "colab": {
          "base_uri": "https://localhost:8080/"
        },
        "id": "lnyWHX94PQnN",
        "outputId": "a5cf7e02-4e32-4546-c075-0d34e86e84e6"
      },
      "execution_count": 6,
      "outputs": [
        {
          "output_type": "stream",
          "name": "stdout",
          "text": [
            "here we ar\n"
          ]
        }
      ]
    },
    {
      "cell_type": "code",
      "source": [
        "#read line by line: useful when the text data is very big. to save memory use readline\n",
        "f=open(\"/content/sampl.txt\",'r')\n",
        "f.readline()\n",
        "print(f.readline(),end='') #readline will insert line gap and print too\n",
        "#to avoid two line gap use end=''\n",
        "print(f.readline())\n",
        "f.close()\n"
      ],
      "metadata": {
        "colab": {
          "base_uri": "https://localhost:8080/"
        },
        "id": "A_EFS-LTPmDS",
        "outputId": "88981a6f-e109-46b5-a9d2-03ec967af116"
      },
      "execution_count": 7,
      "outputs": [
        {
          "output_type": "stream",
          "name": "stdout",
          "text": [
            "\n"
          ]
        }
      ]
    },
    {
      "cell_type": "code",
      "source": [
        "f=open(\"/content/sampl.txt\",'r')\n",
        "while True:\n",
        "  s=f.readline()\n",
        "  if s==\"\":\n",
        "    break\n",
        "  else:\n",
        "    print(s,end=\"\")\n",
        "\n",
        "f.close()"
      ],
      "metadata": {
        "colab": {
          "base_uri": "https://localhost:8080/"
        },
        "id": "-Zca7MnyPu0C",
        "outputId": "475fb5eb-b0ab-440b-db21-32faaa569a26"
      },
      "execution_count": 8,
      "outputs": [
        {
          "output_type": "stream",
          "name": "stdout",
          "text": [
            "here we arethere"
          ]
        }
      ]
    },
    {
      "cell_type": "markdown",
      "source": [
        "# with keyyword:\n",
        "this keyword closes the file as soon as the usage is over."
      ],
      "metadata": {
        "id": "PDuu3GcLo9HV"
      }
    },
    {
      "cell_type": "code",
      "source": [
        "with open('sample.txt','w') as f:\n",
        "  f.write(\"new input arrived\")"
      ],
      "metadata": {
        "id": "ktCrQWVaRo5V"
      },
      "execution_count": 9,
      "outputs": []
    },
    {
      "cell_type": "code",
      "source": [
        "f.write('hello')\n",
        "#this will give error because the file is alredy closed with the use of with keyword"
      ],
      "metadata": {
        "colab": {
          "base_uri": "https://localhost:8080/",
          "height": 216
        },
        "id": "xNKffwF3paBQ",
        "outputId": "5b2a4f64-2275-478d-8ff5-d781025d5cd2"
      },
      "execution_count": 10,
      "outputs": [
        {
          "output_type": "error",
          "ename": "ValueError",
          "evalue": "I/O operation on closed file.",
          "traceback": [
            "\u001b[0;31m---------------------------------------------------------------------------\u001b[0m",
            "\u001b[0;31mValueError\u001b[0m                                Traceback (most recent call last)",
            "\u001b[0;32m<ipython-input-10-7d4822a077e0>\u001b[0m in \u001b[0;36m<cell line: 1>\u001b[0;34m()\u001b[0m\n\u001b[0;32m----> 1\u001b[0;31m \u001b[0mf\u001b[0m\u001b[0;34m.\u001b[0m\u001b[0mwrite\u001b[0m\u001b[0;34m(\u001b[0m\u001b[0;34m'hello'\u001b[0m\u001b[0;34m)\u001b[0m\u001b[0;34m\u001b[0m\u001b[0;34m\u001b[0m\u001b[0m\n\u001b[0m\u001b[1;32m      2\u001b[0m \u001b[0;31m#this will give error because the file is alredy closed with the use of with keyword\u001b[0m\u001b[0;34m\u001b[0m\u001b[0;34m\u001b[0m\u001b[0m\n",
            "\u001b[0;31mValueError\u001b[0m: I/O operation on closed file."
          ]
        }
      ]
    },
    {
      "cell_type": "code",
      "source": [
        "with open('sample.txt','r') as f:\n",
        "  print(f.read())"
      ],
      "metadata": {
        "id": "aG16ebh5pdfx"
      },
      "execution_count": null,
      "outputs": []
    },
    {
      "cell_type": "code",
      "source": [
        "with open('sample.txt','r') as f:\n",
        "  print(f.read(10)) #will give first 10 char\n",
        "  print(f.read(10))  #it will print next 10 char due to buffer memory, this technique can be used to read bhig files"
      ],
      "metadata": {
        "colab": {
          "base_uri": "https://localhost:8080/"
        },
        "id": "xUAK-LQ-p1XM",
        "outputId": "d9a5dcd9-f8ce-42f0-af71-691a604561f8"
      },
      "execution_count": 11,
      "outputs": [
        {
          "output_type": "stream",
          "name": "stdout",
          "text": [
            "new input \n",
            "arrived\n"
          ]
        }
      ]
    },
    {
      "cell_type": "code",
      "source": [
        "big_L=['hello ' for i in range(1,1000)]\n",
        "with open('file.txt','w') as f:\n",
        "  f.writelines(big_L)"
      ],
      "metadata": {
        "id": "TZQnD_-8qO4N"
      },
      "execution_count": 12,
      "outputs": []
    },
    {
      "cell_type": "code",
      "source": [
        "#reading above file in chunks\n",
        "with open('file.txt','r') as f:\n",
        "  chunk_size=10\n",
        "  while len(f.read(chunk_size))>0:\n",
        "    print(f.read(chunk_size),end=\"****\") #if we don't mention chunk then will run infinitely\n",
        "    f.read(chunk_size) #loading the next chunk\n",
        ""
      ],
      "metadata": {
        "colab": {
          "base_uri": "https://localhost:8080/"
        },
        "id": "edHaxGLOrKL3",
        "outputId": "400b4181-7d1c-437c-b589-a34c89f4689b"
      },
      "execution_count": 13,
      "outputs": [
        {
          "output_type": "stream",
          "name": "stdout",
          "text": [
            "o hello he****o hello he****o hello he****o hello he****o hello he****o hello he****o hello he****o hello he****o hello he****o hello he****o hello he****o hello he****o hello he****o hello he****o hello he****o hello he****o hello he****o hello he****o hello he****o hello he****o hello he****o hello he****o hello he****o hello he****o hello he****o hello he****o hello he****o hello he****o hello he****o hello he****o hello he****o hello he****o hello he****o hello he****o hello he****o hello he****o hello he****o hello he****o hello he****o hello he****o hello he****o hello he****o hello he****o hello he****o hello he****o hello he****o hello he****o hello he****o hello he****o hello he****o hello he****o hello he****o hello he****o hello he****o hello he****o hello he****o hello he****o hello he****o hello he****o hello he****o hello he****o hello he****o hello he****o hello he****o hello he****o hello he****o hello he****o hello he****o hello he****o hello he****o hello he****o hello he****o hello he****o hello he****o hello he****o hello he****o hello he****o hello he****o hello he****o hello he****o hello he****o hello he****o hello he****o hello he****o hello he****o hello he****o hello he****o hello he****o hello he****o hello he****o hello he****o hello he****o hello he****o hello he****o hello he****o hello he****o hello he****o hello he****o hello he****o hello he****o hello he****o hello he****o hello he****o hello he****o hello he****o hello he****o hello he****o hello he****o hello he****o hello he****o hello he****o hello he****o hello he****o hello he****o hello he****o hello he****o hello he****o hello he****o hello he****o hello he****o hello he****o hello he****o hello he****o hello he****o hello he****o hello he****o hello he****o hello he****o hello he****o hello he****o hello he****o hello he****o hello he****o hello he****o hello he****o hello he****o hello he****o hello he****o hello he****o hello he****o hello he****o hello he****o hello he****o hello he****o hello he****o hello he****o hello he****o hello he****o hello he****o hello he****o hello he****o hello he****o hello he****o hello he****o hello he****o hello he****o hello he****o hello he****o hello he****o hello he****o hello he****o hello he****o hello he****o hello he****o hello he****o hello he****o hello he****o hello he****o hello he****o hello he****o hello he****o hello he****o hello he****o hello he****o hello he****o hello he****o hello he****o hello he****o hello he****o hello he****o hello he****o hello he****o hello he****o hello he****o hello he****o hello he****o hello he****o hello he****o hello he****o hello he****o hello he****o hello he****o hello he****o hello he****o hello he****o hello he****o hello he****o hello he****o hello he****o hello he****"
          ]
        }
      ]
    },
    {
      "cell_type": "code",
      "source": [
        "#seek and tell function\n",
        "with open('sample.txt','r') as f:\n",
        "  print(f.read(10))\n",
        "  print(f.tell())\n",
        "  print(f.seek(3))\n",
        "  print(f.read(10))\n",
        "  print(f.tell())\n"
      ],
      "metadata": {
        "colab": {
          "base_uri": "https://localhost:8080/"
        },
        "id": "TP7Ox9yQsBVJ",
        "outputId": "a068c0c8-5147-489c-b682-dd2847360069"
      },
      "execution_count": 14,
      "outputs": [
        {
          "output_type": "stream",
          "name": "stdout",
          "text": [
            "new input \n",
            "10\n",
            "3\n",
            " input arr\n",
            "13\n"
          ]
        }
      ]
    },
    {
      "cell_type": "code",
      "source": [
        "#seek during write\n",
        "with open('sample.txt','w') as f:\n",
        "  f.write(\"see this tutorial\")\n",
        "  f.seek(0)\n",
        "  f.write('gvasgdcg')"
      ],
      "metadata": {
        "id": "n9ffzYFhtozx"
      },
      "execution_count": 15,
      "outputs": []
    },
    {
      "cell_type": "markdown",
      "source": [
        "# Problem working with text file:\n",
        "1. can't work with binary files like images.\n",
        "2. not good for other datatypes like int/float/list/tuples"
      ],
      "metadata": {
        "id": "QHOGza1zuzXL"
      }
    },
    {
      "cell_type": "code",
      "source": [],
      "metadata": {
        "id": "jY5rPfQBv-uN"
      },
      "execution_count": 15,
      "outputs": []
    },
    {
      "cell_type": "code",
      "source": [
        "#working with binary file, in the following replace \"r\" with \"rb\" and \"w\" with \"wb\"\n",
        "with open('/content/Screenshot 2024-02-17 at 16.37.13.jpeg','r') as f:\n",
        "  print(f.read())"
      ],
      "metadata": {
        "colab": {
          "base_uri": "https://localhost:8080/",
          "height": 412
        },
        "id": "G4TAPX1MukCx",
        "outputId": "416f0df9-d731-4507-fb42-81e1e29233ea"
      },
      "execution_count": 18,
      "outputs": [
        {
          "output_type": "error",
          "ename": "UnicodeDecodeError",
          "evalue": "'utf-8' codec can't decode byte 0xff in position 0: invalid start byte",
          "traceback": [
            "\u001b[0;31m---------------------------------------------------------------------------\u001b[0m",
            "\u001b[0;31mUnicodeDecodeError\u001b[0m                        Traceback (most recent call last)",
            "\u001b[0;32m<ipython-input-18-0e6a101c8f3c>\u001b[0m in \u001b[0;36m<cell line: 2>\u001b[0;34m()\u001b[0m\n\u001b[1;32m      1\u001b[0m \u001b[0;31m#working with binary file, in the following replace \"r\" with \"rb\" and \"w\" with \"wb\"\u001b[0m\u001b[0;34m\u001b[0m\u001b[0;34m\u001b[0m\u001b[0m\n\u001b[1;32m      2\u001b[0m \u001b[0;32mwith\u001b[0m \u001b[0mopen\u001b[0m\u001b[0;34m(\u001b[0m\u001b[0;34m'/content/Screenshot 2024-02-17 at 16.37.13.jpeg'\u001b[0m\u001b[0;34m,\u001b[0m\u001b[0;34m'r'\u001b[0m\u001b[0;34m)\u001b[0m \u001b[0;32mas\u001b[0m \u001b[0mf\u001b[0m\u001b[0;34m:\u001b[0m\u001b[0;34m\u001b[0m\u001b[0;34m\u001b[0m\u001b[0m\n\u001b[0;32m----> 3\u001b[0;31m   \u001b[0mprint\u001b[0m\u001b[0;34m(\u001b[0m\u001b[0mf\u001b[0m\u001b[0;34m.\u001b[0m\u001b[0mread\u001b[0m\u001b[0;34m(\u001b[0m\u001b[0;34m)\u001b[0m\u001b[0;34m)\u001b[0m\u001b[0;34m\u001b[0m\u001b[0;34m\u001b[0m\u001b[0m\n\u001b[0m",
            "\u001b[0;32m/usr/lib/python3.10/codecs.py\u001b[0m in \u001b[0;36mdecode\u001b[0;34m(self, input, final)\u001b[0m\n\u001b[1;32m    320\u001b[0m         \u001b[0;31m# decode input (taking the buffer into account)\u001b[0m\u001b[0;34m\u001b[0m\u001b[0;34m\u001b[0m\u001b[0m\n\u001b[1;32m    321\u001b[0m         \u001b[0mdata\u001b[0m \u001b[0;34m=\u001b[0m \u001b[0mself\u001b[0m\u001b[0;34m.\u001b[0m\u001b[0mbuffer\u001b[0m \u001b[0;34m+\u001b[0m \u001b[0minput\u001b[0m\u001b[0;34m\u001b[0m\u001b[0;34m\u001b[0m\u001b[0m\n\u001b[0;32m--> 322\u001b[0;31m         \u001b[0;34m(\u001b[0m\u001b[0mresult\u001b[0m\u001b[0;34m,\u001b[0m \u001b[0mconsumed\u001b[0m\u001b[0;34m)\u001b[0m \u001b[0;34m=\u001b[0m \u001b[0mself\u001b[0m\u001b[0;34m.\u001b[0m\u001b[0m_buffer_decode\u001b[0m\u001b[0;34m(\u001b[0m\u001b[0mdata\u001b[0m\u001b[0;34m,\u001b[0m \u001b[0mself\u001b[0m\u001b[0;34m.\u001b[0m\u001b[0merrors\u001b[0m\u001b[0;34m,\u001b[0m \u001b[0mfinal\u001b[0m\u001b[0;34m)\u001b[0m\u001b[0;34m\u001b[0m\u001b[0;34m\u001b[0m\u001b[0m\n\u001b[0m\u001b[1;32m    323\u001b[0m         \u001b[0;31m# keep undecoded input until the next call\u001b[0m\u001b[0;34m\u001b[0m\u001b[0;34m\u001b[0m\u001b[0m\n\u001b[1;32m    324\u001b[0m         \u001b[0mself\u001b[0m\u001b[0;34m.\u001b[0m\u001b[0mbuffer\u001b[0m \u001b[0;34m=\u001b[0m \u001b[0mdata\u001b[0m\u001b[0;34m[\u001b[0m\u001b[0mconsumed\u001b[0m\u001b[0;34m:\u001b[0m\u001b[0;34m]\u001b[0m\u001b[0;34m\u001b[0m\u001b[0;34m\u001b[0m\u001b[0m\n",
            "\u001b[0;31mUnicodeDecodeError\u001b[0m: 'utf-8' codec can't decode byte 0xff in position 0: invalid start byte"
          ]
        }
      ]
    },
    {
      "cell_type": "code",
      "source": [
        "with open('/content/Screenshot 2024-02-17 at 16.37.13.jpeg','rb') as f: #use reab binary\n",
        "  with open ('image.jpg','wb') as wf:\n",
        "    wf.write(f.read())"
      ],
      "metadata": {
        "id": "UwSrk2J-vgyr"
      },
      "execution_count": 20,
      "outputs": []
    },
    {
      "cell_type": "code",
      "source": [
        "with open('sample.txt','w') as f:\n",
        "  f.write(5) #int will not work here"
      ],
      "metadata": {
        "colab": {
          "base_uri": "https://localhost:8080/",
          "height": 198
        },
        "id": "1yMWOU1fv21G",
        "outputId": "a902f4d6-2ccc-40d8-b63f-151894ddb097"
      },
      "execution_count": 21,
      "outputs": [
        {
          "output_type": "error",
          "ename": "TypeError",
          "evalue": "write() argument must be str, not int",
          "traceback": [
            "\u001b[0;31m---------------------------------------------------------------------------\u001b[0m",
            "\u001b[0;31mTypeError\u001b[0m                                 Traceback (most recent call last)",
            "\u001b[0;32m<ipython-input-21-23d9b9f0f5c9>\u001b[0m in \u001b[0;36m<cell line: 1>\u001b[0;34m()\u001b[0m\n\u001b[1;32m      1\u001b[0m \u001b[0;32mwith\u001b[0m \u001b[0mopen\u001b[0m\u001b[0;34m(\u001b[0m\u001b[0;34m'sample.txt'\u001b[0m\u001b[0;34m,\u001b[0m\u001b[0;34m'w'\u001b[0m\u001b[0;34m)\u001b[0m \u001b[0;32mas\u001b[0m \u001b[0mf\u001b[0m\u001b[0;34m:\u001b[0m\u001b[0;34m\u001b[0m\u001b[0;34m\u001b[0m\u001b[0m\n\u001b[0;32m----> 2\u001b[0;31m   \u001b[0mf\u001b[0m\u001b[0;34m.\u001b[0m\u001b[0mwrite\u001b[0m\u001b[0;34m(\u001b[0m\u001b[0;36m5\u001b[0m\u001b[0;34m)\u001b[0m \u001b[0;31m#int will not work here\u001b[0m\u001b[0;34m\u001b[0m\u001b[0;34m\u001b[0m\u001b[0m\n\u001b[0m",
            "\u001b[0;31mTypeError\u001b[0m: write() argument must be str, not int"
          ]
        }
      ]
    },
    {
      "cell_type": "code",
      "source": [
        "with open('sample.txt','w') as f:\n",
        "  f.write(str(5)) #int will not work here"
      ],
      "metadata": {
        "id": "SLAQuPkXwUMa"
      },
      "execution_count": 22,
      "outputs": []
    },
    {
      "cell_type": "markdown",
      "source": [
        "#files with text data doensn't work well with other type of data type like dictionary and others. therefore we need some other tool that can handle this thing."
      ],
      "metadata": {
        "id": "IoEOpSquxH2g"
      }
    },
    {
      "cell_type": "markdown",
      "source": [
        "# Serialization and Deserialization\n",
        "1. Serialization: Converting the python data types into json(Java Script on notation) format.\n",
        "2. Deserialization: Process of converting the Json format into Python data types."
      ],
      "metadata": {
        "id": "u208lnGhxUaf"
      }
    },
    {
      "cell_type": "code",
      "source": [
        "#serialization using jaon module\n",
        "# for list\n",
        "L=[1,2,3,4]\n",
        "import json\n",
        "\n",
        "with open(\"file.json\",'w') as f: #f is file handler object\n",
        "  json.dump(L,f)"
      ],
      "metadata": {
        "id": "qhXhahsPwbc_"
      },
      "execution_count": 23,
      "outputs": []
    },
    {
      "cell_type": "code",
      "source": [
        "#serialization using jason module for dict\n",
        "D={\"hello\":1,\"hey\":2}\n",
        "with open(\"file.json\",'w') as f:\n",
        "  json.dump(D,f)\n"
      ],
      "metadata": {
        "id": "KOe4PHLNIFsX"
      },
      "execution_count": 24,
      "outputs": []
    },
    {
      "cell_type": "code",
      "source": [
        "D={\"hello\":1,\"hey\":2}\n",
        "with open(\"file.json\",'w') as f:\n",
        "  json.dump(D,f,indent=4)\n"
      ],
      "metadata": {
        "id": "b5CwDOWTIXjp"
      },
      "execution_count": 25,
      "outputs": []
    },
    {
      "cell_type": "code",
      "source": [
        "#Dserialization\n",
        "import json\n",
        "with open('file.json','r') as f:\n",
        "  f=json.load(f)\n",
        "  print(f)\n",
        "  print(type(f))"
      ],
      "metadata": {
        "colab": {
          "base_uri": "https://localhost:8080/"
        },
        "id": "SEH3nrZoIl8C",
        "outputId": "e20fbdd7-31f0-437f-f515-4558593c1dea"
      },
      "execution_count": 26,
      "outputs": [
        {
          "output_type": "stream",
          "name": "stdout",
          "text": [
            "{'hello': 1, 'hey': 2}\n",
            "<class 'dict'>\n"
          ]
        }
      ]
    },
    {
      "cell_type": "code",
      "source": [
        "# both operation for tuple\n",
        "a=(1,2,3,4,5)\n",
        "import json\n",
        "\n",
        "with open(\"file.json\",'w') as f: #f is file handler object\n",
        "  json.dump(a,f) #it will give list but not tuple\n"
      ],
      "metadata": {
        "id": "EQ2zH-o4JGD1"
      },
      "execution_count": 27,
      "outputs": []
    },
    {
      "cell_type": "code",
      "source": [
        "#Serializing our own created onject\n",
        "class Person:\n",
        "  def __init__(self, name,age,height):\n",
        "    self.name=name\n",
        "    self.age=age\n",
        "    self.height=height\n",
        "\n",
        "p=Person(\"shyam\",23,23)\n",
        "\n",
        "def object(p):\n",
        "  if isinstance(p,Person):\n",
        "    return \"'name':{},'age':{},'height':{}\".format(p.name,p.age,p.height)\n",
        "\n",
        "\n",
        "with open(\"file.json\",'w') as f:\n",
        "  json.dump(p,f,default=object)\n"
      ],
      "metadata": {
        "id": "EkGh7eB-JntL"
      },
      "execution_count": 38,
      "outputs": []
    },
    {
      "cell_type": "code",
      "source": [
        "#deserialize\n",
        "import json\n",
        "with open(\"file.json\",'r') as f:\n",
        "  d=json.load(f)\n",
        "  print(d)\n",
        "  print(type(d))\n"
      ],
      "metadata": {
        "colab": {
          "base_uri": "https://localhost:8080/"
        },
        "id": "SJclIcTXMB6h",
        "outputId": "2c29b6dc-13b9-40a5-f1cc-540748c0d6f2"
      },
      "execution_count": 39,
      "outputs": [
        {
          "output_type": "stream",
          "name": "stdout",
          "text": [
            "'name':shyam,'age':23,'height':23\n",
            "<class 'str'>\n"
          ]
        }
      ]
    },
    {
      "cell_type": "markdown",
      "source": [
        "# Pickling\n",
        "using one file in another file using binary file format with the help of pickle"
      ],
      "metadata": {
        "id": "rAzMMqp8NcRi"
      }
    },
    {
      "cell_type": "markdown",
      "source": [
        "# What is the difference between pickle and json format.\n",
        "### json let's the user to store the data in the human readable format while pickle store it in binary file format.\n",
        "1. if you want to retain the functionality of your object and send it to different file use pickle.\n",
        "2. in json format the oject loose it's functionality. so if you want to acces the functions of an object you will not be able to do that with json.\n",
        "3. in Ml we will build our model on our machine and convert them into binary format using pickle file ang then send it to other machine by keeping the functionality of the model intact."
      ],
      "metadata": {
        "id": "pBduECFcPBPM"
      }
    },
    {
      "cell_type": "code",
      "source": [],
      "metadata": {
        "id": "ageQuU8uPAWF"
      },
      "execution_count": null,
      "outputs": []
    },
    {
      "cell_type": "code",
      "source": [
        "class Person:\n",
        "  def __init__(self, name,age,height):\n",
        "    self.name=name\n",
        "    self.age=age\n",
        "    self.height=height\n",
        "\n",
        "p=Person(\"shyam\",23,23)"
      ],
      "metadata": {
        "id": "v5YYOqYnMtxu"
      },
      "execution_count": 40,
      "outputs": []
    },
    {
      "cell_type": "code",
      "source": [
        "#pickle dump\n",
        "import pickle\n",
        "with open(\"demo.pkl\",'wb') as f:\n",
        " pickle.dump(p,f)"
      ],
      "metadata": {
        "id": "9KLsiwrzN0hg"
      },
      "execution_count": 43,
      "outputs": []
    },
    {
      "cell_type": "code",
      "source": [
        "with open('demo.pkl','rb') as f:\n",
        "  p=pickle.load(f)"
      ],
      "metadata": {
        "id": "v3h2H3iVOIny"
      },
      "execution_count": 45,
      "outputs": []
    },
    {
      "cell_type": "code",
      "source": [
        "p.name"
      ],
      "metadata": {
        "colab": {
          "base_uri": "https://localhost:8080/",
          "height": 35
        },
        "id": "8uMObbDVOtGo",
        "outputId": "f95575b2-d5a9-4648-ae8e-1eecca6726e5"
      },
      "execution_count": 46,
      "outputs": [
        {
          "output_type": "execute_result",
          "data": {
            "text/plain": [
              "'shyam'"
            ],
            "application/vnd.google.colaboratory.intrinsic+json": {
              "type": "string"
            }
          },
          "metadata": {},
          "execution_count": 46
        }
      ]
    },
    {
      "cell_type": "code",
      "source": [],
      "metadata": {
        "id": "EcX6rtMaO2cD"
      },
      "execution_count": null,
      "outputs": []
    }
  ]
}