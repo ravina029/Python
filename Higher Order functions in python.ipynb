{
 "cells": [
  {
   "cell_type": "markdown",
   "id": "057ca882",
   "metadata": {},
   "source": [
    "# Lambda function\n",
    "Also known as anonymous function\n",
    "1. Lambda has no return value instead return whole function\n",
    "2. one liner functions\n",
    "3. for one time usablity\n",
    "4. not used for code reusablity\n",
    "6. no name\n",
    "7. used along with higher order function i.e those function which require aother funcion as argument"
   ]
  },
  {
   "cell_type": "code",
   "execution_count": 3,
   "id": "084f7bbd",
   "metadata": {},
   "outputs": [
    {
     "name": "stdout",
     "output_type": "stream",
     "text": [
      "4\n"
     ]
    }
   ],
   "source": [
    "a=lambda x: x**2\n",
    "print(a(2))"
   ]
  },
  {
   "cell_type": "code",
   "execution_count": 4,
   "id": "04e8dc80",
   "metadata": {},
   "outputs": [
    {
     "name": "stdout",
     "output_type": "stream",
     "text": [
      "h\n"
     ]
    }
   ],
   "source": [
    "b=lambda x:x[0]\n",
    "print(b('hello'))"
   ]
  },
  {
   "cell_type": "code",
   "execution_count": 6,
   "id": "9bbbfe9a",
   "metadata": {},
   "outputs": [
    {
     "name": "stdout",
     "output_type": "stream",
     "text": [
      "odd\n",
      "even\n"
     ]
    }
   ],
   "source": [
    "b= lambda x:\"even\" if x%2==0 else \"odd\"\n",
    "print(b(25))\n",
    "print(b(22))"
   ]
  },
  {
   "cell_type": "code",
   "execution_count": 8,
   "id": "95273a95",
   "metadata": {},
   "outputs": [
    {
     "ename": "TypeError",
     "evalue": "unsupported operand type(s) for +: 'int' and 'function'",
     "output_type": "error",
     "traceback": [
      "\u001b[0;31m---------------------------------------------------------------------------\u001b[0m",
      "\u001b[0;31mTypeError\u001b[0m                                 Traceback (most recent call last)",
      "Cell \u001b[0;32mIn[8], line 4\u001b[0m\n\u001b[1;32m      2\u001b[0m L\u001b[38;5;241m=\u001b[39m[\u001b[38;5;241m12\u001b[39m,\u001b[38;5;241m3\u001b[39m,\u001b[38;5;241m45\u001b[39m,\u001b[38;5;241m57\u001b[39m,\u001b[38;5;241m78\u001b[39m,\u001b[38;5;241m89\u001b[39m]\n\u001b[1;32m      3\u001b[0m \u001b[38;5;28;01mfor\u001b[39;00m i \u001b[38;5;129;01min\u001b[39;00m L:\n\u001b[0;32m----> 4\u001b[0m     \u001b[38;5;28mprint\u001b[39m(\u001b[38;5;124m\"\u001b[39m\u001b[38;5;124msum of even numbers\u001b[39m\u001b[38;5;124m\"\u001b[39m,\u001b[38;5;28msum\u001b[39m([\u001b[38;5;28;01mlambda\u001b[39;00m i:i \u001b[38;5;28;01mif\u001b[39;00m i\u001b[38;5;241m%\u001b[39m\u001b[38;5;241m2\u001b[39m\u001b[38;5;241m==\u001b[39m\u001b[38;5;241m0\u001b[39m \u001b[38;5;28;01melse\u001b[39;00m \u001b[38;5;241m0\u001b[39m]))\n\u001b[1;32m      5\u001b[0m     \u001b[38;5;28mprint\u001b[39m(\u001b[38;5;124m\"\u001b[39m\u001b[38;5;124msum of odd numbers\u001b[39m\u001b[38;5;124m\"\u001b[39m,\u001b[38;5;28msum\u001b[39m([\u001b[38;5;28;01mlambda\u001b[39;00m i:i \u001b[38;5;28;01mif\u001b[39;00m i\u001b[38;5;241m%\u001b[39m\u001b[38;5;241m2\u001b[39m\u001b[38;5;241m!=\u001b[39m\u001b[38;5;241m0\u001b[39m \u001b[38;5;28;01melse\u001b[39;00m \u001b[38;5;241m0\u001b[39m]))\n\u001b[1;32m      6\u001b[0m     \u001b[38;5;28mprint\u001b[39m(\u001b[38;5;124m\"\u001b[39m\u001b[38;5;124msum of numbers devided by 3\u001b[39m\u001b[38;5;124m\"\u001b[39m,\u001b[38;5;28msum\u001b[39m([\u001b[38;5;28;01mlambda\u001b[39;00m i:i \u001b[38;5;28;01mif\u001b[39;00m i\u001b[38;5;241m%\u001b[39m\u001b[38;5;241m3\u001b[39m\u001b[38;5;241m==\u001b[39m\u001b[38;5;241m0\u001b[39m \u001b[38;5;28;01melse\u001b[39;00m \u001b[38;5;241m0\u001b[39m]))\n",
      "\u001b[0;31mTypeError\u001b[0m: unsupported operand type(s) for +: 'int' and 'function'"
     ]
    }
   ],
   "source": [
    "#Using with Higher order function\n",
    "L=[12,3,45,57,78,89]\n",
    "for i in L:\n",
    "    print(\"sum of even numbers\",sum([lambda i:i if i%2==0 else 0]))\n",
    "    print(\"sum of odd numbers\",sum([lambda i:i if i%2!=0 else 0]))\n",
    "    print(\"sum of numbers devided by 3\",sum([lambda i:i if i%3==0 else 0]))\n"
   ]
  },
  {
   "cell_type": "code",
   "execution_count": 12,
   "id": "9994e540",
   "metadata": {},
   "outputs": [
    {
     "name": "stdout",
     "output_type": "stream",
     "text": [
      "even sum 90\n",
      "odd sum 194\n",
      "3 multiple sum 195\n"
     ]
    }
   ],
   "source": [
    "def return_sum(func,L):\n",
    "    result=0\n",
    "    for i in L:\n",
    "        if func(i):\n",
    "            result=result+i\n",
    "    return result\n",
    "L = [12, 3, 45, 57, 78, 89]\n",
    "is_even = lambda i: i % 2 == 0 \n",
    "is_odd = lambda i: i % 2 != 0 \n",
    "divisible_by_3 = lambda i: i % 3 == 0 \n",
    "print(\"even sum\",return_sum(is_even,L))\n",
    "print(\"odd sum\",return_sum(is_odd,L))\n",
    "print(\"3 multiple sum\",return_sum(divisible_by_3,L))"
   ]
  },
  {
   "cell_type": "markdown",
   "id": "4455f7a4",
   "metadata": {},
   "source": [
    "# Map function: expect two arguments\n",
    "1. a function and an \n",
    "2. iterable(can be a list, dict, tuple, set etc)\n",
    "3. it work on every element of the iterable"
   ]
  },
  {
   "cell_type": "code",
   "execution_count": 18,
   "id": "3987b0cc",
   "metadata": {},
   "outputs": [
    {
     "name": "stdout",
     "output_type": "stream",
     "text": [
      "<map object at 0x1081fd840>\n",
      "[1, 8, 27, 64, 125, 216]\n"
     ]
    },
    {
     "data": {
      "text/plain": [
       "[True, False, False, False, True, False]"
      ]
     },
     "execution_count": 18,
     "metadata": {},
     "output_type": "execute_result"
    }
   ],
   "source": [
    "b=lambda x:x**3\n",
    "l=[1,2,3,4,5,6]\n",
    "a=map(b,l)\n",
    "print(a)\n",
    "print(list(a))\n",
    "list(map(lambda x:x%2==0,L))"
   ]
  },
  {
   "cell_type": "code",
   "execution_count": 14,
   "id": "3470ce91",
   "metadata": {},
   "outputs": [
    {
     "name": "stdout",
     "output_type": "stream",
     "text": [
      "Sum of even numbers: 90\n",
      "Sum of odd numbers: 194\n",
      "Sum of numbers divisible by 3: 195\n"
     ]
    }
   ],
   "source": [
    "L = [12, 3, 45, 57, 78, 89]\n",
    "\n",
    "# Define lambda functions\n",
    "is_even = lambda i: i if i % 2 == 0 else 0\n",
    "is_odd = lambda i: i if i % 2 != 0 else 0\n",
    "divisible_by_3 = lambda i: i if i % 3 == 0 else 0\n",
    "\n",
    "# Sum using higher order functions\n",
    "sum_even = sum(map(is_even, L))\n",
    "sum_odd = sum(map(is_odd, L))\n",
    "sum_divisible_by_3 = sum(map(divisible_by_3, L))\n",
    "\n",
    "print(\"Sum of even numbers:\", sum_even)\n",
    "print(\"Sum of odd numbers:\", sum_odd)\n",
    "print(\"Sum of numbers divisible by 3:\", sum_divisible_by_3)\n"
   ]
  },
  {
   "cell_type": "code",
   "execution_count": 20,
   "id": "d9ec9623",
   "metadata": {},
   "outputs": [
    {
     "name": "stdout",
     "output_type": "stream",
     "text": [
      "[1, 3, 5]\n"
     ]
    }
   ],
   "source": [
    "d=[\n",
    "    {\"a\":1,\n",
    "    \"b\":2},\n",
    "    \n",
    "    {\"a\":3,\n",
    "    \"b\":4},\n",
    "    \n",
    "    {\"a\":5,\n",
    "    \"b\":6}\n",
    "]\n",
    "\n",
    "print(list(map(lambda x:x['a'],d)))"
   ]
  },
  {
   "cell_type": "markdown",
   "id": "cd662e12",
   "metadata": {},
   "source": [
    "# Filter : \n",
    "when we need only selected items from an iterable\n",
    "1. it takes function defining the condition and list input\n",
    "2. it work with elements on which the condition is applied\n"
   ]
  },
  {
   "cell_type": "code",
   "execution_count": 23,
   "id": "bef4bd3b",
   "metadata": {},
   "outputs": [
    {
     "data": {
      "text/plain": [
       "['Banana', 'Orange', 'Guava', 'Mango', 'Grapes']"
      ]
     },
     "execution_count": 23,
     "metadata": {},
     "output_type": "execute_result"
    }
   ],
   "source": [
    "fruits=[\"Apple\",\"Banana\",\"Orange\",\"Guava\",\"Mango\",\"Grapes\"]\n",
    "list(filter(lambda x: \"a\" in x,fruits))"
   ]
  },
  {
   "cell_type": "code",
   "execution_count": 24,
   "id": "f8bf7e96",
   "metadata": {},
   "outputs": [
    {
     "data": {
      "text/plain": [
       "['Grapes']"
      ]
     },
     "execution_count": 24,
     "metadata": {},
     "output_type": "execute_result"
    }
   ],
   "source": [
    "list(filter(lambda x: \"s\" in x,fruits))"
   ]
  },
  {
   "cell_type": "code",
   "execution_count": 25,
   "id": "fdb78ff0",
   "metadata": {},
   "outputs": [
    {
     "data": {
      "text/plain": [
       "['Apple']"
      ]
     },
     "execution_count": 25,
     "metadata": {},
     "output_type": "execute_result"
    }
   ],
   "source": [
    "list(filter(lambda x: \"l\" in x,fruits))"
   ]
  },
  {
   "cell_type": "markdown",
   "id": "f9e106e9",
   "metadata": {},
   "source": [
    "# Reduce:\n",
    "not present directly in python but in functools liberary\n",
    "1. it takes function defining the condition and list input\n",
    "2. reduce function reduces the given list\n"
   ]
  },
  {
   "cell_type": "code",
   "execution_count": 28,
   "id": "95b709e1",
   "metadata": {},
   "outputs": [
    {
     "data": {
      "text/plain": [
       "38"
      ]
     },
     "execution_count": 28,
     "metadata": {},
     "output_type": "execute_result"
    }
   ],
   "source": [
    "import functools\n",
    "L=[1,2,3,4,5,6,8,9]\n",
    "\n",
    "functools.reduce(lambda x,y:x+y,L)\n"
   ]
  },
  {
   "cell_type": "code",
   "execution_count": 29,
   "id": "ddaec2b7",
   "metadata": {},
   "outputs": [
    {
     "data": {
      "text/plain": [
       "9"
      ]
     },
     "execution_count": 29,
     "metadata": {},
     "output_type": "execute_result"
    }
   ],
   "source": [
    "functools.reduce(lambda x,y:x if x>y else y, L)"
   ]
  },
  {
   "cell_type": "code",
   "execution_count": 30,
   "id": "0e690a8a",
   "metadata": {},
   "outputs": [
    {
     "data": {
      "text/plain": [
       "1"
      ]
     },
     "execution_count": 30,
     "metadata": {},
     "output_type": "execute_result"
    }
   ],
   "source": [
    "functools.reduce(lambda x,y:x if x<y else y, L)"
   ]
  },
  {
   "cell_type": "markdown",
   "id": "9d671429",
   "metadata": {},
   "source": [
    "# List Comprehensen"
   ]
  },
  {
   "cell_type": "code",
   "execution_count": 33,
   "id": "b0fa8165",
   "metadata": {},
   "outputs": [
    {
     "data": {
      "text/plain": [
       "[0, 2, 4, 6, 8]"
      ]
     },
     "execution_count": 33,
     "metadata": {},
     "output_type": "execute_result"
    }
   ],
   "source": [
    "L=[i for i in range(10) if i%2==0]\n",
    "L"
   ]
  },
  {
   "cell_type": "code",
   "execution_count": 35,
   "id": "4b1663ce",
   "metadata": {},
   "outputs": [
    {
     "data": {
      "text/plain": [
       "['Orange']"
      ]
     },
     "execution_count": 35,
     "metadata": {},
     "output_type": "execute_result"
    }
   ],
   "source": [
    "L=[\"Apple\",\"Banana\",\"Orange\",\"Guava\",\"Mango\",\"Grapes\"]\n",
    "[i for i in L if i[0]==\"O\"]"
   ]
  },
  {
   "cell_type": "code",
   "execution_count": 36,
   "id": "fa7aa286",
   "metadata": {},
   "outputs": [
    {
     "data": {
      "text/plain": [
       "['Banana', 'Orange', 'Guava', 'Mango', 'Grapes']"
      ]
     },
     "execution_count": 36,
     "metadata": {},
     "output_type": "execute_result"
    }
   ],
   "source": [
    "[i for i in L if \"a\" in i]"
   ]
  },
  {
   "cell_type": "markdown",
   "id": "bfbb1c80",
   "metadata": {},
   "source": [
    "# Dictionary Comprehensen"
   ]
  },
  {
   "cell_type": "code",
   "execution_count": 37,
   "id": "46a72c3c",
   "metadata": {},
   "outputs": [
    {
     "data": {
      "text/plain": [
       "dict_items([('name', 'ravi'), ('roll_no', 10), ('class', 12)])"
      ]
     },
     "execution_count": 37,
     "metadata": {},
     "output_type": "execute_result"
    }
   ],
   "source": [
    "D={\"name\":\"ravi\",\"roll_no\":10,\"class\":12}\n",
    "D.items()\n"
   ]
  },
  {
   "cell_type": "code",
   "execution_count": 39,
   "id": "d4e314c4",
   "metadata": {},
   "outputs": [
    {
     "data": {
      "text/plain": [
       "{'roll_no': 10}"
      ]
     },
     "execution_count": 39,
     "metadata": {},
     "output_type": "execute_result"
    }
   ],
   "source": [
    "{key:value for key,value in D.items() if len(key)>6}"
   ]
  },
  {
   "cell_type": "code",
   "execution_count": 40,
   "id": "20cc23d5",
   "metadata": {},
   "outputs": [
    {
     "data": {
      "text/plain": [
       "{'roll_no': 10, 'class': 12}"
      ]
     },
     "execution_count": 40,
     "metadata": {},
     "output_type": "execute_result"
    }
   ],
   "source": [
    "{key:value for key,value in D.items() if type(value)==int}"
   ]
  },
  {
   "cell_type": "code",
   "execution_count": 41,
   "id": "5631d595",
   "metadata": {},
   "outputs": [
    {
     "data": {
      "text/plain": [
       "{'name': 'ravi', 'roll_no': 10, 'class': 12}"
      ]
     },
     "execution_count": 41,
     "metadata": {},
     "output_type": "execute_result"
    }
   ],
   "source": [
    "{key:value for key,value in D.items() if type(key)==str}"
   ]
  },
  {
   "cell_type": "code",
   "execution_count": 42,
   "id": "05dae80c",
   "metadata": {},
   "outputs": [
    {
     "data": {
      "text/plain": [
       "{'name': 'ravi'}"
      ]
     },
     "execution_count": 42,
     "metadata": {},
     "output_type": "execute_result"
    }
   ],
   "source": [
    "{key:value for key,value in D.items() if type(value)==str}"
   ]
  },
  {
   "cell_type": "code",
   "execution_count": null,
   "id": "9b5d0c43",
   "metadata": {},
   "outputs": [],
   "source": [
    " "
   ]
  }
 ],
 "metadata": {
  "kernelspec": {
   "display_name": "Python 3 (ipykernel)",
   "language": "python",
   "name": "python3"
  },
  "language_info": {
   "codemirror_mode": {
    "name": "ipython",
    "version": 3
   },
   "file_extension": ".py",
   "mimetype": "text/x-python",
   "name": "python",
   "nbconvert_exporter": "python",
   "pygments_lexer": "ipython3",
   "version": "3.11.4"
  }
 },
 "nbformat": 4,
 "nbformat_minor": 5
}
