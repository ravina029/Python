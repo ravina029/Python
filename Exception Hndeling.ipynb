{
 "cells": [
  {
   "cell_type": "markdown",
   "id": "0389b523",
   "metadata": {},
   "source": [
    "# Exception Handeling"
   ]
  },
  {
   "cell_type": "code",
   "execution_count": 1,
   "id": "94461c00",
   "metadata": {},
   "outputs": [
    {
     "name": "stdout",
     "output_type": "stream",
     "text": [
      "some error has occured\n"
     ]
    }
   ],
   "source": [
    "try:\n",
    "    a=b\n",
    "except:\n",
    "    print(\"some error has occured\") #but it will not tell anything about the error, for that we will use class Exception"
   ]
  },
  {
   "cell_type": "code",
   "execution_count": 3,
   "id": "650346cd",
   "metadata": {},
   "outputs": [
    {
     "name": "stdout",
     "output_type": "stream",
     "text": [
      "name 'b' is not defined\n"
     ]
    }
   ],
   "source": [
    "try:\n",
    "    a=b\n",
    "except Exception as e:\n",
    "    print(e)"
   ]
  },
  {
   "cell_type": "code",
   "execution_count": 4,
   "id": "6d2c8b99",
   "metadata": {},
   "outputs": [
    {
     "ename": "NameError",
     "evalue": "name 'b' is not defined",
     "output_type": "error",
     "traceback": [
      "\u001b[0;31m---------------------------------------------------------------------------\u001b[0m",
      "\u001b[0;31mNameError\u001b[0m                                 Traceback (most recent call last)",
      "Cell \u001b[0;32mIn[4], line 4\u001b[0m\n\u001b[1;32m      2\u001b[0m     a\u001b[38;5;241m=\u001b[39mb\n\u001b[1;32m      3\u001b[0m \u001b[38;5;28;01mexcept\u001b[39;00m \u001b[38;5;167;01mException\u001b[39;00m \u001b[38;5;28;01mas\u001b[39;00m e:\n\u001b[0;32m----> 4\u001b[0m     \u001b[38;5;28;01mraise\u001b[39;00m e\n",
      "Cell \u001b[0;32mIn[4], line 2\u001b[0m\n\u001b[1;32m      1\u001b[0m \u001b[38;5;28;01mtry\u001b[39;00m:\n\u001b[0;32m----> 2\u001b[0m     a\u001b[38;5;241m=\u001b[39mb\n\u001b[1;32m      3\u001b[0m \u001b[38;5;28;01mexcept\u001b[39;00m \u001b[38;5;167;01mException\u001b[39;00m \u001b[38;5;28;01mas\u001b[39;00m e:\n\u001b[1;32m      4\u001b[0m     \u001b[38;5;28;01mraise\u001b[39;00m e\n",
      "\u001b[0;31mNameError\u001b[0m: name 'b' is not defined"
     ]
    }
   ],
   "source": [
    "try:\n",
    "    a=b\n",
    "except Exception as e:\n",
    "    raise e"
   ]
  },
  {
   "cell_type": "code",
   "execution_count": 5,
   "id": "66fc63a2",
   "metadata": {},
   "outputs": [
    {
     "name": "stdout",
     "output_type": "stream",
     "text": [
      "name 'a' is not defined\n",
      "the execution is done\n"
     ]
    }
   ],
   "source": [
    "try:\n",
    "    a/b\n",
    "except Exception as e:\n",
    "    print(e)\n",
    "else:\n",
    "    print(a/b)\n",
    "finally: #this will close the databse after the execution is done\n",
    "    print(\"the execution is done\")"
   ]
  },
  {
   "cell_type": "code",
   "execution_count": 6,
   "id": "7de298ec",
   "metadata": {},
   "outputs": [
    {
     "ename": "SyntaxError",
     "evalue": "Missing parentheses in call to 'print'. Did you mean print(...)? (2406190520.py, line 3)",
     "output_type": "error",
     "traceback": [
      "\u001b[0;36m  Cell \u001b[0;32mIn[6], line 3\u001b[0;36m\u001b[0m\n\u001b[0;31m    print 'hello'\u001b[0m\n\u001b[0m    ^\u001b[0m\n\u001b[0;31mSyntaxError\u001b[0m\u001b[0;31m:\u001b[0m Missing parentheses in call to 'print'. Did you mean print(...)?\n"
     ]
    }
   ],
   "source": [
    "# Syntax error\n",
    "\n",
    "print 'hello'"
   ]
  },
  {
   "cell_type": "code",
   "execution_count": 7,
   "id": "d54ac1c8",
   "metadata": {},
   "outputs": [
    {
     "ename": "IndentationError",
     "evalue": "expected an indented block after function definition on line 2 (560929402.py, line 3)",
     "output_type": "error",
     "traceback": [
      "\u001b[0;36m  Cell \u001b[0;32mIn[7], line 3\u001b[0;36m\u001b[0m\n\u001b[0;31m    print('hey')\u001b[0m\n\u001b[0m    ^\u001b[0m\n\u001b[0;31mIndentationError\u001b[0m\u001b[0;31m:\u001b[0m expected an indented block after function definition on line 2\n"
     ]
    }
   ],
   "source": [
    "#indentation error\n",
    "def hello():\n",
    "print('hey')"
   ]
  },
  {
   "cell_type": "code",
   "execution_count": 8,
   "id": "0cf1224c",
   "metadata": {},
   "outputs": [
    {
     "ename": "IndexError",
     "evalue": "list index out of range",
     "output_type": "error",
     "traceback": [
      "\u001b[0;31m---------------------------------------------------------------------------\u001b[0m",
      "\u001b[0;31mIndexError\u001b[0m                                Traceback (most recent call last)",
      "Cell \u001b[0;32mIn[8], line 3\u001b[0m\n\u001b[1;32m      1\u001b[0m \u001b[38;5;66;03m#indexerror\u001b[39;00m\n\u001b[1;32m      2\u001b[0m l\u001b[38;5;241m=\u001b[39m[\u001b[38;5;241m1\u001b[39m,\u001b[38;5;241m2\u001b[39m,\u001b[38;5;241m3\u001b[39m,\u001b[38;5;241m4\u001b[39m]\n\u001b[0;32m----> 3\u001b[0m l[\u001b[38;5;241m4\u001b[39m]\n",
      "\u001b[0;31mIndexError\u001b[0m: list index out of range"
     ]
    }
   ],
   "source": [
    "#indexerror\n",
    "l=[1,2,3,4]\n",
    "l[4]"
   ]
  },
  {
   "cell_type": "code",
   "execution_count": 9,
   "id": "d1511865",
   "metadata": {},
   "outputs": [
    {
     "ename": "ModuleNotFoundError",
     "evalue": "No module named 'nump'",
     "output_type": "error",
     "traceback": [
      "\u001b[0;31m---------------------------------------------------------------------------\u001b[0m",
      "\u001b[0;31mModuleNotFoundError\u001b[0m                       Traceback (most recent call last)",
      "Cell \u001b[0;32mIn[9], line 2\u001b[0m\n\u001b[1;32m      1\u001b[0m \u001b[38;5;66;03m#module not found error\u001b[39;00m\n\u001b[0;32m----> 2\u001b[0m \u001b[38;5;28;01mimport\u001b[39;00m \u001b[38;5;21;01mnump\u001b[39;00m\n",
      "\u001b[0;31mModuleNotFoundError\u001b[0m: No module named 'nump'"
     ]
    }
   ],
   "source": [
    "#module not found error\n",
    "import nump"
   ]
  },
  {
   "cell_type": "code",
   "execution_count": 11,
   "id": "5d563e2a",
   "metadata": {},
   "outputs": [
    {
     "ename": "KeyError",
     "evalue": "5",
     "output_type": "error",
     "traceback": [
      "\u001b[0;31m---------------------------------------------------------------------------\u001b[0m",
      "\u001b[0;31mKeyError\u001b[0m                                  Traceback (most recent call last)",
      "Cell \u001b[0;32mIn[11], line 3\u001b[0m\n\u001b[1;32m      1\u001b[0m \u001b[38;5;66;03m#keyerro\u001b[39;00m\n\u001b[1;32m      2\u001b[0m a\u001b[38;5;241m=\u001b[39m{\u001b[38;5;241m1\u001b[39m:\u001b[38;5;241m2\u001b[39m,\u001b[38;5;241m3\u001b[39m:\u001b[38;5;241m4\u001b[39m}\n\u001b[0;32m----> 3\u001b[0m \u001b[38;5;28mprint\u001b[39m(a[\u001b[38;5;241m5\u001b[39m])\n",
      "\u001b[0;31mKeyError\u001b[0m: 5"
     ]
    }
   ],
   "source": [
    "#keyerro\n",
    "a={1:2,3:4}\n",
    "print(a[5])"
   ]
  },
  {
   "cell_type": "code",
   "execution_count": 12,
   "id": "dbaabdd3",
   "metadata": {},
   "outputs": [
    {
     "ename": "TypeError",
     "evalue": "unsupported operand type(s) for +: 'int' and 'str'",
     "output_type": "error",
     "traceback": [
      "\u001b[0;31m---------------------------------------------------------------------------\u001b[0m",
      "\u001b[0;31mTypeError\u001b[0m                                 Traceback (most recent call last)",
      "Cell \u001b[0;32mIn[12], line 2\u001b[0m\n\u001b[1;32m      1\u001b[0m \u001b[38;5;66;03m#Type error\u001b[39;00m\n\u001b[0;32m----> 2\u001b[0m \u001b[38;5;241m1\u001b[39m\u001b[38;5;241m+\u001b[39m\u001b[38;5;124m'\u001b[39m\u001b[38;5;124mb\u001b[39m\u001b[38;5;124m'\u001b[39m\n",
      "\u001b[0;31mTypeError\u001b[0m: unsupported operand type(s) for +: 'int' and 'str'"
     ]
    }
   ],
   "source": [
    "#Type error\n",
    "1+'b'\n",
    "\n"
   ]
  },
  {
   "cell_type": "code",
   "execution_count": 14,
   "id": "dcc54238",
   "metadata": {},
   "outputs": [
    {
     "ename": "NameError",
     "evalue": "name 'f' is not defined",
     "output_type": "error",
     "traceback": [
      "\u001b[0;31m---------------------------------------------------------------------------\u001b[0m",
      "\u001b[0;31mNameError\u001b[0m                                 Traceback (most recent call last)",
      "Cell \u001b[0;32mIn[14], line 2\u001b[0m\n\u001b[1;32m      1\u001b[0m \u001b[38;5;66;03m#name error\u001b[39;00m\n\u001b[0;32m----> 2\u001b[0m \u001b[38;5;28mprint\u001b[39m(f)\n",
      "\u001b[0;31mNameError\u001b[0m: name 'f' is not defined"
     ]
    }
   ],
   "source": [
    "#name error\n",
    "print(f)"
   ]
  },
  {
   "cell_type": "code",
   "execution_count": 17,
   "id": "ff9c2603",
   "metadata": {},
   "outputs": [
    {
     "ename": "AttributeError",
     "evalue": "'list' object has no attribute 'upper'",
     "output_type": "error",
     "traceback": [
      "\u001b[0;31m---------------------------------------------------------------------------\u001b[0m",
      "\u001b[0;31mAttributeError\u001b[0m                            Traceback (most recent call last)",
      "Cell \u001b[0;32mIn[17], line 3\u001b[0m\n\u001b[1;32m      1\u001b[0m \u001b[38;5;66;03m#Attribute error\u001b[39;00m\n\u001b[1;32m      2\u001b[0m L\u001b[38;5;241m=\u001b[39m[\u001b[38;5;241m1\u001b[39m,\u001b[38;5;241m2\u001b[39m,\u001b[38;5;241m3\u001b[39m]\n\u001b[0;32m----> 3\u001b[0m L\u001b[38;5;241m.\u001b[39mupper()\n",
      "\u001b[0;31mAttributeError\u001b[0m: 'list' object has no attribute 'upper'"
     ]
    }
   ],
   "source": [
    "#Attribute error\n",
    "L=[1,2,3]\n",
    "L.upper()"
   ]
  },
  {
   "cell_type": "markdown",
   "id": "19a50eac",
   "metadata": {},
   "source": [
    "# Exceptions:\n",
    "These are the errors raised by interpreter during the execution but not due to the code error.\n",
    "1. memory overflow\n",
    "2. divide by zero\n",
    "3. Database error\n",
    "\n",
    "\n",
    "# How to do: \n",
    "using try except block\n",
    "\n",
    "# When to do \n",
    "Whenever you are using external file, use inside the try except block\n"
   ]
  },
  {
   "cell_type": "code",
   "execution_count": 18,
   "id": "4eec0ba7",
   "metadata": {},
   "outputs": [],
   "source": [
    "with open('sample.txt','w') as f:\n",
    "  f.write(\"new input arrived\")"
   ]
  },
  {
   "cell_type": "code",
   "execution_count": 19,
   "id": "7b872301",
   "metadata": {},
   "outputs": [
    {
     "name": "stdout",
     "output_type": "stream",
     "text": [
      "new input arrived\n"
     ]
    }
   ],
   "source": [
    "try:\n",
    "    with open('sample.txt','r') as f:\n",
    "        print(f.read())\n",
    "except:\n",
    "    print('problem in opening the file')\n"
   ]
  },
  {
   "cell_type": "code",
   "execution_count": 21,
   "id": "995825ff",
   "metadata": {},
   "outputs": [
    {
     "name": "stdout",
     "output_type": "stream",
     "text": [
      "file is not present\n"
     ]
    }
   ],
   "source": [
    "try:\n",
    "    with open('happy.txt','r') as f:\n",
    "        print(f.read())\n",
    "except:\n",
    "    print('file is not present')\n"
   ]
  },
  {
   "cell_type": "code",
   "execution_count": 23,
   "id": "4af9a24a",
   "metadata": {},
   "outputs": [
    {
     "name": "stdout",
     "output_type": "stream",
     "text": [
      "error occured\n"
     ]
    }
   ],
   "source": [
    "# can be many errors\n",
    "try:\n",
    "    with open('happy.txt','r') as f:\n",
    "        print(f.read())\n",
    "    \n",
    "    print(m)\n",
    "except:\n",
    "    print('error occured') # but this will not give specific error\n"
   ]
  },
  {
   "cell_type": "code",
   "execution_count": 24,
   "id": "e393a46b",
   "metadata": {},
   "outputs": [
    {
     "ename": "FileNotFoundError",
     "evalue": "[Errno 2] No such file or directory: 'happy.txt'",
     "output_type": "error",
     "traceback": [
      "\u001b[0;31m---------------------------------------------------------------------------\u001b[0m",
      "\u001b[0;31mFileNotFoundError\u001b[0m                         Traceback (most recent call last)",
      "Cell \u001b[0;32mIn[24], line 9\u001b[0m\n\u001b[1;32m      7\u001b[0m     \u001b[38;5;28mprint\u001b[39m(m)\n\u001b[1;32m      8\u001b[0m \u001b[38;5;28;01mexcept\u001b[39;00m \u001b[38;5;167;01mException\u001b[39;00m \u001b[38;5;28;01mas\u001b[39;00m e:\n\u001b[0;32m----> 9\u001b[0m     \u001b[38;5;28;01mraise\u001b[39;00m e\n",
      "Cell \u001b[0;32mIn[24], line 4\u001b[0m\n\u001b[1;32m      1\u001b[0m \u001b[38;5;66;03m#cathing specific exception\u001b[39;00m\n\u001b[1;32m      3\u001b[0m \u001b[38;5;28;01mtry\u001b[39;00m:\n\u001b[0;32m----> 4\u001b[0m     \u001b[38;5;28;01mwith\u001b[39;00m \u001b[38;5;28mopen\u001b[39m(\u001b[38;5;124m'\u001b[39m\u001b[38;5;124mhappy.txt\u001b[39m\u001b[38;5;124m'\u001b[39m,\u001b[38;5;124m'\u001b[39m\u001b[38;5;124mr\u001b[39m\u001b[38;5;124m'\u001b[39m) \u001b[38;5;28;01mas\u001b[39;00m f:\n\u001b[1;32m      5\u001b[0m         \u001b[38;5;28mprint\u001b[39m(f\u001b[38;5;241m.\u001b[39mread())\n\u001b[1;32m      7\u001b[0m     \u001b[38;5;28mprint\u001b[39m(m)\n",
      "File \u001b[0;32m~/anaconda3/lib/python3.11/site-packages/IPython/core/interactiveshell.py:284\u001b[0m, in \u001b[0;36m_modified_open\u001b[0;34m(file, *args, **kwargs)\u001b[0m\n\u001b[1;32m    277\u001b[0m \u001b[38;5;28;01mif\u001b[39;00m file \u001b[38;5;129;01min\u001b[39;00m {\u001b[38;5;241m0\u001b[39m, \u001b[38;5;241m1\u001b[39m, \u001b[38;5;241m2\u001b[39m}:\n\u001b[1;32m    278\u001b[0m     \u001b[38;5;28;01mraise\u001b[39;00m \u001b[38;5;167;01mValueError\u001b[39;00m(\n\u001b[1;32m    279\u001b[0m         \u001b[38;5;124mf\u001b[39m\u001b[38;5;124m\"\u001b[39m\u001b[38;5;124mIPython won\u001b[39m\u001b[38;5;124m'\u001b[39m\u001b[38;5;124mt let you open fd=\u001b[39m\u001b[38;5;132;01m{\u001b[39;00mfile\u001b[38;5;132;01m}\u001b[39;00m\u001b[38;5;124m by default \u001b[39m\u001b[38;5;124m\"\u001b[39m\n\u001b[1;32m    280\u001b[0m         \u001b[38;5;124m\"\u001b[39m\u001b[38;5;124mas it is likely to crash IPython. If you know what you are doing, \u001b[39m\u001b[38;5;124m\"\u001b[39m\n\u001b[1;32m    281\u001b[0m         \u001b[38;5;124m\"\u001b[39m\u001b[38;5;124myou can use builtins\u001b[39m\u001b[38;5;124m'\u001b[39m\u001b[38;5;124m open.\u001b[39m\u001b[38;5;124m\"\u001b[39m\n\u001b[1;32m    282\u001b[0m     )\n\u001b[0;32m--> 284\u001b[0m \u001b[38;5;28;01mreturn\u001b[39;00m io_open(file, \u001b[38;5;241m*\u001b[39margs, \u001b[38;5;241m*\u001b[39m\u001b[38;5;241m*\u001b[39mkwargs)\n",
      "\u001b[0;31mFileNotFoundError\u001b[0m: [Errno 2] No such file or directory: 'happy.txt'"
     ]
    }
   ],
   "source": [
    "#cathing specific exception\n",
    "\n",
    "try:\n",
    "    with open('happy.txt','r') as f:\n",
    "        print(f.read())\n",
    "    \n",
    "    print(m)\n",
    "except Exception as e:\n",
    "    raise e"
   ]
  },
  {
   "cell_type": "code",
   "execution_count": 25,
   "id": "d325a852",
   "metadata": {},
   "outputs": [
    {
     "name": "stdout",
     "output_type": "stream",
     "text": [
      "[Errno 2] No such file or directory: 'happy.txt'\n"
     ]
    }
   ],
   "source": [
    "try:\n",
    "    with open('happy.txt','r') as f:\n",
    "        print(f.read())\n",
    "    \n",
    "    print(m)\n",
    "except Exception as e: #Still not giving all the errors\n",
    "    print(e)"
   ]
  },
  {
   "cell_type": "code",
   "execution_count": 29,
   "id": "7980b0d1",
   "metadata": {},
   "outputs": [
    {
     "name": "stdout",
     "output_type": "stream",
     "text": [
      "new input arrived\n",
      "Error: name is not defined\n"
     ]
    }
   ],
   "source": [
    "try:\n",
    "    with open('sample.txt','r') as f:\n",
    "        print(f.read())\n",
    "    \n",
    "    print(m)\n",
    "except FileNotFoundError:\n",
    "    print('file not found')\n",
    "except NameError:\n",
    "    print('Error: name is not defined')\n",
    "except Exception as e: #Still not giving all the errors\n",
    "    print(e)"
   ]
  },
  {
   "cell_type": "code",
   "execution_count": 32,
   "id": "483a9ca1",
   "metadata": {},
   "outputs": [
    {
     "name": "stdout",
     "output_type": "stream",
     "text": [
      "new input arrived\n",
      "m\n",
      "Erro:zero division error\n"
     ]
    }
   ],
   "source": [
    "#Catching the different types of error in single try catch block\n",
    "#always put the generic exception block in the last otherwise it will not let the execution of custom exception blocks \n",
    "\n",
    "try:\n",
    "    with open('sample.txt','r') as f:\n",
    "        print(f.read())\n",
    "    \n",
    "    print('m')\n",
    "    print(1/0)\n",
    "except FileNotFoundError:\n",
    "    print('file not found')\n",
    "except NameError:\n",
    "    print('Error: name is not defined')\n",
    "except ZeroDivisionError:\n",
    "    print( \"Erro:zero division error\")\n",
    "except Exception as e: #Still not giving all the errors\n",
    "    print(e)"
   ]
  },
  {
   "cell_type": "code",
   "execution_count": 33,
   "id": "d44655b5",
   "metadata": {},
   "outputs": [
    {
     "name": "stdout",
     "output_type": "stream",
     "text": [
      "new input arrived\n",
      "m\n",
      "0.5\n",
      "execution is done\n"
     ]
    }
   ],
   "source": [
    "try:\n",
    "    with open('sample.txt','r') as f:\n",
    "        print(f.read())\n",
    "    \n",
    "    print('m')\n",
    "    print(1/2)\n",
    "except FileNotFoundError:\n",
    "    print('file not found')\n",
    "except NameError:\n",
    "    print('Error: name is not defined')\n",
    "except ZeroDivisionError:\n",
    "    print( \"Erro:zero division error\")\n",
    "except Exception as e: #Still not giving all the errors\n",
    "    print(e)\n",
    "    \n",
    "else:\n",
    "    print(\"execution is done\")\n",
    "    \n"
   ]
  },
  {
   "cell_type": "code",
   "execution_count": 35,
   "id": "67169d3f",
   "metadata": {},
   "outputs": [
    {
     "name": "stdout",
     "output_type": "stream",
     "text": [
      "new input arrived\n",
      "m\n",
      "Erro:zero division error\n",
      "we are done\n"
     ]
    }
   ],
   "source": [
    "try:\n",
    "    with open('sample.txt','r') as f:\n",
    "        print(f.read())\n",
    "    \n",
    "    print('m')\n",
    "    print(1/0)\n",
    "except FileNotFoundError:\n",
    "    print('file not found')\n",
    "except NameError:\n",
    "    print('Error: name is not defined')\n",
    "except ZeroDivisionError:\n",
    "    print( \"Erro:zero division error\")\n",
    "except Exception as e: #Still not giving all the errors\n",
    "    print(e)\n",
    "    \n",
    "else:\n",
    "    print(\"execution is done\")\n",
    "    \n",
    "finally:\n",
    "    print('we are done')"
   ]
  },
  {
   "cell_type": "code",
   "execution_count": 36,
   "id": "3d3dfd41",
   "metadata": {},
   "outputs": [
    {
     "ename": "NameError",
     "evalue": "just trying",
     "output_type": "error",
     "traceback": [
      "\u001b[0;31m---------------------------------------------------------------------------\u001b[0m",
      "\u001b[0;31mNameError\u001b[0m                                 Traceback (most recent call last)",
      "Cell \u001b[0;32mIn[36], line 2\u001b[0m\n\u001b[1;32m      1\u001b[0m \u001b[38;5;66;03m# raising error \u001b[39;00m\n\u001b[0;32m----> 2\u001b[0m \u001b[38;5;28;01mraise\u001b[39;00m \u001b[38;5;167;01mNameError\u001b[39;00m(\u001b[38;5;124m\"\u001b[39m\u001b[38;5;124mjust trying\u001b[39m\u001b[38;5;124m\"\u001b[39m)\n",
      "\u001b[0;31mNameError\u001b[0m: just trying"
     ]
    }
   ],
   "source": [
    "# raising error \n",
    "raise NameError(\"just trying\")"
   ]
  },
  {
   "cell_type": "code",
   "execution_count": 39,
   "id": "30725b3a",
   "metadata": {},
   "outputs": [
    {
     "name": "stdout",
     "output_type": "stream",
     "text": [
      "not enough balance\n"
     ]
    }
   ],
   "source": [
    "class Bank:\n",
    "    def __init__(self,balance):\n",
    "        self.balance=balance\n",
    "        \n",
    "    def widraw(self,amount):\n",
    "        if amount>self.balance:\n",
    "            raise Exception(\"not enough balance\")\n",
    "        if self.amount<0:\n",
    "            raise exception(\"amount can't be negative\")\n",
    "obj=Bank(5000)\n",
    "\n",
    "try:\n",
    "    obj.widraw(7000)\n",
    "except Exception as e:\n",
    "    print(e)\n",
    "            \n",
    "            "
   ]
  },
  {
   "cell_type": "markdown",
   "id": "bad8e173",
   "metadata": {},
   "source": [
    "# Creating Custom Exception\n",
    "# But why: to catch the application based specific errors that can be raised"
   ]
  },
  {
   "cell_type": "code",
   "execution_count": 43,
   "id": "bac3a668",
   "metadata": {},
   "outputs": [
    {
     "name": "stdout",
     "output_type": "stream",
     "text": [
      "not enough balance\n",
      "you can safely exit by deleting your credentials\n"
     ]
    }
   ],
   "source": [
    "class CustomException(Exception):\n",
    "    def __init__(self,message):\n",
    "        print(message)\n",
    "    def ensure(self):\n",
    "        print(\"you can safely exit by deleting your credentials\")\n",
    "        \n",
    "class Bank:\n",
    "    def __init__(self,balance):\n",
    "        self.balance=balance\n",
    "        \n",
    "    def widraw(self,amount):\n",
    "        if amount>self.balance:\n",
    "            raise CustomException(\"not enough balance\")\n",
    "        if self.amount<0:\n",
    "            raise CustomException(\"amount can't be negative\")\n",
    "obj=Bank(5000)\n",
    "\n",
    "try:\n",
    "    obj.widraw(7000)\n",
    "except CustomException as e:\n",
    "    e.ensure()"
   ]
  },
  {
   "cell_type": "code",
   "execution_count": null,
   "id": "d5707e45",
   "metadata": {},
   "outputs": [],
   "source": []
  }
 ],
 "metadata": {
  "kernelspec": {
   "display_name": "Python 3 (ipykernel)",
   "language": "python",
   "name": "python3"
  },
  "language_info": {
   "codemirror_mode": {
    "name": "ipython",
    "version": 3
   },
   "file_extension": ".py",
   "mimetype": "text/x-python",
   "name": "python",
   "nbconvert_exporter": "python",
   "pygments_lexer": "ipython3",
   "version": "3.11.4"
  }
 },
 "nbformat": 4,
 "nbformat_minor": 5
}
