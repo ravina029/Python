{
 "cells": [
  {
   "cell_type": "markdown",
   "id": "dbff40d6",
   "metadata": {},
   "source": [
    "# String\n",
    "\n",
    "in python string are unicode sequence of characters"
   ]
  },
  {
   "cell_type": "code",
   "execution_count": 6,
   "id": "34fc4879",
   "metadata": {},
   "outputs": [
    {
     "name": "stdout",
     "output_type": "stream",
     "text": [
      "hello \t\n",
      "h\n",
      "e\n",
      "l\n",
      "l\n",
      "o\n"
     ]
    }
   ],
   "source": [
    "#accessing substring from a string \n",
    "c=\"hello\"\n",
    "print(c,\"\\t\")\n",
    "for i in c:\n",
    "    print(i)"
   ]
  },
  {
   "cell_type": "code",
   "execution_count": 7,
   "id": "7acbd0a6",
   "metadata": {},
   "outputs": [
    {
     "name": "stdout",
     "output_type": "stream",
     "text": [
      "l\n"
     ]
    }
   ],
   "source": [
    "print(c[3]) #positive indexing"
   ]
  },
  {
   "cell_type": "code",
   "execution_count": 9,
   "id": "a72fe186",
   "metadata": {},
   "outputs": [
    {
     "name": "stdout",
     "output_type": "stream",
     "text": [
      "o\n"
     ]
    }
   ],
   "source": [
    "print(c[-1]) #-ve indexing"
   ]
  },
  {
   "cell_type": "code",
   "execution_count": 30,
   "id": "68cca515",
   "metadata": {},
   "outputs": [
    {
     "name": "stdout",
     "output_type": "stream",
     "text": [
      "y t\n",
      "hey t\n",
      "ther\n",
      "hey t\n",
      "hey there\n",
      "hytee\n",
      "te\n"
     ]
    }
   ],
   "source": [
    "# slicing\n",
    "c=\"hey there\"\n",
    "print(c[2:5])\n",
    "print(c[0:5])\n",
    "print(c[4:8])\n",
    "print(c[:5])\n",
    "print(c[:])\n",
    "print(c[0:9:2])\n",
    "print(c[-5:-2:2])"
   ]
  },
  {
   "cell_type": "code",
   "execution_count": 31,
   "id": "a5bdeb84",
   "metadata": {},
   "outputs": [
    {
     "name": "stdout",
     "output_type": "stream",
     "text": [
      "ereht yeh\n"
     ]
    }
   ],
   "source": [
    "print(c[::-1])"
   ]
  },
  {
   "cell_type": "code",
   "execution_count": 33,
   "id": "b6b43fe7",
   "metadata": {},
   "outputs": [
    {
     "name": "stdout",
     "output_type": "stream",
     "text": [
      "ereh\n"
     ]
    }
   ],
   "source": [
    "print(c[-1:-5:-1])"
   ]
  },
  {
   "cell_type": "code",
   "execution_count": 34,
   "id": "bad2bddc",
   "metadata": {},
   "outputs": [
    {
     "ename": "TypeError",
     "evalue": "'str' object does not support item assignment",
     "output_type": "error",
     "traceback": [
      "\u001b[0;31m---------------------------------------------------------------------------\u001b[0m",
      "\u001b[0;31mTypeError\u001b[0m                                 Traceback (most recent call last)",
      "Cell \u001b[0;32mIn[34], line 1\u001b[0m\n\u001b[0;32m----> 1\u001b[0m c[\u001b[38;5;241m0\u001b[39m]\u001b[38;5;241m=\u001b[39m\u001b[38;5;124m\"\u001b[39m\u001b[38;5;124mr\u001b[39m\u001b[38;5;124m\"\u001b[39m\n",
      "\u001b[0;31mTypeError\u001b[0m: 'str' object does not support item assignment"
     ]
    }
   ],
   "source": [
    "c[0]=\"r\" #strings are immuatble datatype"
   ]
  },
  {
   "cell_type": "code",
   "execution_count": 45,
   "id": "fe3d1f5d",
   "metadata": {},
   "outputs": [],
   "source": [
    "c=\"world\""
   ]
  },
  {
   "cell_type": "code",
   "execution_count": 46,
   "id": "d249242d",
   "metadata": {},
   "outputs": [],
   "source": [
    "#Deletion\n",
    "#del c[0]\n",
    "del c"
   ]
  },
  {
   "cell_type": "code",
   "execution_count": 41,
   "id": "087db5fb",
   "metadata": {},
   "outputs": [
    {
     "ename": "NameError",
     "evalue": "name 'c' is not defined",
     "output_type": "error",
     "traceback": [
      "\u001b[0;31m---------------------------------------------------------------------------\u001b[0m",
      "\u001b[0;31mNameError\u001b[0m                                 Traceback (most recent call last)",
      "Cell \u001b[0;32mIn[41], line 1\u001b[0m\n\u001b[0;32m----> 1\u001b[0m \u001b[38;5;28mprint\u001b[39m(c)\n",
      "\u001b[0;31mNameError\u001b[0m: name 'c' is not defined"
     ]
    }
   ],
   "source": [
    "print(c)"
   ]
  },
  {
   "cell_type": "code",
   "execution_count": 47,
   "id": "322f3555",
   "metadata": {},
   "outputs": [],
   "source": [
    "#srings are immutable \n",
    "# strings are not editable \n",
    "# strings can only be deleted fully but can't deleted with small part\n"
   ]
  },
  {
   "cell_type": "code",
   "execution_count": 48,
   "id": "f41851e9",
   "metadata": {},
   "outputs": [
    {
     "name": "stdout",
     "output_type": "stream",
     "text": [
      "ab\n"
     ]
    }
   ],
   "source": [
    "print(\"a\"+\"b\")"
   ]
  },
  {
   "cell_type": "code",
   "execution_count": 49,
   "id": "467eef5a",
   "metadata": {},
   "outputs": [
    {
     "name": "stdout",
     "output_type": "stream",
     "text": [
      "aaaaaaaa\n"
     ]
    }
   ],
   "source": [
    "print(\"a\"*8)"
   ]
  },
  {
   "cell_type": "code",
   "execution_count": 50,
   "id": "0734392d",
   "metadata": {},
   "outputs": [
    {
     "data": {
      "text/plain": [
       "False"
      ]
     },
     "execution_count": 50,
     "metadata": {},
     "output_type": "execute_result"
    }
   ],
   "source": [
    "\"hello\">\"hey\" #lexicographical ordering in the dictionary "
   ]
  },
  {
   "cell_type": "code",
   "execution_count": 51,
   "id": "61cb8cae",
   "metadata": {},
   "outputs": [
    {
     "data": {
      "text/plain": [
       "'hello'"
      ]
     },
     "execution_count": 51,
     "metadata": {},
     "output_type": "execute_result"
    }
   ],
   "source": [
    "\" \" and \"hello\""
   ]
  },
  {
   "cell_type": "code",
   "execution_count": 52,
   "id": "dd9abc84",
   "metadata": {},
   "outputs": [
    {
     "data": {
      "text/plain": [
       "' '"
      ]
     },
     "execution_count": 52,
     "metadata": {},
     "output_type": "execute_result"
    }
   ],
   "source": [
    "\" \" or \"hello\""
   ]
  },
  {
   "cell_type": "code",
   "execution_count": 53,
   "id": "253a36db",
   "metadata": {},
   "outputs": [
    {
     "name": "stdout",
     "output_type": "stream",
     "text": [
      "False\n"
     ]
    }
   ],
   "source": [
    "print(not \"hello\")"
   ]
  },
  {
   "cell_type": "code",
   "execution_count": 55,
   "id": "186a4f5f",
   "metadata": {},
   "outputs": [
    {
     "name": "stdout",
     "output_type": "stream",
     "text": [
      "True\n"
     ]
    }
   ],
   "source": [
    "print(not \"\")"
   ]
  },
  {
   "cell_type": "code",
   "execution_count": 56,
   "id": "dee5292b",
   "metadata": {},
   "outputs": [
    {
     "name": "stdout",
     "output_type": "stream",
     "text": [
      "i\n",
      "h\n",
      "l\n",
      "e\n",
      "d\n",
      "w\n",
      "e\n",
      "n\n"
     ]
    }
   ],
   "source": [
    "c=\"newdelhi\"\n",
    "for i in c[::-1]:\n",
    "    print(i)"
   ]
  },
  {
   "cell_type": "code",
   "execution_count": 57,
   "id": "9b9a0c2e",
   "metadata": {},
   "outputs": [
    {
     "name": "stdout",
     "output_type": "stream",
     "text": [
      "e\n",
      "d\n",
      "l\n",
      "i\n"
     ]
    }
   ],
   "source": [
    "c=\"newdelhi\"\n",
    "for i in c[1::2]:\n",
    "    print(i)"
   ]
  },
  {
   "cell_type": "markdown",
   "id": "245e9d14",
   "metadata": {},
   "source": [
    "# String functions\n",
    "1. len \n",
    "2. max\n",
    "3. min\n",
    "4. sorted\n"
   ]
  },
  {
   "cell_type": "code",
   "execution_count": 60,
   "id": "8502f1b0",
   "metadata": {},
   "outputs": [
    {
     "name": "stdout",
     "output_type": "stream",
     "text": [
      "8\n",
      "w\n",
      "d\n",
      "['w', 'n', 'l', 'i', 'h', 'e', 'e', 'd']\n"
     ]
    }
   ],
   "source": [
    "c=\"newdelhi\"\n",
    "print(len(c))\n",
    "print(max(c))\n",
    "print(min(c))\n",
    "print(sorted(c,reverse=True))"
   ]
  },
  {
   "cell_type": "markdown",
   "id": "13e17548",
   "metadata": {},
   "source": [
    "# Capitalize/Title/Upper/Lower/Swapcase"
   ]
  },
  {
   "cell_type": "code",
   "execution_count": 68,
   "id": "b720ae8b",
   "metadata": {},
   "outputs": [
    {
     "data": {
      "text/plain": [
       "'It is cold today'"
      ]
     },
     "execution_count": 68,
     "metadata": {},
     "output_type": "execute_result"
    }
   ],
   "source": [
    "c=\"it is cold today\"\n",
    "c.capitalize()"
   ]
  },
  {
   "cell_type": "code",
   "execution_count": 62,
   "id": "8cbf6a86",
   "metadata": {},
   "outputs": [
    {
     "data": {
      "text/plain": [
       "'It Is Cold Today'"
      ]
     },
     "execution_count": 62,
     "metadata": {},
     "output_type": "execute_result"
    }
   ],
   "source": [
    "c.title()"
   ]
  },
  {
   "cell_type": "code",
   "execution_count": 63,
   "id": "d2e66171",
   "metadata": {},
   "outputs": [
    {
     "data": {
      "text/plain": [
       "'IT IS COLD TODAY'"
      ]
     },
     "execution_count": 63,
     "metadata": {},
     "output_type": "execute_result"
    }
   ],
   "source": [
    "c.upper()"
   ]
  },
  {
   "cell_type": "code",
   "execution_count": 64,
   "id": "6dfa54fe",
   "metadata": {},
   "outputs": [
    {
     "data": {
      "text/plain": [
       "'it is cold today'"
      ]
     },
     "execution_count": 64,
     "metadata": {},
     "output_type": "execute_result"
    }
   ],
   "source": [
    "c.lower()"
   ]
  },
  {
   "cell_type": "code",
   "execution_count": 69,
   "id": "3eca655c",
   "metadata": {},
   "outputs": [
    {
     "data": {
      "text/plain": [
       "'IT IS COLD TODAY'"
      ]
     },
     "execution_count": 69,
     "metadata": {},
     "output_type": "execute_result"
    }
   ],
   "source": [
    "c.swapcase()"
   ]
  },
  {
   "cell_type": "code",
   "execution_count": 70,
   "id": "a846d3e8",
   "metadata": {},
   "outputs": [
    {
     "data": {
      "text/plain": [
       "'DELHI'"
      ]
     },
     "execution_count": 70,
     "metadata": {},
     "output_type": "execute_result"
    }
   ],
   "source": [
    "\"delhi\".swapcase()"
   ]
  },
  {
   "cell_type": "code",
   "execution_count": 71,
   "id": "7fd09ccf",
   "metadata": {},
   "outputs": [
    {
     "data": {
      "text/plain": [
       "2"
      ]
     },
     "execution_count": 71,
     "metadata": {},
     "output_type": "execute_result"
    }
   ],
   "source": [
    "# Count\n",
    "c.count(\"i\")"
   ]
  },
  {
   "cell_type": "code",
   "execution_count": 72,
   "id": "cfe5b61b",
   "metadata": {},
   "outputs": [
    {
     "data": {
      "text/plain": [
       "0"
      ]
     },
     "execution_count": 72,
     "metadata": {},
     "output_type": "execute_result"
    }
   ],
   "source": [
    "c.count(\"r\")"
   ]
  },
  {
   "cell_type": "code",
   "execution_count": 73,
   "id": "2a20e2eb",
   "metadata": {},
   "outputs": [
    {
     "data": {
      "text/plain": [
       "0"
      ]
     },
     "execution_count": 73,
     "metadata": {},
     "output_type": "execute_result"
    }
   ],
   "source": [
    "c.find(\"i\")"
   ]
  },
  {
   "cell_type": "code",
   "execution_count": 74,
   "id": "c72530d4",
   "metadata": {},
   "outputs": [
    {
     "data": {
      "text/plain": [
       "9"
      ]
     },
     "execution_count": 74,
     "metadata": {},
     "output_type": "execute_result"
    }
   ],
   "source": [
    "c.find(\"d\")"
   ]
  },
  {
   "cell_type": "code",
   "execution_count": 76,
   "id": "de79d734",
   "metadata": {},
   "outputs": [
    {
     "data": {
      "text/plain": [
       "9"
      ]
     },
     "execution_count": 76,
     "metadata": {},
     "output_type": "execute_result"
    }
   ],
   "source": [
    "c.index(\"d\")"
   ]
  },
  {
   "cell_type": "code",
   "execution_count": 77,
   "id": "9f093622",
   "metadata": {},
   "outputs": [
    {
     "data": {
      "text/plain": [
       "False"
      ]
     },
     "execution_count": 77,
     "metadata": {},
     "output_type": "execute_result"
    }
   ],
   "source": [
    "c.endswith(\"e\")"
   ]
  },
  {
   "cell_type": "code",
   "execution_count": 78,
   "id": "657f377a",
   "metadata": {},
   "outputs": [
    {
     "data": {
      "text/plain": [
       "'hello haifa is beautiful'"
      ]
     },
     "execution_count": 78,
     "metadata": {},
     "output_type": "execute_result"
    }
   ],
   "source": [
    "# Format\n",
    "\"hello {} is beautiful\".format(\"haifa\")\n"
   ]
  },
  {
   "cell_type": "code",
   "execution_count": 79,
   "id": "6af79259",
   "metadata": {},
   "outputs": [
    {
     "data": {
      "text/plain": [
       "'hello haifa is beautiful, it is a big city in Isreal'"
      ]
     },
     "execution_count": 79,
     "metadata": {},
     "output_type": "execute_result"
    }
   ],
   "source": [
    "\"hello {} is beautiful, it is a big city in {}\".format(\"haifa\",\"Isreal\")"
   ]
  },
  {
   "cell_type": "code",
   "execution_count": 80,
   "id": "75931d32",
   "metadata": {},
   "outputs": [],
   "source": [
    "# isalnum/isalpha/isdecimal/isdigit/isidentifier\n"
   ]
  },
  {
   "cell_type": "code",
   "execution_count": 81,
   "id": "08a7497c",
   "metadata": {},
   "outputs": [
    {
     "data": {
      "text/plain": [
       "True"
      ]
     },
     "execution_count": 81,
     "metadata": {},
     "output_type": "execute_result"
    }
   ],
   "source": [
    "\"falsw45\".isalnum()"
   ]
  },
  {
   "cell_type": "code",
   "execution_count": 82,
   "id": "c0e1fca6",
   "metadata": {},
   "outputs": [
    {
     "data": {
      "text/plain": [
       "False"
      ]
     },
     "execution_count": 82,
     "metadata": {},
     "output_type": "execute_result"
    }
   ],
   "source": [
    "\"falsw45\".isalpha()"
   ]
  },
  {
   "cell_type": "code",
   "execution_count": 83,
   "id": "99cda8ee",
   "metadata": {},
   "outputs": [
    {
     "data": {
      "text/plain": [
       "True"
      ]
     },
     "execution_count": 83,
     "metadata": {},
     "output_type": "execute_result"
    }
   ],
   "source": [
    "\"25345\".isdigit()"
   ]
  },
  {
   "cell_type": "code",
   "execution_count": 85,
   "id": "2fb9d0a7",
   "metadata": {},
   "outputs": [
    {
     "data": {
      "text/plain": [
       "False"
      ]
     },
     "execution_count": 85,
     "metadata": {},
     "output_type": "execute_result"
    }
   ],
   "source": [
    "\"xcf dr5\".isidentifier()"
   ]
  },
  {
   "cell_type": "code",
   "execution_count": 88,
   "id": "9a7cfed7",
   "metadata": {},
   "outputs": [
    {
     "data": {
      "text/plain": [
       "False"
      ]
     },
     "execution_count": 88,
     "metadata": {},
     "output_type": "execute_result"
    }
   ],
   "source": [
    "\"244.3\".isdecimal()"
   ]
  },
  {
   "cell_type": "code",
   "execution_count": 89,
   "id": "806109a1",
   "metadata": {},
   "outputs": [
    {
     "data": {
      "text/plain": [
       "True"
      ]
     },
     "execution_count": 89,
     "metadata": {},
     "output_type": "execute_result"
    }
   ],
   "source": [
    "\"xcfdr5\".isidentifier()"
   ]
  },
  {
   "cell_type": "markdown",
   "id": "602a060a",
   "metadata": {},
   "source": [
    "# Split \n",
    "it convert the string into list\n"
   ]
  },
  {
   "cell_type": "code",
   "execution_count": 92,
   "id": "1b878665",
   "metadata": {},
   "outputs": [
    {
     "data": {
      "text/plain": [
       "['there', 'are', 'very', 'smart', 'people', 'in', 'the', 'room']"
      ]
     },
     "execution_count": 92,
     "metadata": {},
     "output_type": "execute_result"
    }
   ],
   "source": [
    "a=\"there are very, smart people in the room\"\n",
    "a.split()"
   ]
  },
  {
   "cell_type": "code",
   "execution_count": 93,
   "id": "0c793e2c",
   "metadata": {},
   "outputs": [
    {
     "data": {
      "text/plain": [
       "['there are very', ' smart people in the room']"
      ]
     },
     "execution_count": 93,
     "metadata": {},
     "output_type": "execute_result"
    }
   ],
   "source": [
    "a=\"there are very, smart people in the room\"\n",
    "a.split(\",\")"
   ]
  },
  {
   "cell_type": "code",
   "execution_count": 94,
   "id": "ffac6661",
   "metadata": {},
   "outputs": [],
   "source": [
    "a=\"India is very big country. composed of several states and UT.welcome.\""
   ]
  },
  {
   "cell_type": "code",
   "execution_count": 95,
   "id": "c46fe267",
   "metadata": {},
   "outputs": [
    {
     "data": {
      "text/plain": [
       "['India is very big country',\n",
       " ' composed of several states and UT',\n",
       " 'welcome',\n",
       " '']"
      ]
     },
     "execution_count": 95,
     "metadata": {},
     "output_type": "execute_result"
    }
   ],
   "source": [
    "a.split(\".\")"
   ]
  },
  {
   "cell_type": "markdown",
   "id": "7266ba89",
   "metadata": {},
   "source": [
    "# Join\n",
    "this operation is opposit to split function"
   ]
  },
  {
   "cell_type": "code",
   "execution_count": 99,
   "id": "860276af",
   "metadata": {},
   "outputs": [
    {
     "data": {
      "text/plain": [
       "'there . are . very . smart . people . in . the . room'"
      ]
     },
     "execution_count": 99,
     "metadata": {},
     "output_type": "execute_result"
    }
   ],
   "source": [
    "\" \".join(['there', 'are', 'very', 'smart', 'people', 'in', 'the', 'room'])"
   ]
  },
  {
   "cell_type": "code",
   "execution_count": 100,
   "id": "e209fb52",
   "metadata": {},
   "outputs": [
    {
     "data": {
      "text/plain": [
       "'there . are . very . smart . people . in . the . room'"
      ]
     },
     "execution_count": 100,
     "metadata": {},
     "output_type": "execute_result"
    }
   ],
   "source": [
    "\" . \".join(['there', 'are', 'very', 'smart', 'people', 'in', 'the', 'room'])"
   ]
  },
  {
   "cell_type": "code",
   "execution_count": 101,
   "id": "e9340d05",
   "metadata": {},
   "outputs": [
    {
     "data": {
      "text/plain": [
       "'there * are * very * smart * people * in * the * room'"
      ]
     },
     "execution_count": 101,
     "metadata": {},
     "output_type": "execute_result"
    }
   ],
   "source": [
    "\" * \".join(['there', 'are', 'very', 'smart', 'people', 'in', 'the', 'room'])"
   ]
  },
  {
   "cell_type": "code",
   "execution_count": 102,
   "id": "6e7c6009",
   "metadata": {},
   "outputs": [
    {
     "data": {
      "text/plain": [
       "'there / are / very / smart / people / in / the / room'"
      ]
     },
     "execution_count": 102,
     "metadata": {},
     "output_type": "execute_result"
    }
   ],
   "source": [
    "\" / \".join(['there', 'are', 'very', 'smart', 'people', 'in', 'the', 'room'])"
   ]
  },
  {
   "cell_type": "markdown",
   "id": "c08fa5aa",
   "metadata": {},
   "source": [
    "# Replace "
   ]
  },
  {
   "cell_type": "code",
   "execution_count": 103,
   "id": "e5d21cb9",
   "metadata": {},
   "outputs": [
    {
     "data": {
      "text/plain": [
       "'there are very, happy people in the room'"
      ]
     },
     "execution_count": 103,
     "metadata": {},
     "output_type": "execute_result"
    }
   ],
   "source": [
    "a=\"there are very, smart people in the room\"\n",
    "a.replace(\"smart\",\"happy\")"
   ]
  },
  {
   "cell_type": "markdown",
   "id": "fef076e5",
   "metadata": {},
   "source": [
    "# Strip\n",
    "For removing the unwanted space and symbols"
   ]
  },
  {
   "cell_type": "code",
   "execution_count": 133,
   "id": "a891146d",
   "metadata": {},
   "outputs": [
    {
     "data": {
      "text/plain": [
       "'hi       harry/         '"
      ]
     },
     "execution_count": 133,
     "metadata": {},
     "output_type": "execute_result"
    }
   ],
   "source": [
    "name=\"       harry/         \"\n",
    "\"hi\"+name"
   ]
  },
  {
   "cell_type": "code",
   "execution_count": 134,
   "id": "fbdb87d6",
   "metadata": {},
   "outputs": [
    {
     "data": {
      "text/plain": [
       "'harry'"
      ]
     },
     "execution_count": 134,
     "metadata": {},
     "output_type": "execute_result"
    }
   ],
   "source": [
    "name.strip(\"/ \")"
   ]
  },
  {
   "cell_type": "code",
   "execution_count": 135,
   "id": "c96c5f66",
   "metadata": {},
   "outputs": [],
   "source": [
    "name=\"       harry/         \""
   ]
  },
  {
   "cell_type": "code",
   "execution_count": 137,
   "id": "a3c92d5c",
   "metadata": {},
   "outputs": [
    {
     "data": {
      "text/plain": [
       "'harry'"
      ]
     },
     "execution_count": 137,
     "metadata": {},
     "output_type": "execute_result"
    }
   ],
   "source": [
    "name.strip(\" /\")"
   ]
  },
  {
   "cell_type": "markdown",
   "id": "acb48721",
   "metadata": {},
   "source": [
    "# List"
   ]
  },
  {
   "cell_type": "code",
   "execution_count": 139,
   "id": "28614dd5",
   "metadata": {},
   "outputs": [
    {
     "data": {
      "text/plain": [
       "['h', 'e', 'l', 'l', 'o']"
      ]
     },
     "execution_count": 139,
     "metadata": {},
     "output_type": "execute_result"
    }
   ],
   "source": [
    "a=list(\"hello\")\n",
    "a"
   ]
  },
  {
   "cell_type": "code",
   "execution_count": 142,
   "id": "383cc25f",
   "metadata": {},
   "outputs": [
    {
     "name": "stdout",
     "output_type": "stream",
     "text": [
      "h\n",
      "e\n",
      "l\n",
      "l\n",
      "o\n"
     ]
    }
   ],
   "source": [
    "for i in a:\n",
    "    print(i)"
   ]
  },
  {
   "cell_type": "code",
   "execution_count": 143,
   "id": "696074ae",
   "metadata": {},
   "outputs": [
    {
     "data": {
      "text/plain": [
       "5"
      ]
     },
     "execution_count": 143,
     "metadata": {},
     "output_type": "execute_result"
    }
   ],
   "source": [
    "a=[2,3,4,[5,6]]\n",
    "a[3][0]"
   ]
  },
  {
   "cell_type": "code",
   "execution_count": 145,
   "id": "df5891c2",
   "metadata": {},
   "outputs": [
    {
     "data": {
      "text/plain": [
       "5"
      ]
     },
     "execution_count": 145,
     "metadata": {},
     "output_type": "execute_result"
    }
   ],
   "source": [
    "a[-1][0]"
   ]
  },
  {
   "cell_type": "code",
   "execution_count": 146,
   "id": "25b5dff3",
   "metadata": {},
   "outputs": [
    {
     "data": {
      "text/plain": [
       "6"
      ]
     },
     "execution_count": 146,
     "metadata": {},
     "output_type": "execute_result"
    }
   ],
   "source": [
    "a[-1][1]"
   ]
  },
  {
   "cell_type": "code",
   "execution_count": 147,
   "id": "05617b38",
   "metadata": {},
   "outputs": [
    {
     "data": {
      "text/plain": [
       "6"
      ]
     },
     "execution_count": 147,
     "metadata": {},
     "output_type": "execute_result"
    }
   ],
   "source": [
    "a=[2,3,4,[[5,6],2]]\n",
    "a[-1][0][1]"
   ]
  },
  {
   "cell_type": "code",
   "execution_count": 148,
   "id": "1268b1a9",
   "metadata": {},
   "outputs": [
    {
     "data": {
      "text/plain": [
       "2"
      ]
     },
     "execution_count": 148,
     "metadata": {},
     "output_type": "execute_result"
    }
   ],
   "source": [
    "a[-1][1]"
   ]
  },
  {
   "cell_type": "code",
   "execution_count": 150,
   "id": "35115515",
   "metadata": {},
   "outputs": [],
   "source": [
    "a[0]=10"
   ]
  },
  {
   "cell_type": "code",
   "execution_count": 152,
   "id": "fe9b19cb",
   "metadata": {},
   "outputs": [],
   "source": [
    "a[-1]=\"happy\""
   ]
  },
  {
   "cell_type": "code",
   "execution_count": 153,
   "id": "a9037b18",
   "metadata": {},
   "outputs": [
    {
     "data": {
      "text/plain": [
       "[10, 3, 4, 'happy']"
      ]
     },
     "execution_count": 153,
     "metadata": {},
     "output_type": "execute_result"
    }
   ],
   "source": [
    "a"
   ]
  },
  {
   "cell_type": "code",
   "execution_count": 154,
   "id": "eb896cc7",
   "metadata": {},
   "outputs": [
    {
     "data": {
      "text/plain": [
       "[10, 3]"
      ]
     },
     "execution_count": 154,
     "metadata": {},
     "output_type": "execute_result"
    }
   ],
   "source": [
    "a[:2]"
   ]
  },
  {
   "cell_type": "markdown",
   "id": "115a8208",
   "metadata": {},
   "source": [
    "# Append insert vsingle elent at a time at the end of the list "
   ]
  },
  {
   "cell_type": "code",
   "execution_count": 159,
   "id": "36f65cad",
   "metadata": {},
   "outputs": [
    {
     "data": {
      "text/plain": [
       "[6543, 7, 6, 5, 9]"
      ]
     },
     "execution_count": 159,
     "metadata": {},
     "output_type": "execute_result"
    }
   ],
   "source": [
    "\n",
    "l=[6543,7,6,5]\n",
    "l.append(9)\n",
    "l"
   ]
  },
  {
   "cell_type": "markdown",
   "id": "3a4e7529",
   "metadata": {},
   "source": [
    "# Extend: it has functionality as append but it can add multiple elements at the end of the list at a time "
   ]
  },
  {
   "cell_type": "code",
   "execution_count": 162,
   "id": "e5df90a5",
   "metadata": {},
   "outputs": [],
   "source": [
    "\n",
    "l.extend([48,69,23])"
   ]
  },
  {
   "cell_type": "code",
   "execution_count": 164,
   "id": "72fc5cd0",
   "metadata": {},
   "outputs": [
    {
     "data": {
      "text/plain": [
       "{5, 6, 7, 9, 23, 48, 69, 6543}"
      ]
     },
     "execution_count": 164,
     "metadata": {},
     "output_type": "execute_result"
    }
   ],
   "source": [
    "set(l)"
   ]
  },
  {
   "cell_type": "code",
   "execution_count": 165,
   "id": "d67eff16",
   "metadata": {},
   "outputs": [],
   "source": [
    "l.extend('ram')"
   ]
  },
  {
   "cell_type": "code",
   "execution_count": 166,
   "id": "2a19a837",
   "metadata": {},
   "outputs": [
    {
     "data": {
      "text/plain": [
       "[6543, 7, 6, 5, 9, 48, 69, 23, 48, 69, 23, 'r', 'a', 'm']"
      ]
     },
     "execution_count": 166,
     "metadata": {},
     "output_type": "execute_result"
    }
   ],
   "source": [
    "l"
   ]
  },
  {
   "cell_type": "markdown",
   "id": "955c3798",
   "metadata": {},
   "source": [
    "# Delete"
   ]
  },
  {
   "cell_type": "code",
   "execution_count": 167,
   "id": "3af6e9c8",
   "metadata": {},
   "outputs": [],
   "source": [
    "del l[-4]"
   ]
  },
  {
   "cell_type": "code",
   "execution_count": 168,
   "id": "0d019976",
   "metadata": {},
   "outputs": [
    {
     "data": {
      "text/plain": [
       "[6543, 7, 6, 5, 9, 48, 69, 23, 48, 69, 'r', 'a', 'm']"
      ]
     },
     "execution_count": 168,
     "metadata": {},
     "output_type": "execute_result"
    }
   ],
   "source": [
    "l"
   ]
  },
  {
   "cell_type": "code",
   "execution_count": 169,
   "id": "a239cefc",
   "metadata": {},
   "outputs": [],
   "source": [
    "del l[0]"
   ]
  },
  {
   "cell_type": "code",
   "execution_count": 170,
   "id": "d6031d21",
   "metadata": {},
   "outputs": [
    {
     "data": {
      "text/plain": [
       "[7, 6, 5, 9, 48, 69, 23, 48, 69, 'r', 'a', 'm']"
      ]
     },
     "execution_count": 170,
     "metadata": {},
     "output_type": "execute_result"
    }
   ],
   "source": [
    "l"
   ]
  },
  {
   "cell_type": "code",
   "execution_count": 171,
   "id": "0228040f",
   "metadata": {},
   "outputs": [],
   "source": [
    "del l[-3:]"
   ]
  },
  {
   "cell_type": "code",
   "execution_count": 172,
   "id": "65c400f7",
   "metadata": {},
   "outputs": [
    {
     "data": {
      "text/plain": [
       "[7, 6, 5, 9, 48, 69, 23, 48, 69]"
      ]
     },
     "execution_count": 172,
     "metadata": {},
     "output_type": "execute_result"
    }
   ],
   "source": [
    "l"
   ]
  },
  {
   "cell_type": "markdown",
   "id": "b397096c",
   "metadata": {},
   "source": [
    "# remove=: when we don't know index but value"
   ]
  },
  {
   "cell_type": "code",
   "execution_count": 174,
   "id": "55b9eba6",
   "metadata": {},
   "outputs": [
    {
     "data": {
      "text/plain": [
       "[7, 6, 5, 9, 48, 23, 48, 69]"
      ]
     },
     "execution_count": 174,
     "metadata": {},
     "output_type": "execute_result"
    }
   ],
   "source": [
    "l.remove(69)\n",
    "l"
   ]
  },
  {
   "cell_type": "markdown",
   "id": "c9858d56",
   "metadata": {},
   "source": [
    "# Pop: delete the last element "
   ]
  },
  {
   "cell_type": "code",
   "execution_count": 175,
   "id": "ec8cd8a3",
   "metadata": {},
   "outputs": [
    {
     "data": {
      "text/plain": [
       "69"
      ]
     },
     "execution_count": 175,
     "metadata": {},
     "output_type": "execute_result"
    }
   ],
   "source": [
    "l.pop()"
   ]
  },
  {
   "cell_type": "markdown",
   "id": "615e24ba",
   "metadata": {},
   "source": [
    "# clear : make the list empty\n"
   ]
  },
  {
   "cell_type": "code",
   "execution_count": 177,
   "id": "804d06a9",
   "metadata": {},
   "outputs": [],
   "source": [
    "l.clear()"
   ]
  },
  {
   "cell_type": "code",
   "execution_count": 178,
   "id": "f8e627ac",
   "metadata": {},
   "outputs": [
    {
     "data": {
      "text/plain": [
       "[]"
      ]
     },
     "execution_count": 178,
     "metadata": {},
     "output_type": "execute_result"
    }
   ],
   "source": [
    "l"
   ]
  },
  {
   "cell_type": "code",
   "execution_count": 180,
   "id": "0c132637",
   "metadata": {},
   "outputs": [
    {
     "data": {
      "text/plain": [
       "[1, 2, 3, 4, 5, 6, 7]"
      ]
     },
     "execution_count": 180,
     "metadata": {},
     "output_type": "execute_result"
    }
   ],
   "source": [
    "# Operations\n",
    "L1=[1,2,3,4]\n",
    "L2=[5,6,7]\n",
    "L=L1+L2\n",
    "L"
   ]
  },
  {
   "cell_type": "code",
   "execution_count": 181,
   "id": "3d2cae83",
   "metadata": {},
   "outputs": [
    {
     "data": {
      "text/plain": [
       "[1, 2, 3, 4, 5, 6, 7, 1, 2, 3, 4, 5, 6, 7]"
      ]
     },
     "execution_count": 181,
     "metadata": {},
     "output_type": "execute_result"
    }
   ],
   "source": [
    "L*2 #it will replicate the elements of the list twice "
   ]
  },
  {
   "cell_type": "code",
   "execution_count": 182,
   "id": "f4d5ca70",
   "metadata": {},
   "outputs": [
    {
     "name": "stdout",
     "output_type": "stream",
     "text": [
      "1\n",
      "2\n",
      "3\n",
      "4\n",
      "5\n",
      "6\n",
      "7\n"
     ]
    }
   ],
   "source": [
    "for i in L:\n",
    "    print(i)"
   ]
  },
  {
   "cell_type": "code",
   "execution_count": 183,
   "id": "e392fe94",
   "metadata": {},
   "outputs": [
    {
     "data": {
      "text/plain": [
       "True"
      ]
     },
     "execution_count": 183,
     "metadata": {},
     "output_type": "execute_result"
    }
   ],
   "source": [
    "4 in L # to check if the given elemnt is in list"
   ]
  },
  {
   "cell_type": "code",
   "execution_count": 184,
   "id": "d405edd8",
   "metadata": {},
   "outputs": [
    {
     "data": {
      "text/plain": [
       "7"
      ]
     },
     "execution_count": 184,
     "metadata": {},
     "output_type": "execute_result"
    }
   ],
   "source": [
    "len(L)"
   ]
  },
  {
   "cell_type": "code",
   "execution_count": 185,
   "id": "42aff5af",
   "metadata": {},
   "outputs": [
    {
     "data": {
      "text/plain": [
       "1"
      ]
     },
     "execution_count": 185,
     "metadata": {},
     "output_type": "execute_result"
    }
   ],
   "source": [
    "min(L)"
   ]
  },
  {
   "cell_type": "code",
   "execution_count": 186,
   "id": "76153251",
   "metadata": {},
   "outputs": [
    {
     "data": {
      "text/plain": [
       "7"
      ]
     },
     "execution_count": 186,
     "metadata": {},
     "output_type": "execute_result"
    }
   ],
   "source": [
    "max(L)"
   ]
  },
  {
   "cell_type": "code",
   "execution_count": 187,
   "id": "089e7bc6",
   "metadata": {},
   "outputs": [
    {
     "data": {
      "text/plain": [
       "[1, 2, 3, 4, 5, 6, 7]"
      ]
     },
     "execution_count": 187,
     "metadata": {},
     "output_type": "execute_result"
    }
   ],
   "source": [
    "sorted(L) #this is not permanent"
   ]
  },
  {
   "cell_type": "code",
   "execution_count": 188,
   "id": "10afe4fe",
   "metadata": {},
   "outputs": [
    {
     "data": {
      "text/plain": [
       "[7, 6, 5, 4, 3, 2, 1]"
      ]
     },
     "execution_count": 188,
     "metadata": {},
     "output_type": "execute_result"
    }
   ],
   "source": [
    "sorted(L,reverse=True)"
   ]
  },
  {
   "cell_type": "code",
   "execution_count": 190,
   "id": "38f2f6dc",
   "metadata": {},
   "outputs": [
    {
     "data": {
      "text/plain": [
       "[1, 2, 3, 4, 5, 6, 7]"
      ]
     },
     "execution_count": 190,
     "metadata": {},
     "output_type": "execute_result"
    }
   ],
   "source": [
    "L.sort() # this is permanent change\n",
    "L"
   ]
  },
  {
   "cell_type": "code",
   "execution_count": 191,
   "id": "10cd4bae",
   "metadata": {},
   "outputs": [
    {
     "data": {
      "text/plain": [
       "4"
      ]
     },
     "execution_count": 191,
     "metadata": {},
     "output_type": "execute_result"
    }
   ],
   "source": [
    "L.index(5)"
   ]
  },
  {
   "cell_type": "code",
   "execution_count": 201,
   "id": "39c66a88",
   "metadata": {},
   "outputs": [
    {
     "data": {
      "text/plain": [
       "'Where Are You'"
      ]
     },
     "execution_count": 201,
     "metadata": {},
     "output_type": "execute_result"
    }
   ],
   "source": [
    "s=\"where are you\"\n",
    "s_cap=[]\n",
    "for i in s.split():\n",
    "\n",
    "    s_cap.append(i.capitalize())\n",
    "    \n",
    "s_new=\" \".join(s_cap)\n",
    "s_new\n",
    "\n",
    "\n",
    "    \n",
    "    \n",
    "    "
   ]
  },
  {
   "cell_type": "code",
   "execution_count": 202,
   "id": "8755c7ff",
   "metadata": {},
   "outputs": [
    {
     "name": "stdout",
     "output_type": "stream",
     "text": [
      "3\n"
     ]
    }
   ],
   "source": [
    "s=\"abc@technion.ac.il\"\n",
    "print(s.find(\"@\"))"
   ]
  },
  {
   "cell_type": "code",
   "execution_count": 203,
   "id": "dca3f1cd",
   "metadata": {},
   "outputs": [
    {
     "name": "stdout",
     "output_type": "stream",
     "text": [
      "abc\n"
     ]
    }
   ],
   "source": [
    "print(s[:s.find(\"@\")])"
   ]
  },
  {
   "cell_type": "code",
   "execution_count": 206,
   "id": "a314f518",
   "metadata": {},
   "outputs": [
    {
     "name": "stdout",
     "output_type": "stream",
     "text": [
      "abc\n"
     ]
    }
   ],
   "source": [
    "print(s.split(\"@\")[0])"
   ]
  },
  {
   "cell_type": "markdown",
   "id": "692e09a1",
   "metadata": {},
   "source": [
    "# Tuple\n",
    "Use tuple only in the case where data integration is very important"
   ]
  },
  {
   "cell_type": "code",
   "execution_count": 207,
   "id": "af4cc598",
   "metadata": {},
   "outputs": [
    {
     "data": {
      "text/plain": [
       "(12, 3, 4, 5.6)"
      ]
     },
     "execution_count": 207,
     "metadata": {},
     "output_type": "execute_result"
    }
   ],
   "source": [
    "t=(12,3,4,(5.6))\n",
    "t"
   ]
  },
  {
   "cell_type": "code",
   "execution_count": 209,
   "id": "7336e780",
   "metadata": {},
   "outputs": [
    {
     "data": {
      "text/plain": [
       "'str'"
      ]
     },
     "execution_count": 209,
     "metadata": {},
     "output_type": "execute_result"
    }
   ],
   "source": [
    "s=(\"str\") # not a tuple\n",
    "s"
   ]
  },
  {
   "cell_type": "code",
   "execution_count": 212,
   "id": "d6bc8dfc",
   "metadata": {},
   "outputs": [
    {
     "data": {
      "text/plain": [
       "('str',)"
      ]
     },
     "execution_count": 212,
     "metadata": {},
     "output_type": "execute_result"
    }
   ],
   "source": [
    "r=(\"str\",) # need to have one extra comma to nmake it tuple\n",
    "r"
   ]
  },
  {
   "cell_type": "code",
   "execution_count": 222,
   "id": "9c277b4a",
   "metadata": {},
   "outputs": [
    {
     "data": {
      "text/plain": [
       "('s', 't', 'r')"
      ]
     },
     "execution_count": 222,
     "metadata": {},
     "output_type": "execute_result"
    }
   ],
   "source": [
    "s=tuple(\"str\")\n",
    "s"
   ]
  },
  {
   "cell_type": "code",
   "execution_count": 216,
   "id": "c2a27438",
   "metadata": {},
   "outputs": [
    {
     "data": {
      "text/plain": [
       "'s'"
      ]
     },
     "execution_count": 216,
     "metadata": {},
     "output_type": "execute_result"
    }
   ],
   "source": [
    "s[0]"
   ]
  },
  {
   "cell_type": "code",
   "execution_count": 217,
   "id": "4a11a03f",
   "metadata": {},
   "outputs": [
    {
     "data": {
      "text/plain": [
       "'r'"
      ]
     },
     "execution_count": 217,
     "metadata": {},
     "output_type": "execute_result"
    }
   ],
   "source": [
    "s[-1]"
   ]
  },
  {
   "cell_type": "code",
   "execution_count": 219,
   "id": "8f306b3a",
   "metadata": {},
   "outputs": [
    {
     "ename": "TypeError",
     "evalue": "'tuple' object does not support item assignment",
     "output_type": "error",
     "traceback": [
      "\u001b[0;31m---------------------------------------------------------------------------\u001b[0m",
      "\u001b[0;31mTypeError\u001b[0m                                 Traceback (most recent call last)",
      "Cell \u001b[0;32mIn[219], line 1\u001b[0m\n\u001b[0;32m----> 1\u001b[0m s[\u001b[38;5;241m0\u001b[39m]\u001b[38;5;241m=\u001b[39m\u001b[38;5;241m8\u001b[39m\n",
      "\u001b[0;31mTypeError\u001b[0m: 'tuple' object does not support item assignment"
     ]
    }
   ],
   "source": [
    "s[0]=8 #tuples are immutable just loike strings"
   ]
  },
  {
   "cell_type": "code",
   "execution_count": 220,
   "id": "ac13db6c",
   "metadata": {},
   "outputs": [],
   "source": [
    "del(s) #only complete deletion is possible"
   ]
  },
  {
   "cell_type": "code",
   "execution_count": 223,
   "id": "afb39bd7",
   "metadata": {},
   "outputs": [
    {
     "data": {
      "text/plain": [
       "('s', 't', 'r')"
      ]
     },
     "execution_count": 223,
     "metadata": {},
     "output_type": "execute_result"
    }
   ],
   "source": [
    "s"
   ]
  },
  {
   "cell_type": "code",
   "execution_count": 225,
   "id": "8ab04ef2",
   "metadata": {},
   "outputs": [
    {
     "ename": "TypeError",
     "evalue": "'tuple' object doesn't support item deletion",
     "output_type": "error",
     "traceback": [
      "\u001b[0;31m---------------------------------------------------------------------------\u001b[0m",
      "\u001b[0;31mTypeError\u001b[0m                                 Traceback (most recent call last)",
      "Cell \u001b[0;32mIn[225], line 1\u001b[0m\n\u001b[0;32m----> 1\u001b[0m \u001b[38;5;28;01mdel\u001b[39;00m(s[\u001b[38;5;241m-\u001b[39m\u001b[38;5;241m1\u001b[39m])\n",
      "\u001b[0;31mTypeError\u001b[0m: 'tuple' object doesn't support item deletion"
     ]
    }
   ],
   "source": [
    "del(s[-1]) #item deletion is not possible"
   ]
  },
  {
   "cell_type": "code",
   "execution_count": 227,
   "id": "4cf2b22d",
   "metadata": {},
   "outputs": [
    {
     "data": {
      "text/plain": [
       "[3, 4, 5.6, 12]"
      ]
     },
     "execution_count": 227,
     "metadata": {},
     "output_type": "execute_result"
    }
   ],
   "source": [
    "t=(12,3,4,(5.6))\n",
    "sorted(t)"
   ]
  },
  {
   "cell_type": "code",
   "execution_count": 229,
   "id": "a0d83bc5",
   "metadata": {},
   "outputs": [
    {
     "data": {
      "text/plain": [
       "[12, 5.6, 4, 3]"
      ]
     },
     "execution_count": 229,
     "metadata": {},
     "output_type": "execute_result"
    }
   ],
   "source": [
    "sorted(t,reverse=True)"
   ]
  },
  {
   "cell_type": "markdown",
   "id": "6c680108",
   "metadata": {},
   "source": [
    "# sets\n",
    "1. will not allow duplicates\n",
    "2. no indexing and slicing\n",
    "3. don't allow mutable datatypes\n",
    "4. itself mmutable"
   ]
  },
  {
   "cell_type": "code",
   "execution_count": 233,
   "id": "77ac77d7",
   "metadata": {},
   "outputs": [
    {
     "data": {
      "text/plain": [
       "set()"
      ]
     },
     "execution_count": 233,
     "metadata": {},
     "output_type": "execute_result"
    }
   ],
   "source": [
    "s={}\n",
    "S=set(s)"
   ]
  },
  {
   "cell_type": "code",
   "execution_count": 234,
   "id": "876a3661",
   "metadata": {},
   "outputs": [
    {
     "data": {
      "text/plain": [
       "set"
      ]
     },
     "execution_count": 234,
     "metadata": {},
     "output_type": "execute_result"
    }
   ],
   "source": [
    "type(set(s))"
   ]
  },
  {
   "cell_type": "code",
   "execution_count": 235,
   "id": "24a69c59",
   "metadata": {},
   "outputs": [
    {
     "data": {
      "text/plain": [
       "{1, 2, 3, 4}"
      ]
     },
     "execution_count": 235,
     "metadata": {},
     "output_type": "execute_result"
    }
   ],
   "source": [
    "S={1,2,3,3,4}\n",
    "S"
   ]
  },
  {
   "cell_type": "code",
   "execution_count": 236,
   "id": "bb549f0a",
   "metadata": {},
   "outputs": [
    {
     "ename": "TypeError",
     "evalue": "unhashable type: 'list'",
     "output_type": "error",
     "traceback": [
      "\u001b[0;31m---------------------------------------------------------------------------\u001b[0m",
      "\u001b[0;31mTypeError\u001b[0m                                 Traceback (most recent call last)",
      "Cell \u001b[0;32mIn[236], line 1\u001b[0m\n\u001b[0;32m----> 1\u001b[0m S\u001b[38;5;241m=\u001b[39m{\u001b[38;5;241m1\u001b[39m,\u001b[38;5;124m\"\u001b[39m\u001b[38;5;124mhello\u001b[39m\u001b[38;5;124m\"\u001b[39m,[\u001b[38;5;241m1\u001b[39m,\u001b[38;5;241m2\u001b[39m,\u001b[38;5;241m3\u001b[39m]}\n",
      "\u001b[0;31mTypeError\u001b[0m: unhashable type: 'list'"
     ]
    }
   ],
   "source": [
    "S={1,\"hello\",[1,2,3]}"
   ]
  },
  {
   "cell_type": "code",
   "execution_count": 238,
   "id": "2d51b7ff",
   "metadata": {},
   "outputs": [
    {
     "data": {
      "text/plain": [
       "{(1, 2, 3), 1, 'hello'}"
      ]
     },
     "execution_count": 238,
     "metadata": {},
     "output_type": "execute_result"
    }
   ],
   "source": [
    "S={1,\"hello\",(1,2,3)} #hashing will change the ordre of the elements\n",
    "S"
   ]
  },
  {
   "cell_type": "code",
   "execution_count": 240,
   "id": "f336072d",
   "metadata": {},
   "outputs": [
    {
     "ename": "TypeError",
     "evalue": "unhashable type: 'set'",
     "output_type": "error",
     "traceback": [
      "\u001b[0;31m---------------------------------------------------------------------------\u001b[0m",
      "\u001b[0;31mTypeError\u001b[0m                                 Traceback (most recent call last)",
      "Cell \u001b[0;32mIn[240], line 1\u001b[0m\n\u001b[0;32m----> 1\u001b[0m S\u001b[38;5;241m=\u001b[39m{{\u001b[38;5;241m2\u001b[39m,\u001b[38;5;241m3\u001b[39m},\u001b[38;5;241m2\u001b[39m} \u001b[38;5;66;03m#coz sets are mutable\u001b[39;00m\n\u001b[1;32m      2\u001b[0m S\n",
      "\u001b[0;31mTypeError\u001b[0m: unhashable type: 'set'"
     ]
    }
   ],
   "source": [
    "S={{2,3},2} #coz sets are mutable\n",
    "S"
   ]
  },
  {
   "cell_type": "code",
   "execution_count": 241,
   "id": "7055c251",
   "metadata": {},
   "outputs": [
    {
     "ename": "TypeError",
     "evalue": "'set' object is not subscriptable",
     "output_type": "error",
     "traceback": [
      "\u001b[0;31m---------------------------------------------------------------------------\u001b[0m",
      "\u001b[0;31mTypeError\u001b[0m                                 Traceback (most recent call last)",
      "Cell \u001b[0;32mIn[241], line 2\u001b[0m\n\u001b[1;32m      1\u001b[0m S\u001b[38;5;241m=\u001b[39m{\u001b[38;5;241m1\u001b[39m,\u001b[38;5;124m\"\u001b[39m\u001b[38;5;124mhello\u001b[39m\u001b[38;5;124m\"\u001b[39m,(\u001b[38;5;241m1\u001b[39m,\u001b[38;5;241m2\u001b[39m,\u001b[38;5;241m3\u001b[39m)} \u001b[38;5;66;03m#hashing will change the ordre of the elements\u001b[39;00m\n\u001b[0;32m----> 2\u001b[0m S[\u001b[38;5;241m0\u001b[39m]\n",
      "\u001b[0;31mTypeError\u001b[0m: 'set' object is not subscriptable"
     ]
    }
   ],
   "source": [
    "S={1,\"hello\",(1,2,3)} #hashing will change the ordre of the elements\n",
    "S[0]"
   ]
  },
  {
   "cell_type": "code",
   "execution_count": 243,
   "id": "7fca2d37",
   "metadata": {},
   "outputs": [],
   "source": [
    "L=list(S)\n",
    "L[0]=\"hey\""
   ]
  },
  {
   "cell_type": "code",
   "execution_count": 244,
   "id": "6d192a41",
   "metadata": {},
   "outputs": [
    {
     "data": {
      "text/plain": [
       "['hey', (1, 2, 3), 'hello']"
      ]
     },
     "execution_count": 244,
     "metadata": {},
     "output_type": "execute_result"
    }
   ],
   "source": [
    "L"
   ]
  },
  {
   "cell_type": "code",
   "execution_count": 246,
   "id": "5f44cbac",
   "metadata": {},
   "outputs": [
    {
     "data": {
      "text/plain": [
       "{(1, 2, 3), 'hello', 'hey'}"
      ]
     },
     "execution_count": 246,
     "metadata": {},
     "output_type": "execute_result"
    }
   ],
   "source": [
    "set(L) #thios is not the same set but a new one at different location\n"
   ]
  },
  {
   "cell_type": "code",
   "execution_count": 247,
   "id": "d781e012",
   "metadata": {},
   "outputs": [
    {
     "data": {
      "text/plain": [
       "{(1, 2, 3), 1, 53, 'hello'}"
      ]
     },
     "execution_count": 247,
     "metadata": {},
     "output_type": "execute_result"
    }
   ],
   "source": [
    "# mutable\n",
    "S.add(53)\n",
    "S"
   ]
  },
  {
   "cell_type": "code",
   "execution_count": 248,
   "id": "8720f16c",
   "metadata": {},
   "outputs": [],
   "source": [
    "# delete\n",
    "del(S)"
   ]
  },
  {
   "cell_type": "code",
   "execution_count": 249,
   "id": "dab37c1a",
   "metadata": {},
   "outputs": [],
   "source": [
    "S={1,\"hello\",(1,2,3)}"
   ]
  },
  {
   "cell_type": "code",
   "execution_count": 251,
   "id": "f4f51bc1",
   "metadata": {},
   "outputs": [
    {
     "ename": "TypeError",
     "evalue": "'set' object doesn't support item deletion",
     "output_type": "error",
     "traceback": [
      "\u001b[0;31m---------------------------------------------------------------------------\u001b[0m",
      "\u001b[0;31mTypeError\u001b[0m                                 Traceback (most recent call last)",
      "Cell \u001b[0;32mIn[251], line 1\u001b[0m\n\u001b[0;32m----> 1\u001b[0m \u001b[38;5;28;01mdel\u001b[39;00m(S[\u001b[38;5;241m0\u001b[39m])\n",
      "\u001b[0;31mTypeError\u001b[0m: 'set' object doesn't support item deletion"
     ]
    }
   ],
   "source": [
    "del(S[0]) #coz sets don't allow indexing"
   ]
  },
  {
   "cell_type": "code",
   "execution_count": 253,
   "id": "00b3b180",
   "metadata": {},
   "outputs": [],
   "source": [
    "#remove\n",
    "S.remove(1)"
   ]
  },
  {
   "cell_type": "code",
   "execution_count": 261,
   "id": "bf0b4154",
   "metadata": {},
   "outputs": [
    {
     "data": {
      "text/plain": [
       "{(1, 2, 3), 1, 'hello'}"
      ]
     },
     "execution_count": 261,
     "metadata": {},
     "output_type": "execute_result"
    }
   ],
   "source": [
    "S={1,\"hello\",(1,2,3)}\n",
    "S"
   ]
  },
  {
   "cell_type": "code",
   "execution_count": 262,
   "id": "31216d14",
   "metadata": {},
   "outputs": [
    {
     "data": {
      "text/plain": [
       "1"
      ]
     },
     "execution_count": 262,
     "metadata": {},
     "output_type": "execute_result"
    }
   ],
   "source": [
    "#PoP: it delete last item from the list biut here it is deteermined by hashing\n",
    "S.pop()"
   ]
  },
  {
   "cell_type": "code",
   "execution_count": 263,
   "id": "1654dc45",
   "metadata": {},
   "outputs": [
    {
     "data": {
      "text/plain": [
       "{(1, 2, 3), 'hello'}"
      ]
     },
     "execution_count": 263,
     "metadata": {},
     "output_type": "execute_result"
    }
   ],
   "source": [
    "S #pop "
   ]
  },
  {
   "cell_type": "markdown",
   "id": "294c8764",
   "metadata": {},
   "source": [
    "# + and * are not allowed between ctwo sets\n"
   ]
  },
  {
   "cell_type": "code",
   "execution_count": 264,
   "id": "afb82da7",
   "metadata": {},
   "outputs": [
    {
     "name": "stdout",
     "output_type": "stream",
     "text": [
      "(1, 2, 3)\n",
      "hello\n"
     ]
    }
   ],
   "source": [
    "# loop\n",
    "for i in S:\n",
    "    print(i)"
   ]
  },
  {
   "cell_type": "code",
   "execution_count": 265,
   "id": "07010dae",
   "metadata": {},
   "outputs": [
    {
     "data": {
      "text/plain": [
       "2"
      ]
     },
     "execution_count": 265,
     "metadata": {},
     "output_type": "execute_result"
    }
   ],
   "source": [
    "# Funtions\n",
    "len(S)"
   ]
  },
  {
   "cell_type": "code",
   "execution_count": 267,
   "id": "2dad2bd0",
   "metadata": {},
   "outputs": [
    {
     "ename": "TypeError",
     "evalue": "'>' not supported between instances of 'str' and 'tuple'",
     "output_type": "error",
     "traceback": [
      "\u001b[0;31m---------------------------------------------------------------------------\u001b[0m",
      "\u001b[0;31mTypeError\u001b[0m                                 Traceback (most recent call last)",
      "Cell \u001b[0;32mIn[267], line 1\u001b[0m\n\u001b[0;32m----> 1\u001b[0m \u001b[38;5;28mmax\u001b[39m(S)\n",
      "\u001b[0;31mTypeError\u001b[0m: '>' not supported between instances of 'str' and 'tuple'"
     ]
    }
   ],
   "source": [
    "max(S)"
   ]
  },
  {
   "cell_type": "code",
   "execution_count": 269,
   "id": "812b2a9c",
   "metadata": {},
   "outputs": [],
   "source": [
    "S.add(3)"
   ]
  },
  {
   "cell_type": "code",
   "execution_count": 272,
   "id": "84d23aaa",
   "metadata": {},
   "outputs": [
    {
     "data": {
      "text/plain": [
       "6"
      ]
     },
     "execution_count": 272,
     "metadata": {},
     "output_type": "execute_result"
    }
   ],
   "source": [
    "A={1,2,4,6}\n",
    "max(A)"
   ]
  },
  {
   "cell_type": "code",
   "execution_count": 273,
   "id": "3f67bac8",
   "metadata": {},
   "outputs": [
    {
     "data": {
      "text/plain": [
       "1"
      ]
     },
     "execution_count": 273,
     "metadata": {},
     "output_type": "execute_result"
    }
   ],
   "source": [
    "min(A)"
   ]
  },
  {
   "cell_type": "code",
   "execution_count": 274,
   "id": "8960976e",
   "metadata": {},
   "outputs": [
    {
     "data": {
      "text/plain": [
       "13"
      ]
     },
     "execution_count": 274,
     "metadata": {},
     "output_type": "execute_result"
    }
   ],
   "source": [
    "sum(A)"
   ]
  },
  {
   "cell_type": "code",
   "execution_count": 275,
   "id": "93bffbf3",
   "metadata": {},
   "outputs": [
    {
     "data": {
      "text/plain": [
       "[1, 2, 4, 6]"
      ]
     },
     "execution_count": 275,
     "metadata": {},
     "output_type": "execute_result"
    }
   ],
   "source": [
    "sorted(A)"
   ]
  },
  {
   "cell_type": "code",
   "execution_count": 276,
   "id": "8c1a12c8",
   "metadata": {},
   "outputs": [
    {
     "data": {
      "text/plain": [
       "[6, 4, 2, 1]"
      ]
     },
     "execution_count": 276,
     "metadata": {},
     "output_type": "execute_result"
    }
   ],
   "source": [
    "sorted(A,reverse=True)"
   ]
  },
  {
   "cell_type": "code",
   "execution_count": 278,
   "id": "374670f8",
   "metadata": {},
   "outputs": [
    {
     "data": {
      "text/plain": [
       "{(1, 2, 3), 1, 2, 3, 4, 6, 'hello'}"
      ]
     },
     "execution_count": 278,
     "metadata": {},
     "output_type": "execute_result"
    }
   ],
   "source": [
    "B=A.union(S)\n",
    "B"
   ]
  },
  {
   "cell_type": "code",
   "execution_count": 280,
   "id": "9596fc74",
   "metadata": {},
   "outputs": [
    {
     "data": {
      "text/plain": [
       "{1, 2, 4, 6}"
      ]
     },
     "execution_count": 280,
     "metadata": {},
     "output_type": "execute_result"
    }
   ],
   "source": [
    "A.intersection(B)"
   ]
  },
  {
   "cell_type": "code",
   "execution_count": 281,
   "id": "e59cb194",
   "metadata": {},
   "outputs": [
    {
     "data": {
      "text/plain": [
       "{(1, 2, 3), 3, 'hello'}"
      ]
     },
     "execution_count": 281,
     "metadata": {},
     "output_type": "execute_result"
    }
   ],
   "source": [
    "B.difference(A)"
   ]
  },
  {
   "cell_type": "code",
   "execution_count": 283,
   "id": "77fea988",
   "metadata": {},
   "outputs": [
    {
     "data": {
      "text/plain": [
       "{(1, 2, 3), 3, 'hello'}"
      ]
     },
     "execution_count": 283,
     "metadata": {},
     "output_type": "execute_result"
    }
   ],
   "source": [
    "B.symmetric_difference(A)"
   ]
  },
  {
   "cell_type": "code",
   "execution_count": 285,
   "id": "10202e70",
   "metadata": {},
   "outputs": [
    {
     "data": {
      "text/plain": [
       "False"
      ]
     },
     "execution_count": 285,
     "metadata": {},
     "output_type": "execute_result"
    }
   ],
   "source": [
    "A.isdisjoint(B)"
   ]
  },
  {
   "cell_type": "code",
   "execution_count": 286,
   "id": "f0e9c7f1",
   "metadata": {},
   "outputs": [
    {
     "data": {
      "text/plain": [
       "True"
      ]
     },
     "execution_count": 286,
     "metadata": {},
     "output_type": "execute_result"
    }
   ],
   "source": [
    "A.issubset(B)"
   ]
  },
  {
   "cell_type": "markdown",
   "id": "6172bcc3",
   "metadata": {},
   "source": [
    "# Dictionary\n",
    "1. it doesn't have indexes\n",
    "2. mutable\n",
    "3. keyes are immutable but values can be changed\n",
    "4. keys should be unique\n",
    "\n",
    "\n",
    "5. List,set,dict are mutable\n",
    "6. tuple, string, int,float, bool, and complex are not mutable"
   ]
  },
  {
   "cell_type": "code",
   "execution_count": 288,
   "id": "2c266cfc",
   "metadata": {},
   "outputs": [
    {
     "data": {
      "text/plain": [
       "{}"
      ]
     },
     "execution_count": 288,
     "metadata": {},
     "output_type": "execute_result"
    }
   ],
   "source": [
    "A=dict()\n",
    "A"
   ]
  },
  {
   "cell_type": "code",
   "execution_count": 293,
   "id": "fc4b5318",
   "metadata": {},
   "outputs": [],
   "source": [
    "A={\"a\":1,\n",
    "  \"b\":2}"
   ]
  },
  {
   "cell_type": "code",
   "execution_count": 295,
   "id": "c44bf390",
   "metadata": {},
   "outputs": [
    {
     "ename": "TypeError",
     "evalue": "unhashable type: 'list'",
     "output_type": "error",
     "traceback": [
      "\u001b[0;31m---------------------------------------------------------------------------\u001b[0m",
      "\u001b[0;31mTypeError\u001b[0m                                 Traceback (most recent call last)",
      "Cell \u001b[0;32mIn[295], line 1\u001b[0m\n\u001b[0;32m----> 1\u001b[0m A\u001b[38;5;241m=\u001b[39m{[\u001b[38;5;241m1\u001b[39m,\u001b[38;5;241m2\u001b[39m]:\u001b[38;5;241m1\u001b[39m}\n",
      "\u001b[0;31mTypeError\u001b[0m: unhashable type: 'list'"
     ]
    }
   ],
   "source": [
    "A={[1,2]:1} #keys are immutable"
   ]
  },
  {
   "cell_type": "code",
   "execution_count": 296,
   "id": "77aee727",
   "metadata": {},
   "outputs": [],
   "source": [
    "A={(1,2):1}  #as keys are immuatble"
   ]
  },
  {
   "cell_type": "code",
   "execution_count": 299,
   "id": "e53eed5a",
   "metadata": {},
   "outputs": [
    {
     "data": {
      "text/plain": [
       "{'a': 2}"
      ]
     },
     "execution_count": 299,
     "metadata": {},
     "output_type": "execute_result"
    }
   ],
   "source": [
    "A={\"a\":1, \"a\":2} #will give most recent value of the key\n",
    "A"
   ]
  },
  {
   "cell_type": "code",
   "execution_count": 300,
   "id": "e93e0216",
   "metadata": {},
   "outputs": [
    {
     "data": {
      "text/plain": [
       "{'a': 1, 'b': {'c': 2, 'd': 4}}"
      ]
     },
     "execution_count": 300,
     "metadata": {},
     "output_type": "execute_result"
    }
   ],
   "source": [
    "A={\"a\":1, \"b\":{\"c\":2,\"d\":4}}\n",
    "A"
   ]
  },
  {
   "cell_type": "code",
   "execution_count": 303,
   "id": "0b31d9e3",
   "metadata": {},
   "outputs": [
    {
     "data": {
      "text/plain": [
       "1"
      ]
     },
     "execution_count": 303,
     "metadata": {},
     "output_type": "execute_result"
    }
   ],
   "source": [
    "#Accessing items from dictionary can be done using keys only but not indexes\n",
    "A['a']"
   ]
  },
  {
   "cell_type": "code",
   "execution_count": 302,
   "id": "de3708e6",
   "metadata": {},
   "outputs": [
    {
     "data": {
      "text/plain": [
       "{'c': 2, 'd': 4}"
      ]
     },
     "execution_count": 302,
     "metadata": {},
     "output_type": "execute_result"
    }
   ],
   "source": [
    "A[\"b\"]"
   ]
  },
  {
   "cell_type": "code",
   "execution_count": 306,
   "id": "880aba77",
   "metadata": {},
   "outputs": [
    {
     "data": {
      "text/plain": [
       "2"
      ]
     },
     "execution_count": 306,
     "metadata": {},
     "output_type": "execute_result"
    }
   ],
   "source": [
    "A[\"b\"][\"c\"]"
   ]
  },
  {
   "cell_type": "code",
   "execution_count": 307,
   "id": "dc236098",
   "metadata": {},
   "outputs": [],
   "source": [
    "A[\"a\"]=\"happy\""
   ]
  },
  {
   "cell_type": "code",
   "execution_count": 308,
   "id": "464b1e72",
   "metadata": {},
   "outputs": [
    {
     "data": {
      "text/plain": [
       "{'a': 'happy', 'b': {'c': 2, 'd': 4}}"
      ]
     },
     "execution_count": 308,
     "metadata": {},
     "output_type": "execute_result"
    }
   ],
   "source": [
    "A"
   ]
  },
  {
   "cell_type": "code",
   "execution_count": 309,
   "id": "0abfa6dd",
   "metadata": {},
   "outputs": [
    {
     "data": {
      "text/plain": [
       "'happy'"
      ]
     },
     "execution_count": 309,
     "metadata": {},
     "output_type": "execute_result"
    }
   ],
   "source": [
    "A.get(\"a\")"
   ]
  },
  {
   "cell_type": "code",
   "execution_count": 310,
   "id": "369b3553",
   "metadata": {},
   "outputs": [],
   "source": [
    "#adding new values \n",
    "A[\"e\"]=6"
   ]
  },
  {
   "cell_type": "code",
   "execution_count": 311,
   "id": "b456a4e6",
   "metadata": {},
   "outputs": [
    {
     "data": {
      "text/plain": [
       "{'a': 'happy', 'b': {'c': 2, 'd': 4}, 'e': 6}"
      ]
     },
     "execution_count": 311,
     "metadata": {},
     "output_type": "execute_result"
    }
   ],
   "source": [
    "A"
   ]
  },
  {
   "cell_type": "code",
   "execution_count": 312,
   "id": "ba4099e5",
   "metadata": {},
   "outputs": [],
   "source": [
    "#how to delete \n",
    "del A"
   ]
  },
  {
   "cell_type": "code",
   "execution_count": 318,
   "id": "434f8339",
   "metadata": {},
   "outputs": [],
   "source": [
    "A={\"a\":1, \"b\":{\"c\":2,\"d\":4}}"
   ]
  },
  {
   "cell_type": "code",
   "execution_count": 319,
   "id": "4d888015",
   "metadata": {},
   "outputs": [],
   "source": [
    "#deleting pericular element\n",
    "del A['a']"
   ]
  },
  {
   "cell_type": "code",
   "execution_count": 320,
   "id": "21f1782f",
   "metadata": {},
   "outputs": [
    {
     "data": {
      "text/plain": [
       "{'b': {'c': 2, 'd': 4}}"
      ]
     },
     "execution_count": 320,
     "metadata": {},
     "output_type": "execute_result"
    }
   ],
   "source": [
    "A"
   ]
  },
  {
   "cell_type": "code",
   "execution_count": 324,
   "id": "5f7aca67",
   "metadata": {},
   "outputs": [],
   "source": [
    "#Empty the dictonary, it just clear the elements\n",
    "A.clear()"
   ]
  },
  {
   "cell_type": "code",
   "execution_count": 325,
   "id": "89f3d7f5",
   "metadata": {},
   "outputs": [
    {
     "data": {
      "text/plain": [
       "{}"
      ]
     },
     "execution_count": 325,
     "metadata": {},
     "output_type": "execute_result"
    }
   ],
   "source": [
    "A"
   ]
  },
  {
   "cell_type": "code",
   "execution_count": 329,
   "id": "c4bbddce",
   "metadata": {},
   "outputs": [
    {
     "name": "stdout",
     "output_type": "stream",
     "text": [
      "a\n",
      "1\n",
      "b\n",
      "{'c': 2, 'd': 4}\n"
     ]
    }
   ],
   "source": [
    "#Operations\n",
    "# 1. can't do + and * operations\n",
    "# 2. loop will do the above tasks\n",
    "\n",
    "\n",
    "\n",
    "\n",
    "A={\"a\":1, \"b\":{\"c\":2,\"d\":4}}\n",
    "for i in A:\n",
    "    print(i)\n",
    "    print(A[i])\n"
   ]
  },
  {
   "cell_type": "code",
   "execution_count": 330,
   "id": "1773251d",
   "metadata": {},
   "outputs": [
    {
     "data": {
      "text/plain": [
       "False"
      ]
     },
     "execution_count": 330,
     "metadata": {},
     "output_type": "execute_result"
    }
   ],
   "source": [
    "# Checking the avaialablity of elements in dict\n",
    "1 in A #not apply on values but on keys, see below"
   ]
  },
  {
   "cell_type": "code",
   "execution_count": 331,
   "id": "ace102fe",
   "metadata": {},
   "outputs": [
    {
     "data": {
      "text/plain": [
       "True"
      ]
     },
     "execution_count": 331,
     "metadata": {},
     "output_type": "execute_result"
    }
   ],
   "source": [
    "\"a\" in A"
   ]
  },
  {
   "cell_type": "code",
   "execution_count": 333,
   "id": "1d8e2928",
   "metadata": {},
   "outputs": [
    {
     "data": {
      "text/plain": [
       "dict_keys(['a', 'b'])"
      ]
     },
     "execution_count": 333,
     "metadata": {},
     "output_type": "execute_result"
    }
   ],
   "source": [
    "#Special functions for accessing the keys and values\n",
    "A.keys()\n"
   ]
  },
  {
   "cell_type": "code",
   "execution_count": 334,
   "id": "53684d7a",
   "metadata": {},
   "outputs": [
    {
     "data": {
      "text/plain": [
       "dict_values([1, {'c': 2, 'd': 4}])"
      ]
     },
     "execution_count": 334,
     "metadata": {},
     "output_type": "execute_result"
    }
   ],
   "source": [
    "A.values()"
   ]
  },
  {
   "cell_type": "code",
   "execution_count": null,
   "id": "dde547ed",
   "metadata": {},
   "outputs": [],
   "source": []
  },
  {
   "cell_type": "code",
   "execution_count": 335,
   "id": "cd4fa0b5",
   "metadata": {},
   "outputs": [
    {
     "data": {
      "text/plain": [
       "\"dict() -> new empty dictionary\\ndict(mapping) -> new dictionary initialized from a mapping object's\\n    (key, value) pairs\\ndict(iterable) -> new dictionary initialized as if via:\\n    d = {}\\n    for k, v in iterable:\\n        d[k] = v\\ndict(**kwargs) -> new dictionary initialized with the name=value pairs\\n    in the keyword argument list.  For example:  dict(one=1, two=2)\""
      ]
     },
     "execution_count": 335,
     "metadata": {},
     "output_type": "execute_result"
    }
   ],
   "source": [
    "dict.__doc__"
   ]
  },
  {
   "cell_type": "markdown",
   "id": "81c18839",
   "metadata": {},
   "source": [
    "# Function\n",
    "1. if a function doesn't any value it returns none# \n",
    "\n",
    "2. always make sure your function doesn't crash, you can do it by different means depending on the use case\n",
    "\n",
    "# Benifits of using Functions\n",
    "1. code modularity\n",
    "2. code reusablity\n",
    "3. code organisation\n",
    "\n"
   ]
  },
  {
   "cell_type": "code",
   "execution_count": 340,
   "id": "9e0ed282",
   "metadata": {},
   "outputs": [],
   "source": [
    "# passing variable number of arguments,here *number is a tuple of number\n",
    "def multiply(*number):\n",
    "    print(number)\n",
    "    prod=1\n",
    "    for i in number:\n",
    "        prod=prod*i\n",
    "    print(prod)"
   ]
  },
  {
   "cell_type": "code",
   "execution_count": 341,
   "id": "b25c5469",
   "metadata": {},
   "outputs": [
    {
     "name": "stdout",
     "output_type": "stream",
     "text": [
      "(1, 3, 4, 5, 6)\n",
      "360\n"
     ]
    }
   ],
   "source": [
    "multiply(1,3,4,5,6)"
   ]
  },
  {
   "cell_type": "code",
   "execution_count": 343,
   "id": "07a2c039",
   "metadata": {},
   "outputs": [
    {
     "name": "stdout",
     "output_type": "stream",
     "text": [
      "2\n",
      "None\n",
      "2\n"
     ]
    }
   ],
   "source": [
    "# if a function doesn't have a local variable then it can use global one. but it can't change the value of it.\n",
    "#but using the global keyword we change it' value\n",
    "def new(s):\n",
    "    print(x)\n",
    "\n",
    "x=2\n",
    "print(new(s))\n",
    "print(x)"
   ]
  },
  {
   "cell_type": "code",
   "execution_count": 346,
   "id": "e8c70a7a",
   "metadata": {},
   "outputs": [
    {
     "ename": "UnboundLocalError",
     "evalue": "cannot access local variable 'x' where it is not associated with a value",
     "output_type": "error",
     "traceback": [
      "\u001b[0;31m---------------------------------------------------------------------------\u001b[0m",
      "\u001b[0;31mUnboundLocalError\u001b[0m                         Traceback (most recent call last)",
      "Cell \u001b[0;32mIn[346], line 6\u001b[0m\n\u001b[1;32m      3\u001b[0m     x\u001b[38;5;241m=\u001b[39mx\u001b[38;5;241m+\u001b[39m\u001b[38;5;241m1\u001b[39m\n\u001b[1;32m      5\u001b[0m x\u001b[38;5;241m=\u001b[39m\u001b[38;5;241m2\u001b[39m\n\u001b[0;32m----> 6\u001b[0m \u001b[38;5;28mprint\u001b[39m(new(s))\n\u001b[1;32m      7\u001b[0m \u001b[38;5;28mprint\u001b[39m(x)\n",
      "Cell \u001b[0;32mIn[346], line 3\u001b[0m, in \u001b[0;36mnew\u001b[0;34m(s)\u001b[0m\n\u001b[1;32m      1\u001b[0m \u001b[38;5;28;01mdef\u001b[39;00m \u001b[38;5;21mnew\u001b[39m(s):  \u001b[38;5;66;03m#chnge in global varaibles are not allowed\u001b[39;00m\n\u001b[0;32m----> 3\u001b[0m     x\u001b[38;5;241m=\u001b[39mx\u001b[38;5;241m+\u001b[39m\u001b[38;5;241m1\u001b[39m\n",
      "\u001b[0;31mUnboundLocalError\u001b[0m: cannot access local variable 'x' where it is not associated with a value"
     ]
    }
   ],
   "source": [
    "def new(s):  #chnge in global varaibles are not allowed\n",
    "    \n",
    "    x=x+1\n",
    "\n",
    "x=2\n",
    "print(new(s))\n",
    "print(x)"
   ]
  },
  {
   "cell_type": "code",
   "execution_count": 347,
   "id": "18c81766",
   "metadata": {},
   "outputs": [
    {
     "name": "stdout",
     "output_type": "stream",
     "text": [
      "None\n",
      "3\n"
     ]
    }
   ],
   "source": [
    "def new(s):\n",
    "    global x\n",
    "    x=x+1\n",
    "\n",
    "x=2\n",
    "print(new(s))\n",
    "print(x)"
   ]
  },
  {
   "cell_type": "code",
   "execution_count": 355,
   "id": "40a39a04",
   "metadata": {},
   "outputs": [
    {
     "name": "stdout",
     "output_type": "stream",
     "text": [
      "inside A\n",
      "inside B\n"
     ]
    }
   ],
   "source": [
    "#nested function\n",
    "def A():\n",
    "    print(\"inside A\")\n",
    "    def B():\n",
    "        print(\"inside B\")\n",
    "    B()\n",
    "A()"
   ]
  },
  {
   "cell_type": "code",
   "execution_count": 356,
   "id": "e328f85f",
   "metadata": {},
   "outputs": [
    {
     "name": "stdout",
     "output_type": "stream",
     "text": [
      "inside A\n"
     ]
    }
   ],
   "source": [
    "def A():\n",
    "    print(\"inside A\")\n",
    "    def B():\n",
    "        print(\"inside B\")\n",
    "A()    "
   ]
  },
  {
   "cell_type": "code",
   "execution_count": 358,
   "id": "7a70f3de",
   "metadata": {},
   "outputs": [
    {
     "name": "stdout",
     "output_type": "stream",
     "text": [
      "inside A\n"
     ]
    }
   ],
   "source": [
    "# function as object\n",
    "x=A\n",
    "x()"
   ]
  },
  {
   "cell_type": "code",
   "execution_count": 359,
   "id": "259d0e7b",
   "metadata": {},
   "outputs": [],
   "source": [
    "# function can be a data type also"
   ]
  },
  {
   "cell_type": "markdown",
   "id": "3119446e",
   "metadata": {},
   "source": [
    "# Recusion"
   ]
  },
  {
   "cell_type": "code",
   "execution_count": 361,
   "id": "66789765",
   "metadata": {},
   "outputs": [
    {
     "data": {
      "text/plain": [
       "6"
      ]
     },
     "execution_count": 361,
     "metadata": {},
     "output_type": "execute_result"
    }
   ],
   "source": [
    "def mul(a,b):\n",
    "    res=0\n",
    "    for i in range(b):\n",
    "        res=res+a\n",
    "    return res\n",
    "        \n",
    "\n",
    "mul(2,3)"
   ]
  },
  {
   "cell_type": "code",
   "execution_count": 363,
   "id": "76d40cfb",
   "metadata": {},
   "outputs": [
    {
     "name": "stdout",
     "output_type": "stream",
     "text": [
      "6\n"
     ]
    }
   ],
   "source": [
    "#last in first out \n",
    "def mul(a,b):\n",
    "    if a==1:\n",
    "        return b\n",
    "    else: \n",
    "        return b+mul(a-1,b)\n",
    "    \n",
    "print(mul(2,3))"
   ]
  },
  {
   "cell_type": "code",
   "execution_count": 367,
   "id": "5f59388e",
   "metadata": {},
   "outputs": [
    {
     "data": {
      "text/plain": [
       "6"
      ]
     },
     "execution_count": 367,
     "metadata": {},
     "output_type": "execute_result"
    }
   ],
   "source": [
    "#factorial \n",
    "def fact(n):\n",
    "    if n==1:\n",
    "        return n\n",
    "    else:\n",
    "        return n*fact(n-1)\n",
    "\n",
    "    \n",
    "fact(3) "
   ]
  },
  {
   "cell_type": "code",
   "execution_count": 371,
   "id": "22fa2c66",
   "metadata": {},
   "outputs": [
    {
     "name": "stdout",
     "output_type": "stream",
     "text": [
      "palindrom\n"
     ]
    }
   ],
   "source": [
    "#Palindrom \n",
    "def pal(string):\n",
    "    if len(string)<=1:\n",
    "        print('palindrom')\n",
    "    else:\n",
    "        if string[0]==string[-1]:\n",
    "            pal(string[1:-1])\n",
    "        else:\n",
    "            print(\"not palindrom\")\n",
    "            \n",
    "pal(\"mam\")\n",
    "        "
   ]
  },
  {
   "cell_type": "code",
   "execution_count": 369,
   "id": "609c7412",
   "metadata": {},
   "outputs": [
    {
     "name": "stdout",
     "output_type": "stream",
     "text": [
      "not palindrom\n"
     ]
    }
   ],
   "source": [
    "pal('happy')"
   ]
  },
  {
   "cell_type": "code",
   "execution_count": 372,
   "id": "8f681391",
   "metadata": {},
   "outputs": [
    {
     "name": "stdout",
     "output_type": "stream",
     "text": [
      "palindrom\n"
     ]
    }
   ],
   "source": [
    "pal(\"aaaa\")"
   ]
  },
  {
   "cell_type": "code",
   "execution_count": 385,
   "id": "7f83ddc8",
   "metadata": {},
   "outputs": [
    {
     "name": "stdout",
     "output_type": "stream",
     "text": [
      "time took: 49.30919623374939\n"
     ]
    }
   ],
   "source": [
    "#fibonacci\n",
    "import time\n",
    "def fib(n):\n",
    "    if n==1 or n==0:\n",
    "        return 1\n",
    "    else:\n",
    "        return fib(n-1)+fib(n-2)\n",
    "\n",
    "start=time.time()\n",
    "fib(42)\n",
    "end=time.time()\n",
    "print(\"time took:\", end-start)"
   ]
  },
  {
   "cell_type": "code",
   "execution_count": 386,
   "id": "ab34cf84",
   "metadata": {},
   "outputs": [],
   "source": [
    "# but recursion is highly inefficient, you can observe this by using big value in fib function. \n",
    "# here time compexity is 2**n, if we use this function some website anf in any case user give very big value\n",
    "#it may take years to give the result."
   ]
  },
  {
   "cell_type": "markdown",
   "id": "c1b6d812",
   "metadata": {},
   "source": [
    "# Iterator\n",
    "it is an object in python that allow the programmer to traverse through\n",
    "a sequence of data woithout having to store the entire data in the memory.\n",
    "1. loops\n",
    "2. heavily used in machine learning and deep learning to handle the large amount of data. coz they store one element at a time in the memory. save huge amout of ram"
   ]
  },
  {
   "cell_type": "code",
   "execution_count": 388,
   "id": "e9e59972",
   "metadata": {},
   "outputs": [
    {
     "data": {
      "text/plain": [
       "472"
      ]
     },
     "execution_count": 388,
     "metadata": {},
     "output_type": "execute_result"
    }
   ],
   "source": [
    "L=[i for i in range(50)] #iterable\n",
    "\n",
    "import sys\n",
    "sys.getsizeof(L)"
   ]
  },
  {
   "cell_type": "code",
   "execution_count": 391,
   "id": "b8d9e18e",
   "metadata": {},
   "outputs": [
    {
     "data": {
      "text/plain": [
       "48"
      ]
     },
     "execution_count": 391,
     "metadata": {},
     "output_type": "execute_result"
    }
   ],
   "source": [
    "# do above thing using range only not using list,here range uses iterator. and took very less memory space.\n",
    "x=range(50) #iterable\n",
    "sys.getsizeof(x)"
   ]
  },
  {
   "cell_type": "markdown",
   "id": "235cdede",
   "metadata": {},
   "source": [
    "# Iterable\n",
    "1. it can generate an iterator when pass on to function iter()\n",
    "2. every itaerator is also an itarable but nort all the iterables are iterators\n",
    "3. every iterable has an iter() function.\n",
    "4. every iterator has both iter and next function."
   ]
  },
  {
   "cell_type": "code",
   "execution_count": 394,
   "id": "ebb95c4a",
   "metadata": {},
   "outputs": [
    {
     "data": {
      "text/plain": [
       "list_iterator"
      ]
     },
     "execution_count": 394,
     "metadata": {},
     "output_type": "execute_result"
    }
   ],
   "source": [
    "L=[1,2,3,5] #iterable but not iterator, because it need to load all the elments in the meomry at once but iterator does do this.\n",
    "iter(L) #iterator\n",
    "type(iter(L))\n"
   ]
  },
  {
   "cell_type": "code",
   "execution_count": 396,
   "id": "5a3c23e8",
   "metadata": {},
   "outputs": [
    {
     "data": {
      "text/plain": [
       "['__class__',\n",
       " '__delattr__',\n",
       " '__dir__',\n",
       " '__doc__',\n",
       " '__eq__',\n",
       " '__format__',\n",
       " '__ge__',\n",
       " '__getattribute__',\n",
       " '__getstate__',\n",
       " '__gt__',\n",
       " '__hash__',\n",
       " '__init__',\n",
       " '__init_subclass__',\n",
       " '__iter__',\n",
       " '__le__',\n",
       " '__length_hint__',\n",
       " '__lt__',\n",
       " '__ne__',\n",
       " '__new__',\n",
       " '__next__',\n",
       " '__reduce__',\n",
       " '__reduce_ex__',\n",
       " '__repr__',\n",
       " '__setattr__',\n",
       " '__setstate__',\n",
       " '__sizeof__',\n",
       " '__str__',\n",
       " '__subclasshook__']"
      ]
     },
     "execution_count": 396,
     "metadata": {},
     "output_type": "execute_result"
    }
   ],
   "source": [
    "dir(L) #is iterable becasue it has iter function \n",
    "dir(iter(L)) #is iterator because it has both __iter__ and __next__ methods"
   ]
  },
  {
   "cell_type": "code",
   "execution_count": 404,
   "id": "54a52dc1",
   "metadata": {},
   "outputs": [
    {
     "ename": "StopIteration",
     "evalue": "",
     "output_type": "error",
     "traceback": [
      "\u001b[0;31m---------------------------------------------------------------------------\u001b[0m",
      "\u001b[0;31mStopIteration\u001b[0m                             Traceback (most recent call last)",
      "Cell \u001b[0;32mIn[404], line 10\u001b[0m\n\u001b[1;32m      8\u001b[0m \u001b[38;5;28mnext\u001b[39m(x)\n\u001b[1;32m      9\u001b[0m \u001b[38;5;28mnext\u001b[39m(x)\n\u001b[0;32m---> 10\u001b[0m \u001b[38;5;28mnext\u001b[39m(x)\n",
      "\u001b[0;31mStopIteration\u001b[0m: "
     ]
    }
   ],
   "source": [
    "#working of for loop\n",
    "L=[1,2,3,4,5]\n",
    "x=iter(L)\n",
    "next(x)\n",
    "next(x)\n",
    "next(x)\n",
    "\n",
    "next(x)\n",
    "next(x)\n",
    "next(x)"
   ]
  },
  {
   "cell_type": "code",
   "execution_count": 408,
   "id": "8d7a1f12",
   "metadata": {},
   "outputs": [],
   "source": [
    "def myloop(x):\n",
    "    iters=iter(x)\n",
    "    while True:\n",
    "        \n",
    "        try:\n",
    "            print(next(iters))\n",
    "        except StopIteration:\n",
    "            break\n",
    "            "
   ]
  },
  {
   "cell_type": "code",
   "execution_count": 409,
   "id": "873a8cbc",
   "metadata": {},
   "outputs": [
    {
     "name": "stdout",
     "output_type": "stream",
     "text": [
      "1\n",
      "2\n",
      "3\n",
      "4\n",
      "5\n"
     ]
    }
   ],
   "source": [
    "myloop(L)"
   ]
  },
  {
   "cell_type": "code",
   "execution_count": 417,
   "id": "7ab64e80",
   "metadata": {},
   "outputs": [],
   "source": [
    "class Myrange:\n",
    "    def __init__(self,start,end):\n",
    "        self.start=start\n",
    "        self.end=end\n",
    "    def __iter__(self):\n",
    "        return range_iter(self)"
   ]
  },
  {
   "cell_type": "code",
   "execution_count": 418,
   "id": "1662125b",
   "metadata": {},
   "outputs": [],
   "source": [
    "class range_iter:\n",
    "    def __init__(self,iterable_obj):\n",
    "        self.iterable_obj=iterable_obj\n",
    "        \n",
    "    def __iter__(self):\n",
    "        return self\n",
    "    \n",
    "    def __next__(self):\n",
    "        if self.iterable_obj.start>=self.iterable_obj.end:\n",
    "            raise StopIteration\n",
    "        \n",
    "        current=self.iterable_obj.start\n",
    "        self.iterable_obj.start+=1\n",
    "        return current\n",
    "        "
   ]
  },
  {
   "cell_type": "code",
   "execution_count": 419,
   "id": "9002aa50",
   "metadata": {},
   "outputs": [
    {
     "name": "stdout",
     "output_type": "stream",
     "text": [
      "1\n",
      "2\n",
      "3\n",
      "4\n"
     ]
    }
   ],
   "source": [
    "for i in Myrange(1,5):\n",
    "    print(i)"
   ]
  },
  {
   "cell_type": "markdown",
   "id": "c71910a3",
   "metadata": {},
   "source": [
    "# Generators\n",
    "generators are simple way of creating iterators\n",
    "1. difference between generator and normal fucntion: normal fucntion execute and return it's final output.\n",
    "2. but generators on execution give result and on next iteratiuon they remember theoir past output and output the next item."
   ]
  },
  {
   "cell_type": "code",
   "execution_count": 427,
   "id": "23050302",
   "metadata": {},
   "outputs": [
    {
     "name": "stdout",
     "output_type": "stream",
     "text": [
      "<generator object gen at 0x110294720>\n"
     ]
    }
   ],
   "source": [
    "def gen():\n",
    "    yield \"first\"\n",
    "    yield \"2nd\"\n",
    "\n",
    "g=gen()\n",
    "print(g)"
   ]
  },
  {
   "cell_type": "code",
   "execution_count": 422,
   "id": "c16be03c",
   "metadata": {},
   "outputs": [
    {
     "name": "stdout",
     "output_type": "stream",
     "text": [
      "first\n"
     ]
    }
   ],
   "source": [
    "print(next(g))"
   ]
  },
  {
   "cell_type": "code",
   "execution_count": 423,
   "id": "34308e31",
   "metadata": {},
   "outputs": [
    {
     "name": "stdout",
     "output_type": "stream",
     "text": [
      "2nd\n"
     ]
    }
   ],
   "source": [
    "print(next(g))"
   ]
  },
  {
   "cell_type": "code",
   "execution_count": 428,
   "id": "1be7ebf9",
   "metadata": {},
   "outputs": [
    {
     "name": "stdout",
     "output_type": "stream",
     "text": [
      "first\n",
      "2nd\n"
     ]
    }
   ],
   "source": [
    "for i in g:\n",
    "    print(i)"
   ]
  },
  {
   "cell_type": "code",
   "execution_count": 435,
   "id": "878fde77",
   "metadata": {},
   "outputs": [],
   "source": [
    "def sqre(num):\n",
    "    for i in range(1, num+1):\n",
    "        yield i**2\n",
    "    "
   ]
  },
  {
   "cell_type": "code",
   "execution_count": 436,
   "id": "368e77a7",
   "metadata": {},
   "outputs": [],
   "source": [
    "gen=sqre(10)"
   ]
  },
  {
   "cell_type": "code",
   "execution_count": 437,
   "id": "47c30da7",
   "metadata": {},
   "outputs": [
    {
     "name": "stdout",
     "output_type": "stream",
     "text": [
      "1\n"
     ]
    }
   ],
   "source": [
    "print(next(gen))"
   ]
  },
  {
   "cell_type": "code",
   "execution_count": 438,
   "id": "b5efa185",
   "metadata": {},
   "outputs": [
    {
     "name": "stdout",
     "output_type": "stream",
     "text": [
      "4\n",
      "9\n",
      "16\n",
      "25\n",
      "36\n",
      "49\n",
      "64\n",
      "81\n",
      "100\n"
     ]
    }
   ],
   "source": [
    "for i in gen: #it remembers the previous output and give the result for 2 onwards\n",
    "    print(i)"
   ]
  },
  {
   "cell_type": "code",
   "execution_count": 439,
   "id": "3ebcd792",
   "metadata": {},
   "outputs": [],
   "source": [
    "# Range function using generator\n",
    "def my_range(n):\n",
    "    for i in range(n):\n",
    "        yield i"
   ]
  },
  {
   "cell_type": "code",
   "execution_count": 441,
   "id": "8a450269",
   "metadata": {},
   "outputs": [],
   "source": [
    "rng=my_range(3)"
   ]
  },
  {
   "cell_type": "code",
   "execution_count": 442,
   "id": "2b6fc2bd",
   "metadata": {},
   "outputs": [
    {
     "name": "stdout",
     "output_type": "stream",
     "text": [
      "0\n",
      "1\n",
      "2\n"
     ]
    }
   ],
   "source": [
    "for i in rng:\n",
    "    print(i)"
   ]
  },
  {
   "cell_type": "markdown",
   "id": "58453363",
   "metadata": {},
   "source": [
    "# More siplified form for generators\n",
    "# Generators Expression"
   ]
  },
  {
   "cell_type": "code",
   "execution_count": 443,
   "id": "c6db8753",
   "metadata": {},
   "outputs": [
    {
     "data": {
      "text/plain": [
       "[1, 4, 9, 16]"
      ]
     },
     "execution_count": 443,
     "metadata": {},
     "output_type": "execute_result"
    }
   ],
   "source": [
    "L=[i**2 for i in range(1,5)]\n",
    "L"
   ]
  },
  {
   "cell_type": "code",
   "execution_count": 445,
   "id": "d7179959",
   "metadata": {},
   "outputs": [
    {
     "name": "stdout",
     "output_type": "stream",
     "text": [
      "1\n",
      "4\n",
      "9\n",
      "16\n"
     ]
    }
   ],
   "source": [
    "gen=(i**2 for i in range(1,5))  #generator expression\n",
    "for i in gen:\n",
    "    print(i)"
   ]
  },
  {
   "cell_type": "code",
   "execution_count": 446,
   "id": "868a3a48",
   "metadata": {},
   "outputs": [
    {
     "data": {
      "text/plain": [
       "<generator object <genexpr> at 0x11035fe00>"
      ]
     },
     "execution_count": 446,
     "metadata": {},
     "output_type": "execute_result"
    }
   ],
   "source": [
    "gen"
   ]
  },
  {
   "cell_type": "markdown",
   "id": "f9140483",
   "metadata": {},
   "source": [
    "# UseCase\n",
    "## specifically in deep learning and deep learning where we have to deal with large amount of data"
   ]
  },
  {
   "cell_type": "code",
   "execution_count": 450,
   "id": "a8a4f3f9",
   "metadata": {},
   "outputs": [
    {
     "name": "stdout",
     "output_type": "stream",
     "text": [
      "Collecting opencv-python\n",
      "  Obtaining dependency information for opencv-python from https://files.pythonhosted.org/packages/77/df/b56175c3fb5bc058774bdcf35f5a71cf9c3c5b909f98a1c688eb71cd3b1f/opencv_python-4.9.0.80-cp37-abi3-macosx_11_0_arm64.whl.metadata\n",
      "  Downloading opencv_python-4.9.0.80-cp37-abi3-macosx_11_0_arm64.whl.metadata (20 kB)\n",
      "Requirement already satisfied: numpy>=1.21.2 in ./anaconda3/lib/python3.11/site-packages (from opencv-python) (1.23.5)\n",
      "Downloading opencv_python-4.9.0.80-cp37-abi3-macosx_11_0_arm64.whl (35.4 MB)\n",
      "\u001b[2K   \u001b[90m━━━━━━━━━━━━━━━━━━━━━━━━━━━━━━━━━━━━━━━━\u001b[0m \u001b[32m35.4/35.4 MB\u001b[0m \u001b[31m6.1 MB/s\u001b[0m eta \u001b[36m0:00:00\u001b[0m00:01\u001b[0m00:01\u001b[0m\n",
      "\u001b[?25hInstalling collected packages: opencv-python\n",
      "Successfully installed opencv-python-4.9.0.80\n"
     ]
    }
   ],
   "source": [
    "!pip install opencv-python\n"
   ]
  },
  {
   "cell_type": "code",
   "execution_count": 463,
   "id": "684dcde9",
   "metadata": {},
   "outputs": [],
   "source": [
    "import os \n",
    "import cv2  #very useful in deep learning\n",
    "\n",
    "def image_data_reader(folder_path):\n",
    "    for file in os.listdir(folder_path):\n",
    "        f_array=cv2.imread(os.path.join(folder_path,file))\n",
    "        yield f_array"
   ]
  },
  {
   "cell_type": "code",
   "execution_count": 464,
   "id": "14c20659",
   "metadata": {},
   "outputs": [
    {
     "data": {
      "text/plain": [
       "array([[[158, 157, 143],\n",
       "        [128, 126, 115],\n",
       "        [103,  97,  92],\n",
       "        ...,\n",
       "        [ 71,  70,  66],\n",
       "        [ 71,  70,  66],\n",
       "        [ 71,  70,  66]],\n",
       "\n",
       "       [[158, 157, 143],\n",
       "        [128, 126, 115],\n",
       "        [103,  97,  92],\n",
       "        ...,\n",
       "        [ 74,  73,  69],\n",
       "        [ 74,  73,  69],\n",
       "        [ 74,  73,  69]],\n",
       "\n",
       "       [[157, 156, 142],\n",
       "        [128, 126, 115],\n",
       "        [103,  97,  92],\n",
       "        ...,\n",
       "        [ 77,  76,  72],\n",
       "        [ 77,  76,  72],\n",
       "        [ 77,  76,  72]],\n",
       "\n",
       "       ...,\n",
       "\n",
       "       [[128, 123, 125],\n",
       "        [126, 121, 123],\n",
       "        [124, 119, 121],\n",
       "        ...,\n",
       "        [ 40,  61,  83],\n",
       "        [ 38,  59,  81],\n",
       "        [ 37,  58,  80]],\n",
       "\n",
       "       [[135, 132, 134],\n",
       "        [132, 129, 131],\n",
       "        [130, 127, 129],\n",
       "        ...,\n",
       "        [ 39,  60,  82],\n",
       "        [ 38,  59,  81],\n",
       "        [ 37,  58,  80]],\n",
       "\n",
       "       [[140, 137, 139],\n",
       "        [138, 135, 137],\n",
       "        [135, 132, 134],\n",
       "        ...,\n",
       "        [ 39,  60,  82],\n",
       "        [ 38,  59,  81],\n",
       "        [ 37,  58,  80]]], dtype=uint8)"
      ]
     },
     "execution_count": 464,
     "metadata": {},
     "output_type": "execute_result"
    }
   ],
   "source": [
    "gen=image_data_reader('/Users/ravina/Desktop/Cat') #loading one image at a time in the memory, keras implemented the same thing their documentation.\n",
    "next(gen)\n",
    "next(gen)"
   ]
  },
  {
   "cell_type": "markdown",
   "id": "ff098bbc",
   "metadata": {},
   "source": [
    "# Benifits of using generators\n",
    "1. ease of implementation \n",
    "2. memory effecient: save memory\n",
    "3. can represent infinite dtream: it can. work on infinite length of data by fetching one elememt at a time\n",
    "4. can chain the generators"
   ]
  },
  {
   "cell_type": "code",
   "execution_count": null,
   "id": "a4157180",
   "metadata": {},
   "outputs": [],
   "source": []
  }
 ],
 "metadata": {
  "kernelspec": {
   "display_name": "Python 3 (ipykernel)",
   "language": "python",
   "name": "python3"
  },
  "language_info": {
   "codemirror_mode": {
    "name": "ipython",
    "version": 3
   },
   "file_extension": ".py",
   "mimetype": "text/x-python",
   "name": "python",
   "nbconvert_exporter": "python",
   "pygments_lexer": "ipython3",
   "version": "3.11.4"
  }
 },
 "nbformat": 4,
 "nbformat_minor": 5
}
