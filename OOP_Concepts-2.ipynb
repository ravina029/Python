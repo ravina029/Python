{
 "cells": [
  {
   "cell_type": "code",
   "execution_count": 92,
   "id": "1e4cd6c8",
   "metadata": {},
   "outputs": [
    {
     "name": "stdout",
     "output_type": "stream",
     "text": [
      "\n",
      "            Hello! How would you like to proceed?\n",
      "            1. Enter 1 to create a pin\n",
      "            2. Enter 2 to check balance\n",
      "            3. Enter 3 to withdraw\n",
      "            4. Enter 4 to deposit\n",
      "            5. Enter 5 to exit\n",
      "        1\n",
      "Enter your pin: 1\n",
      "Pin successfully created!\n"
     ]
    }
   ],
   "source": [
    "class Atm:\n",
    "    def __init__(self):  #magic method\n",
    "        self.__pin = \"\" #private instances\n",
    "        self.__balance = 0\n",
    "        self.__menu()\n",
    "    \n",
    "    #Encapsulation: setting the sensitive data private and the recieving the data with getter method and updating the value using setter method is all about encapsulation.\n",
    "    def get_pin(self): #getter function\n",
    "        return self.__pin\n",
    "    \n",
    "    def set_pin(self,new_pin): #setter function\n",
    "        if type(new_pin)==int:\n",
    "            self.__pin=new_pin\n",
    "            print(\"Pin Changed\")\n",
    "        else:\n",
    "            print(\"Not allowed\")\n",
    "\n",
    "    def __menu(self): #private method, can't be accesed fronm outside the class\n",
    "        user_input = input(\"\"\"\n",
    "            Hello! How would you like to proceed?\n",
    "            1. Enter 1 to create a pin\n",
    "            2. Enter 2 to check balance\n",
    "            3. Enter 3 to withdraw\n",
    "            4. Enter 4 to deposit\n",
    "            5. Enter 5 to exit\n",
    "        \"\"\")\n",
    "\n",
    "        if user_input == '1':\n",
    "            self.create_pin()\n",
    "\n",
    "        elif user_input == '2':\n",
    "            self.check_balance()\n",
    "\n",
    "        elif user_input == '3':\n",
    "            self.withdraw()\n",
    "\n",
    "        elif user_input == '4':\n",
    "            self.deposit()\n",
    "\n",
    "        elif user_input == '5':\n",
    "            print(\"Exiting the ATM. Thank you!\")\n",
    "\n",
    "        else:\n",
    "            print(\"Invalid input. Please enter a valid option.\")\n",
    "\n",
    "    def create_pin(self):\n",
    "        self.__pin = input(\"Enter your pin: \")\n",
    "        print(\"Pin successfully created!\")\n",
    "\n",
    "    def check_balance(self):\n",
    "        entered_pin = input(\"Enter your pin: \")\n",
    "        if entered_pin == self.__pin:\n",
    "            print(\"Your balance is: ${}\".format(self.balance))\n",
    "        else:\n",
    "            print(\"Invalid PIN.\")\n",
    "\n",
    "    def deposit(self):\n",
    "        entered_pin = input(\"Enter your pin: \")\n",
    "        if entered_pin == self.__pin:\n",
    "            amount = float(input(\"Enter the deposit amount: $\"))\n",
    "            self.__balance += amount\n",
    "            print(\"Deposit successful. Updated balance: ${}\".format(self.__balance))\n",
    "        else:\n",
    "            print(\"Invalid PIN.\")\n",
    "\n",
    "    def withdraw(self):\n",
    "        entered_pin = input(\"Enter your pin: \")\n",
    "        if entered_pin == self.__pin:\n",
    "            amount = float(input(\"Enter the withdrawal amount: $\"))\n",
    "            if amount <= self.__balance:\n",
    "                self.__balance -= amount\n",
    "                print(\"Withdrawal successful. Updated balance: ${}\".format(self.__balance))\n",
    "            else:\n",
    "                print(\"Insufficient funds.\")\n",
    "        else:\n",
    "            print(\"Invalid PIN.\")\n",
    "\n",
    "\n",
    "# Create an instance of the ATM class\n",
    "atm = Atm()\n"
   ]
  },
  {
   "cell_type": "code",
   "execution_count": 93,
   "id": "451eb74b",
   "metadata": {},
   "outputs": [
    {
     "data": {
      "text/plain": [
       "'1'"
      ]
     },
     "execution_count": 93,
     "metadata": {},
     "output_type": "execute_result"
    }
   ],
   "source": [
    "atm.get_pin()"
   ]
  },
  {
   "cell_type": "code",
   "execution_count": 94,
   "id": "6c59bb2b",
   "metadata": {},
   "outputs": [
    {
     "name": "stdout",
     "output_type": "stream",
     "text": [
      "Not allowed\n"
     ]
    }
   ],
   "source": [
    "atm.set_pin(\"r\")"
   ]
  },
  {
   "cell_type": "code",
   "execution_count": 95,
   "id": "949f50a5",
   "metadata": {},
   "outputs": [
    {
     "name": "stdout",
     "output_type": "stream",
     "text": [
      "Pin Changed\n"
     ]
    }
   ],
   "source": [
    "atm.set_pin(2)"
   ]
  },
  {
   "cell_type": "code",
   "execution_count": 96,
   "id": "9426f839",
   "metadata": {},
   "outputs": [
    {
     "data": {
      "text/plain": [
       "2"
      ]
     },
     "execution_count": 96,
     "metadata": {},
     "output_type": "execute_result"
    }
   ],
   "source": [
    "atm.get_pin()"
   ]
  },
  {
   "cell_type": "code",
   "execution_count": 70,
   "id": "64906000",
   "metadata": {},
   "outputs": [
    {
     "name": "stdout",
     "output_type": "stream",
     "text": [
      "Enter your pin: 1\n",
      "Enter the deposit amount: $200\n",
      "Deposit successful. Updated balance: $200.0\n"
     ]
    }
   ],
   "source": [
    "atm.deposit()"
   ]
  },
  {
   "cell_type": "code",
   "execution_count": 80,
   "id": "812e8fbf",
   "metadata": {},
   "outputs": [],
   "source": [
    "_Atm__pin=2"
   ]
  },
  {
   "cell_type": "code",
   "execution_count": 71,
   "id": "879c441f",
   "metadata": {},
   "outputs": [
    {
     "name": "stdout",
     "output_type": "stream",
     "text": [
      "Enter your pin: 1\n",
      "Enter the withdrawal amount: $28\n",
      "Withdrawal successful. Updated balance: $172.0\n"
     ]
    }
   ],
   "source": [
    "atm.withdraw()"
   ]
  },
  {
   "cell_type": "code",
   "execution_count": 72,
   "id": "c8443d73",
   "metadata": {},
   "outputs": [
    {
     "name": "stdout",
     "output_type": "stream",
     "text": [
      "Enter your pin: 1\n",
      "Enter the withdrawal amount: $23\n",
      "Withdrawal successful. Updated balance: $149.0\n"
     ]
    }
   ],
   "source": [
    "atm.withdraw()"
   ]
  },
  {
   "cell_type": "code",
   "execution_count": 75,
   "id": "9d75e5ad",
   "metadata": {},
   "outputs": [
    {
     "ename": "AttributeError",
     "evalue": "'Atm' object has no attribute '__balance'",
     "output_type": "error",
     "traceback": [
      "\u001b[0;31m---------------------------------------------------------------------------\u001b[0m",
      "\u001b[0;31mAttributeError\u001b[0m                            Traceback (most recent call last)",
      "Cell \u001b[0;32mIn[75], line 1\u001b[0m\n\u001b[0;32m----> 1\u001b[0m atm\u001b[38;5;241m.\u001b[39m__balance\n",
      "\u001b[0;31mAttributeError\u001b[0m: 'Atm' object has no attribute '__balance'"
     ]
    }
   ],
   "source": [
    "atm.__balance #coz it's private"
   ]
  },
  {
   "cell_type": "code",
   "execution_count": 58,
   "id": "bf6d3475",
   "metadata": {},
   "outputs": [],
   "source": [
    "# Frcations handeling\n",
    "class Fraction:\n",
    "    def __init__(self, n,d):\n",
    "        self.n=n\n",
    "        self.d=d\n",
    "    \n",
    "    def __str__(self):  #whenever we will execute a print statement of this class ob ject it will creturn output of this str magic method\n",
    "        return \"hello there the fraction of the given numbers is {}/{}\".format(self.n,self.d)\n",
    "    \n",
    "    def __add__(self,other): #this magic method will be triggered whenever there is request for \"+\" operator,it will take two objects\n",
    "      #first object will be passed to self and another to other\n",
    "        numerator=self.n*other.d+self.d*other.n\n",
    "        denominator=self.d*other.d\n",
    "        return \"{}/{}\".format(numerator,denominator)\n",
    "    \n",
    "    def __sub__(self,other): #this magic method will be triggered whenever there is request for \"+\" operator,it will take two objects\n",
    "      #first object will be passed to self and another to other\n",
    "        numerator=self.n*other.d-self.d*other.n\n",
    "        denominator=self.d*other.d\n",
    "        return \"{}/{}\".format(numerator,denominator)\n",
    "    \n",
    "    def __mul__(self,other): #this magic method will be triggered whenever there is request for \"+\" operator,it will take two objects\n",
    "      #first object will be passed to self and another to other\n",
    "        numerator=self.n*other.n\n",
    "        denominator=self.d*other.d\n",
    "        return \"{}/{}\".format(numerator,denominator)\n",
    "    \n",
    "    def __truediv__(self,other): #this magic method will be triggered whenever there is request for \"+\" operator,it will take two objects\n",
    "      #first object will be passed to self and another to other\n",
    "        numerator=self.n*other.d\n",
    "        denominator=self.d*other.n\n",
    "        return \"{}/{}\".format(numerator,denominator)\n",
    "    \n",
    "    \n",
    "    \n",
    "    \n",
    "    \n",
    "        "
   ]
  },
  {
   "cell_type": "code",
   "execution_count": 59,
   "id": "89efa8a5",
   "metadata": {},
   "outputs": [
    {
     "data": {
      "text/plain": [
       "__main__.Fraction"
      ]
     },
     "execution_count": 59,
     "metadata": {},
     "output_type": "execute_result"
    }
   ],
   "source": [
    "x=Fraction(4,5)\n",
    "type(x)\n"
   ]
  },
  {
   "cell_type": "code",
   "execution_count": 60,
   "id": "e3c608a3",
   "metadata": {},
   "outputs": [
    {
     "name": "stdout",
     "output_type": "stream",
     "text": [
      "hello there the fraction of the given numbers is 4/5\n"
     ]
    }
   ],
   "source": [
    "print(x)"
   ]
  },
  {
   "cell_type": "code",
   "execution_count": 61,
   "id": "f31c2304",
   "metadata": {},
   "outputs": [],
   "source": [
    "y=Fraction(5,6)"
   ]
  },
  {
   "cell_type": "code",
   "execution_count": 62,
   "id": "1e3e1942",
   "metadata": {},
   "outputs": [
    {
     "name": "stdout",
     "output_type": "stream",
     "text": [
      "49/30\n",
      "-1/30\n",
      "20/30\n",
      "24/25\n"
     ]
    }
   ],
   "source": [
    "print(x+y)\n",
    "print(x-y)\n",
    "print(x*y)\n",
    "print(x/y)"
   ]
  },
  {
   "cell_type": "code",
   "execution_count": null,
   "id": "d5762c78",
   "metadata": {},
   "outputs": [],
   "source": [
    "#hiding the variables and methods using __ \n",
    "# but nothing in python is private you can access the variable by using _Classname__variablename"
   ]
  },
  {
   "cell_type": "code",
   "execution_count": 63,
   "id": "22b4ff26",
   "metadata": {},
   "outputs": [],
   "source": [
    "# Similar to these there are other magic methods which we can try like this."
   ]
  },
  {
   "cell_type": "markdown",
   "id": "1123ebb3",
   "metadata": {},
   "source": [
    "# Encapsulation\n",
    "#Encapsulation: setting the sensitive data private and the recieving the data with \n",
    "\n",
    "#getter method and updating the value using setter method is all about encapsulation.\n"
   ]
  },
  {
   "cell_type": "markdown",
   "id": "b5e49254",
   "metadata": {},
   "source": [
    "# Class Diagram structure\n",
    "1. Name of the class\n",
    "2. instances of the class with -(private) and +(public)sign \n",
    "3. methods of the class with -(private) and +(public)sign    \n",
    "4. all the three components are enclosed in seperate boxes"
   ]
  },
  {
   "cell_type": "markdown",
   "id": "d0ed5357",
   "metadata": {},
   "source": [
    "# Reference Variables\n",
    "#following object is created at location 0x10c3b7090, and this memory location is stored anywhere.\n",
    "\n",
    "#but this can't be used for retriving the functions and variables of the object. to get the acces we store this object in a variable called reference variable."
   ]
  },
  {
   "cell_type": "code",
   "execution_count": 97,
   "id": "5b311141",
   "metadata": {},
   "outputs": [
    {
     "name": "stdout",
     "output_type": "stream",
     "text": [
      "\n",
      "            Hello! How would you like to proceed?\n",
      "            1. Enter 1 to create a pin\n",
      "            2. Enter 2 to check balance\n",
      "            3. Enter 3 to withdraw\n",
      "            4. Enter 4 to deposit\n",
      "            5. Enter 5 to exit\n",
      "        1\n",
      "Enter your pin: 1\n",
      "Pin successfully created!\n"
     ]
    },
    {
     "data": {
      "text/plain": [
       "<__main__.Atm at 0x10c3b7090>"
      ]
     },
     "execution_count": 97,
     "metadata": {},
     "output_type": "execute_result"
    }
   ],
   "source": [
    "Atm()   "
   ]
  },
  {
   "cell_type": "code",
   "execution_count": 98,
   "id": "94e8be88",
   "metadata": {},
   "outputs": [
    {
     "name": "stdout",
     "output_type": "stream",
     "text": [
      "\n",
      "            Hello! How would you like to proceed?\n",
      "            1. Enter 1 to create a pin\n",
      "            2. Enter 2 to check balance\n",
      "            3. Enter 3 to withdraw\n",
      "            4. Enter 4 to deposit\n",
      "            5. Enter 5 to exit\n",
      "        1\n",
      "Enter your pin: 1\n",
      "Pin successfully created!\n"
     ]
    }
   ],
   "source": [
    "a=Atm() #here a is reference variable"
   ]
  },
  {
   "cell_type": "markdown",
   "id": "3cc7ffa4",
   "metadata": {},
   "source": [
    "# Pass by Reference\n"
   ]
  },
  {
   "cell_type": "code",
   "execution_count": 121,
   "id": "c0b5d70a",
   "metadata": {},
   "outputs": [],
   "source": [
    "#we can paas a class object to the function\n",
    "\n",
    "class Customer:\n",
    "    def __init__(self,name,gender):\n",
    "        self.name=name\n",
    "        self.gender=gender\n",
    "\n",
    "def greet(customer):\n",
    "    if customer.gender=='male':\n",
    "        print(\"hello\",customer.name,\"sir\")\n",
    "    else:\n",
    "        print(\"hello\",customer.name,\"ma'am\")\n",
    "    \n",
    "    cust2= Customer('Rahul',\"male\")\n",
    "    return cust2\n",
    "      "
   ]
  },
  {
   "cell_type": "code",
   "execution_count": 122,
   "id": "162a72ef",
   "metadata": {},
   "outputs": [],
   "source": [
    "cust=Customer('Sasha','male')\n",
    "#print(cust.name)"
   ]
  },
  {
   "cell_type": "code",
   "execution_count": 123,
   "id": "7eacd99f",
   "metadata": {},
   "outputs": [
    {
     "name": "stdout",
     "output_type": "stream",
     "text": [
      "hello Sasha sir\n"
     ]
    }
   ],
   "source": [
    "new_cust=greet(cust)"
   ]
  },
  {
   "cell_type": "code",
   "execution_count": 124,
   "id": "df6beb1c",
   "metadata": {},
   "outputs": [
    {
     "name": "stdout",
     "output_type": "stream",
     "text": [
      "Rahul\n"
     ]
    }
   ],
   "source": [
    "print(new_cust.name)"
   ]
  },
  {
   "cell_type": "code",
   "execution_count": 128,
   "id": "87f92d64",
   "metadata": {},
   "outputs": [
    {
     "name": "stdout",
     "output_type": "stream",
     "text": [
      "4498440400\n"
     ]
    }
   ],
   "source": [
    "#pass by reference\n",
    "class Customer:\n",
    "    def __init__(self,name):\n",
    "        self.name=name\n",
    "        \n",
    "def greet(x):\n",
    "    print(id(x))\n",
    "\n",
    "cust=Customer('Shyam')\n",
    "print(id(cust))"
   ]
  },
  {
   "cell_type": "code",
   "execution_count": 129,
   "id": "5993d1d0",
   "metadata": {},
   "outputs": [
    {
     "name": "stdout",
     "output_type": "stream",
     "text": [
      "4498440400\n"
     ]
    }
   ],
   "source": [
    "greet(cust) #id of cust and id of the object pass to the function greet passed with class object cust is same. "
   ]
  },
  {
   "cell_type": "code",
   "execution_count": 135,
   "id": "6f7023c7",
   "metadata": {},
   "outputs": [
    {
     "name": "stdout",
     "output_type": "stream",
     "text": [
      "4500544720\n"
     ]
    }
   ],
   "source": [
    "#pass by reference\n",
    "class Customer:\n",
    "    def __init__(self,name):\n",
    "        self.name=name\n",
    "        \n",
    "def greet(x):\n",
    "    print(id(x))\n",
    "\n",
    "    x.name='pratham'\n",
    "    print(x.name)\n",
    "    print(id(x))\n",
    "\n",
    "\n",
    "cust=Customer('Shyam')\n",
    "print(id(cust))\n"
   ]
  },
  {
   "cell_type": "code",
   "execution_count": 136,
   "id": "6e656ef4",
   "metadata": {},
   "outputs": [
    {
     "name": "stdout",
     "output_type": "stream",
     "text": [
      "4500544720\n",
      "pratham\n",
      "4500544720\n"
     ]
    }
   ],
   "source": [
    "greet(cust) #whatever the name present in the class object it will be changed by the function variable assignment"
   ]
  },
  {
   "cell_type": "code",
   "execution_count": 132,
   "id": "c4339768",
   "metadata": {},
   "outputs": [
    {
     "name": "stdout",
     "output_type": "stream",
     "text": [
      "pratham\n"
     ]
    }
   ],
   "source": [
    "print(cust.name) #changing the name in the function will change the name in the original object"
   ]
  },
  {
   "cell_type": "markdown",
   "id": "23faa79e",
   "metadata": {},
   "source": [
    "#from the id's values we observe that class object are mutable, coz all the id's are same before and after the chages"
   ]
  },
  {
   "cell_type": "code",
   "execution_count": 139,
   "id": "0689d56c",
   "metadata": {},
   "outputs": [
    {
     "name": "stdout",
     "output_type": "stream",
     "text": [
      "4499347840\n",
      "4499347840\n",
      "[1, 2, 3, 4]\n",
      "[1, 2, 3, 4, 6]\n",
      "4499347840\n"
     ]
    }
   ],
   "source": [
    "def change(l):\n",
    "    print(id(l))\n",
    "    print(l)\n",
    "    l.append(6)\n",
    "    print(l)\n",
    "    print(id(l))\n",
    "\n",
    "L=[1,2,3,4]\n",
    "print(id(L))\n",
    "change(L) #if we pass our original list to the function then it will change our orginal list, therefore we should pass cloned list "
   ]
  },
  {
   "cell_type": "code",
   "execution_count": 143,
   "id": "79480195",
   "metadata": {},
   "outputs": [
    {
     "name": "stdout",
     "output_type": "stream",
     "text": [
      "4498475712\n",
      "4498451776\n",
      "[1, 2, 3]\n",
      "[1, 2, 3, 6]\n",
      "4498451776\n"
     ]
    }
   ],
   "source": [
    "#passing the cloning of our list to the function\n",
    "def change(l):\n",
    "    print(id(l))\n",
    "    print(l)\n",
    "    l.append(6)\n",
    "    print(l)\n",
    "    print(id(l))\n",
    "\n",
    "L=[1,2,3]\n",
    "print(id(L))\n",
    "change(L[:]) #there will be no change in the original list due to cloning\n",
    "\n",
    "#you can pass tuple as it is, coz they are immutable"
   ]
  },
  {
   "cell_type": "markdown",
   "id": "8411f6fe",
   "metadata": {},
   "source": [
    "# Collection of objects\n",
    "1. we can add class objects into list, tuple, dictionary and can perform the same task for the given data structure\n",
    "2. we can't perform thees operations on sets because sets doen't take muatable objects "
   ]
  },
  {
   "cell_type": "code",
   "execution_count": 146,
   "id": "6de07d97",
   "metadata": {},
   "outputs": [
    {
     "name": "stdout",
     "output_type": "stream",
     "text": [
      "Hello, my name is  h  and my age is  23\n",
      "Hello, my name is  a  and my age is  34\n",
      "Hello, my name is  f  and my age is  26\n",
      "Hello, my name is  d  and my age is  36\n"
     ]
    }
   ],
   "source": [
    "class Customer():\n",
    "    def __init__(self, name,age):\n",
    "        self.name=name\n",
    "        self.age=age\n",
    "    def info(self):\n",
    "        print(\"Hello, my name is \",self.name,\" and my age is \", self.age)\n",
    "cust1=Customer(\"h\",23)\n",
    "cust2=Customer(\"a\",34)\n",
    "cust3=Customer(\"f\",26)\n",
    "cust4=Customer(\"d\",36)\n",
    "L=[cust1,cust2,cust3,cust4]\n",
    "\n",
    "\n",
    "for i in L:\n",
    "    #print(i.info())\n",
    "    i.info()"
   ]
  },
  {
   "cell_type": "code",
   "execution_count": 176,
   "id": "3ba4b083",
   "metadata": {},
   "outputs": [],
   "source": [
    "# Static methods and variables\n",
    "class Atm:\n",
    "    #static variable\n",
    "    __counter=1 #__ is to ensure the no changes made\n",
    "    def __init__(self):  #magic method\n",
    "        #instance variable\n",
    "        self.__pin = \"\" #private instances\n",
    "        self.__balance = 0\n",
    "        #self.__menu()\n",
    "        self.sno=Atm.__counter\n",
    "        Atm.__counter=Atm.__counter+1\n",
    "    \n",
    "    \n",
    "    #Encapsulation: setting the sensitive data private and the recieving the data with getter method and updating the value using setter method is all about encapsulation.\n",
    "    @staticmethod\n",
    "    def get_counter(): #for static methods no self keyword is required\n",
    "        return Atm.__counter\n",
    "    @staticmethod\n",
    "    def set_counter(new_counter): #setter function\n",
    "        if type(new_counter)==int:\n",
    "            Atm.__counter=new_counter\n",
    "            print(\"counter Changed\")\n",
    "        else:\n",
    "            print(\"Not allowed\")\n",
    "\n",
    "    def __menu(self): #private method, can't be accesed fronm outside the class\n",
    "        user_input = input(\"\"\"\n",
    "            Hello! How would you like to proceed?\n",
    "            1. Enter 1 to create a pin\n",
    "            2. Enter 2 to check balance\n",
    "            3. Enter 3 to withdraw\n",
    "            4. Enter 4 to deposit\n",
    "            5. Enter 5 to exit\n",
    "        \"\"\")\n",
    "\n",
    "        if user_input == '1':\n",
    "            self.create_pin()\n",
    "\n",
    "        elif user_input == '2':\n",
    "            self.check_balance()\n",
    "\n",
    "        elif user_input == '3':\n",
    "            self.withdraw()\n",
    "\n",
    "        elif user_input == '4':\n",
    "            self.deposit()\n",
    "\n",
    "        elif user_input == '5':\n",
    "            print(\"Exiting the ATM. Thank you!\")\n",
    "\n",
    "        else:\n",
    "            print(\"Invalid input. Please enter a valid option.\")\n",
    "\n",
    "    def create_pin(self):\n",
    "        self.__pin = input(\"Enter your pin: \")\n",
    "        print(\"Pin successfully created!\")\n"
   ]
  },
  {
   "cell_type": "code",
   "execution_count": 167,
   "id": "7d5627c7",
   "metadata": {},
   "outputs": [],
   "source": [
    "c1=Atm()\n",
    "c2=Atm()\n",
    "c3=Atm()\n",
    "c4=Atm()"
   ]
  },
  {
   "cell_type": "code",
   "execution_count": 160,
   "id": "198de2bb",
   "metadata": {},
   "outputs": [
    {
     "data": {
      "text/plain": [
       "1"
      ]
     },
     "execution_count": 160,
     "metadata": {},
     "output_type": "execute_result"
    }
   ],
   "source": [
    "c1.sno"
   ]
  },
  {
   "cell_type": "code",
   "execution_count": 161,
   "id": "53eb218e",
   "metadata": {},
   "outputs": [
    {
     "data": {
      "text/plain": [
       "2"
      ]
     },
     "execution_count": 161,
     "metadata": {},
     "output_type": "execute_result"
    }
   ],
   "source": [
    "c2.sno"
   ]
  },
  {
   "cell_type": "code",
   "execution_count": 162,
   "id": "0c4443c8",
   "metadata": {},
   "outputs": [
    {
     "data": {
      "text/plain": [
       "3"
      ]
     },
     "execution_count": 162,
     "metadata": {},
     "output_type": "execute_result"
    }
   ],
   "source": [
    "c3.sno"
   ]
  },
  {
   "cell_type": "code",
   "execution_count": 163,
   "id": "a7ee464e",
   "metadata": {},
   "outputs": [
    {
     "data": {
      "text/plain": [
       "4"
      ]
     },
     "execution_count": 163,
     "metadata": {},
     "output_type": "execute_result"
    }
   ],
   "source": [
    "c4.sno"
   ]
  },
  {
   "cell_type": "code",
   "execution_count": 164,
   "id": "ae1eba8a",
   "metadata": {},
   "outputs": [
    {
     "data": {
      "text/plain": [
       "4"
      ]
     },
     "execution_count": 164,
     "metadata": {},
     "output_type": "execute_result"
    }
   ],
   "source": [
    "c4.sno"
   ]
  },
  {
   "cell_type": "code",
   "execution_count": 165,
   "id": "2781c9e2",
   "metadata": {},
   "outputs": [
    {
     "data": {
      "text/plain": [
       "2"
      ]
     },
     "execution_count": 165,
     "metadata": {},
     "output_type": "execute_result"
    }
   ],
   "source": [
    "c2.sno"
   ]
  },
  {
   "cell_type": "code",
   "execution_count": 178,
   "id": "2eaeca27",
   "metadata": {},
   "outputs": [
    {
     "data": {
      "text/plain": [
       "1"
      ]
     },
     "execution_count": 178,
     "metadata": {},
     "output_type": "execute_result"
    }
   ],
   "source": [
    "Atm.get_counter() #accessing the static veraible define outside the constructor"
   ]
  },
  {
   "cell_type": "code",
   "execution_count": 179,
   "id": "207533af",
   "metadata": {},
   "outputs": [
    {
     "name": "stdout",
     "output_type": "stream",
     "text": [
      "counter Changed\n"
     ]
    }
   ],
   "source": [
    "Atm.set_counter(3) #changing the __counter value"
   ]
  },
  {
   "cell_type": "code",
   "execution_count": 180,
   "id": "6034e696",
   "metadata": {},
   "outputs": [
    {
     "data": {
      "text/plain": [
       "3"
      ]
     },
     "execution_count": 180,
     "metadata": {},
     "output_type": "execute_result"
    }
   ],
   "source": [
    "Atm.get_counter() "
   ]
  },
  {
   "cell_type": "markdown",
   "id": "12423087",
   "metadata": {},
   "source": [
    "# Class relationships\n",
    "1. aggregation (Has a relationship)\n",
    "2. Inheritance (Inheriting the values )"
   ]
  },
  {
   "cell_type": "code",
   "execution_count": 205,
   "id": "03b67569",
   "metadata": {},
   "outputs": [],
   "source": [
    "#Aggregation: all the address related updates are made using Address Class, and this feature is called Aggregation\n",
    "class Customer:\n",
    "    def __init__(self, name,age,address):\n",
    "        self.name=name\n",
    "        self.age=age\n",
    "        self.address=address\n",
    "    \n",
    "class Address:\n",
    "    def __init__(self,city,state, location):\n",
    "        self.city=city\n",
    "        self.state=state\n",
    "        self.location=location\n"
   ]
  },
  {
   "cell_type": "code",
   "execution_count": 206,
   "id": "c6be829c",
   "metadata": {},
   "outputs": [
    {
     "name": "stdout",
     "output_type": "stream",
     "text": [
      "Gurugram\n",
      "Haryana\n",
      "Northwest\n"
     ]
    }
   ],
   "source": [
    "add = Address(\"Gurugram\", \"Haryana\", \"Northwest\")\n",
    "\n",
    "cust=Customer('happy',23,add)\n",
    "print(cust.address.city)\n",
    "print(cust.address.state)\n",
    "print(cust.address.location)\n",
    "\n"
   ]
  },
  {
   "cell_type": "markdown",
   "id": "5606702b",
   "metadata": {},
   "source": [
    "# Inheritance: inheriting the properties of a parent class into Child class\n",
    "1. it give code reusablity\n",
    "2. it is done in the upword direction. i.e lower class inherit from the upper class\n",
    "3. we inherit all the data members(varibles), member functions and constructor\n",
    "4. private members are not inherited\n",
    "\n",
    " "
   ]
  },
  {
   "cell_type": "code",
   "execution_count": 207,
   "id": "e8796b62",
   "metadata": {},
   "outputs": [
    {
     "name": "stdout",
     "output_type": "stream",
     "text": [
      "login\n",
      "register\n",
      "enroll\n",
      "review\n"
     ]
    }
   ],
   "source": [
    "class User:\n",
    "    \n",
    "    def login(self):\n",
    "        print('login')\n",
    "    def register(self):\n",
    "        print(\"register\")\n",
    "    \n",
    "class Student(User):\n",
    "    def enroll(self):\n",
    "        print(\"enroll\")\n",
    "    def review(self):\n",
    "        print(\"review\")\n",
    "        \n",
    "stu1=Student()\n",
    "stu1.login()\n",
    "stu1.register()\n",
    "stu1.enroll()\n",
    "stu1.review()\n",
    "\n"
   ]
  },
  {
   "cell_type": "code",
   "execution_count": 218,
   "id": "d8906834",
   "metadata": {},
   "outputs": [
    {
     "name": "stdout",
     "output_type": "stream",
     "text": [
      "inside the parent class\n",
      "Apple\n",
      "80000\n"
     ]
    },
    {
     "ename": "AttributeError",
     "evalue": "'SmartPhone' object has no attribute '__camera'",
     "output_type": "error",
     "traceback": [
      "\u001b[0;31m---------------------------------------------------------------------------\u001b[0m",
      "\u001b[0;31mAttributeError\u001b[0m                            Traceback (most recent call last)",
      "Cell \u001b[0;32mIn[218], line 22\u001b[0m\n\u001b[1;32m     20\u001b[0m \u001b[38;5;28mprint\u001b[39m(smart1\u001b[38;5;241m.\u001b[39mbrand)\n\u001b[1;32m     21\u001b[0m \u001b[38;5;28mprint\u001b[39m(smart1\u001b[38;5;241m.\u001b[39mprice)\n\u001b[0;32m---> 22\u001b[0m \u001b[38;5;28mprint\u001b[39m(smart1\u001b[38;5;241m.\u001b[39m__camera)\n",
      "\u001b[0;31mAttributeError\u001b[0m: 'SmartPhone' object has no attribute '__camera'"
     ]
    }
   ],
   "source": [
    "#Calling the constructor from the parent class into the child class\n",
    "#calling the private attribute\n",
    "\n",
    "class Phone:\n",
    "    print(\"inside the parent class\")\n",
    "    def __init__(self,price,brand,camera):\n",
    "        self.price=price\n",
    "        self.brand=brand\n",
    "        self.__camera=camera  #private data member\n",
    "    def buy(self):\n",
    "        print('buying a new phone')\n",
    "        \n",
    "        \n",
    "class SmartPhone(Phone):\n",
    "    def buy(self):\n",
    "        print(\"buying a smartPhone\")\n",
    "\n",
    "smart1=SmartPhone(80000,\"Apple\",\"dual\")\n",
    "\n",
    "print(smart1.brand)\n",
    "print(smart1.price)\n",
    "print(smart1.__camera) #private members can't be accessed into the child class\n",
    "        "
   ]
  },
  {
   "cell_type": "code",
   "execution_count": 223,
   "id": "843fa856",
   "metadata": {},
   "outputs": [
    {
     "name": "stdout",
     "output_type": "stream",
     "text": [
      "inside the parent class\n",
      "Apple\n",
      "80000\n",
      "buying a new phone\n",
      "dual\n"
     ]
    }
   ],
   "source": [
    "#inheriting the private members using function\n",
    "class Phone:\n",
    "    print(\"inside the parent class\")\n",
    "    def __init__(self,price,brand,camera):\n",
    "        self.price=price\n",
    "        self.brand=brand\n",
    "        self.__camera=camera  #private data member\n",
    "    def buy(self):\n",
    "        print('buying a new phone')\n",
    "        print(self.__camera)\n",
    "        \n",
    "        \n",
    "class SmartPhone(Phone):\n",
    "    pass\n",
    "\n",
    "smart1=SmartPhone(80000,\"Apple\",\"dual\")\n",
    "\n",
    "print(smart1.brand)\n",
    "print(smart1.price)\n",
    "smart1.buy()"
   ]
  },
  {
   "cell_type": "markdown",
   "id": "ec592e20",
   "metadata": {},
   "source": [
    "# Polymorhism:\n",
    "1. method overriding\n",
    "2. method overloading\n",
    "3. operator overloading"
   ]
  },
  {
   "cell_type": "code",
   "execution_count": 220,
   "id": "821737cc",
   "metadata": {},
   "outputs": [
    {
     "name": "stdout",
     "output_type": "stream",
     "text": [
      "inside the parent class\n",
      "buying a smartPhone\n"
     ]
    }
   ],
   "source": [
    "# method overriding\n",
    "class Phone:\n",
    "    print(\"inside the parent class\")\n",
    "    def __init__(self,price,brand,camera):\n",
    "        self.price=price\n",
    "        self.brand=brand\n",
    "        self.__camera=camera  #private data member\n",
    "    def buy(self):\n",
    "        print('buying a new phone')\n",
    "        \n",
    "        \n",
    "class SmartPhone(Phone):\n",
    "    def buy(self):\n",
    "        print(\"buying a smartPhone\")\n",
    "\n",
    "smart1=SmartPhone(80000,\"Apple\",\"dual\")\n",
    "\n",
    "\n",
    "smart1.buy() #method overriding"
   ]
  },
  {
   "cell_type": "code",
   "execution_count": 226,
   "id": "8ec5fc10",
   "metadata": {},
   "outputs": [
    {
     "name": "stdout",
     "output_type": "stream",
     "text": [
      "inside the parent class\n"
     ]
    },
    {
     "ename": "TypeError",
     "evalue": "SmartPhone.__init__() takes 2 positional arguments but 3 were given",
     "output_type": "error",
     "traceback": [
      "\u001b[0;31m---------------------------------------------------------------------------\u001b[0m",
      "\u001b[0;31mTypeError\u001b[0m                                 Traceback (most recent call last)",
      "Cell \u001b[0;32mIn[226], line 20\u001b[0m\n\u001b[1;32m     17\u001b[0m     \u001b[38;5;28;01mdef\u001b[39;00m \u001b[38;5;21mbuy\u001b[39m(\u001b[38;5;28mself\u001b[39m):\n\u001b[1;32m     18\u001b[0m         \u001b[38;5;28mprint\u001b[39m(\u001b[38;5;124m\"\u001b[39m\u001b[38;5;124mbuying a smartPhone\u001b[39m\u001b[38;5;124m\"\u001b[39m)\n\u001b[0;32m---> 20\u001b[0m smart1\u001b[38;5;241m=\u001b[39mSmartPhone(\u001b[38;5;241m80000\u001b[39m,\u001b[38;5;124m\"\u001b[39m\u001b[38;5;124mApple\u001b[39m\u001b[38;5;124m\"\u001b[39m)\n",
      "\u001b[0;31mTypeError\u001b[0m: SmartPhone.__init__() takes 2 positional arguments but 3 were given"
     ]
    }
   ],
   "source": [
    "#triggering the child class with it's own constructor, but this time parent constructor will not triggred \n",
    "# and the values in the parent class can't be accessed into the chold class, it will throw error\n",
    "\n",
    "class Phone:\n",
    "    print(\"inside the parent class\")\n",
    "    def __init__(self,price,brand,camera):\n",
    "        self.price=price\n",
    "        self.brand=brand\n",
    "        self.__camera=camera  #private data member\n",
    "    def buy(self):\n",
    "        print('buying a new phone')\n",
    "        \n",
    "        \n",
    "class SmartPhone(Phone):\n",
    "    def __init__(self,price):\n",
    "        self.price=price\n",
    "    def buy(self):\n",
    "        print(\"buying a smartPhone\")\n",
    "\n",
    "smart1=SmartPhone(80000,\"Apple\")\n",
    "# it will gove error, because brand is not initialised into child and paraent construtor is not triggered as well \n"
   ]
  },
  {
   "cell_type": "code",
   "execution_count": 231,
   "id": "65f540fc",
   "metadata": {},
   "outputs": [
    {
     "name": "stdout",
     "output_type": "stream",
     "text": [
      "inside the parent class\n",
      "buying a smartPhone\n",
      "buying an apple phone\n"
     ]
    }
   ],
   "source": [
    "# Accessing parent method using Super keyword \n",
    "\n",
    "class Phone:\n",
    "    print(\"inside the parent class\")\n",
    "    def __init__(self,price,brand,camera):\n",
    "        self.price=price\n",
    "        self.brand=brand\n",
    "        #self.__camera=camera  #private data member\n",
    "    def buy(self):\n",
    "        print('buying an apple phone')\n",
    "        \n",
    "        \n",
    "class SmartPhone(Phone):\n",
    "    def __init__(self,price):\n",
    "        self.price=price\n",
    "    def buy(self):\n",
    "        print(\"buying a smartPhone\")\n",
    "        super().buy() # accessing the parent class method\n",
    "\n",
    "smart1=SmartPhone(80000) \n",
    "smart1.buy()"
   ]
  },
  {
   "cell_type": "markdown",
   "id": "f006ed07",
   "metadata": {},
   "source": [
    "# Using Super keyword"
   ]
  },
  {
   "cell_type": "code",
   "execution_count": 233,
   "id": "2460a83a",
   "metadata": {},
   "outputs": [
    {
     "ename": "AttributeError",
     "evalue": "'SmartPhone' object has no attribute 'super'",
     "output_type": "error",
     "traceback": [
      "\u001b[0;31m---------------------------------------------------------------------------\u001b[0m",
      "\u001b[0;31mAttributeError\u001b[0m                            Traceback (most recent call last)",
      "Cell \u001b[0;32mIn[233], line 1\u001b[0m\n\u001b[0;32m----> 1\u001b[0m smart1\u001b[38;5;241m.\u001b[39msuper()\u001b[38;5;241m.\u001b[39mbuy()\n",
      "\u001b[0;31mAttributeError\u001b[0m: 'SmartPhone' object has no attribute 'super'"
     ]
    }
   ],
   "source": [
    "smart1.super().buy() #super attribute doesn't work. outside class"
   ]
  },
  {
   "cell_type": "code",
   "execution_count": 240,
   "id": "651fb2a8",
   "metadata": {},
   "outputs": [
    {
     "name": "stdout",
     "output_type": "stream",
     "text": [
      "starting point\n",
      "inside the parent class\n",
      "Inside the child class\n",
      "ios\n",
      "Apple\n"
     ]
    }
   ],
   "source": [
    "# Accesing all the variables of parent class using super keyword\n",
    "# method overriding\n",
    "class Phone:\n",
    "    \n",
    "    def __init__(self,price,brand,camera):\n",
    "        print(\"inside the parent class\")\n",
    "        self.price=price\n",
    "        self.brand=brand\n",
    "        self.camera=camera  #private data member\n",
    "    \n",
    "       \n",
    "        \n",
    "        \n",
    "class SmartPhone(Phone):\n",
    "    def __init__(self, price,brand,camera,os,ram):\n",
    "        print(\"starting point\")\n",
    "        super().__init__(price,brand,camera)\n",
    "        #this should be first logic after the constructor otherwise it will not work\n",
    "        print('Inside the child class')   \n",
    "        self.os=os\n",
    "        self.ram=ram\n",
    "        \n",
    "        \n",
    "    def buy(self):\n",
    "        print(\"buying a smartPhone\")\n",
    "\n",
    "s=SmartPhone(80000,\"Apple\",\"dual\",\"ios\",16)\n",
    "\n",
    "\n",
    "print(s.os)\n",
    "print(s.brand)"
   ]
  },
  {
   "cell_type": "code",
   "execution_count": 245,
   "id": "c5a8fda1",
   "metadata": {},
   "outputs": [
    {
     "name": "stdout",
     "output_type": "stream",
     "text": [
      "100\n",
      "200\n"
     ]
    }
   ],
   "source": [
    "# accessing the attribute of parent class into child using self \n",
    "class Parent:\n",
    "    def __init__(self):\n",
    "        self.num=100\n",
    "\n",
    "class Child(Parent):\n",
    "    def __init__(self):\n",
    "        super().__init__()\n",
    "        self.var=200\n",
    "    def value(self):\n",
    "        print(self.num)\n",
    "        print(self.var)\n",
    "        \n",
    "son=Child()\n",
    "son.value()\n",
    "        "
   ]
  },
  {
   "cell_type": "code",
   "execution_count": 246,
   "id": "0219c0ba",
   "metadata": {},
   "outputs": [
    {
     "name": "stdout",
     "output_type": "stream",
     "text": [
      "100\n",
      "200\n"
     ]
    }
   ],
   "source": [
    "class Parent:\n",
    "    def __init__(self, num):\n",
    "        self.num = num\n",
    "\n",
    "class Child(Parent):\n",
    "    def __init__(self, num, var):\n",
    "        super().__init__(num)\n",
    "        self.var = var\n",
    "\n",
    "    def value(self):\n",
    "        print(self.num)\n",
    "        print(self.var)\n",
    "\n",
    "son = Child(100, 200)\n",
    "son.value()\n"
   ]
  },
  {
   "cell_type": "code",
   "execution_count": 254,
   "id": "9277dbab",
   "metadata": {},
   "outputs": [
    {
     "name": "stdout",
     "output_type": "stream",
     "text": [
      "Parent class 100\n",
      "Child class 100 and  200\n"
     ]
    }
   ],
   "source": [
    "class Parent:\n",
    "    def __init__(self):\n",
    "        self.num=100\n",
    "    def value(self):\n",
    "        print(\"Parent class\",self.num)\n",
    "\n",
    "class Child(Parent):\n",
    "    def __init__(self):\n",
    "        super().__init__()\n",
    "        self.var=200\n",
    "    def value(self):\n",
    "        print(\"Child class\",self.num,\"and \",self.var)\n",
    "        \n",
    "dad=Parent()\n",
    "dad.value()\n",
    "son=Child()\n",
    "son.value()"
   ]
  },
  {
   "cell_type": "markdown",
   "id": "329b8017",
   "metadata": {},
   "source": [
    "# Inheritance\n",
    "1. Single level inheritence(one parent ,one child)\n",
    "2. multi-level inheritence (dada-->papa-->-->child)\n",
    "3. Heirarchical inherutance (udemy example, one login method for both the student and treacher)\n",
    "4. Multiple Inheritance (two parent class and single child class )\n",
    "5. Hybrid inherutance: combination of any of the above"
   ]
  },
  {
   "cell_type": "code",
   "execution_count": 255,
   "id": "ba34b8f7",
   "metadata": {},
   "outputs": [
    {
     "name": "stdout",
     "output_type": "stream",
     "text": [
      "hello\n",
      "inside A class\n",
      "inside the B class\n",
      "inside the last class\n"
     ]
    }
   ],
   "source": [
    "#multi-level inheritence (dada-->papa-->-->child)\n",
    "\n",
    "class A:\n",
    "    print(\"hello\")\n",
    "    \n",
    "    def A1(self):\n",
    "        print(\"inside A class\")\n",
    "class B(A):\n",
    "    def B1(self):\n",
    "        print(\"inside the B class\")\n",
    "class C(B):\n",
    "    def C1(self):\n",
    "        print(\"inside the last class\")\n",
    "        \n",
    "b=B()\n",
    "c=C()\n",
    "b.A1()\n",
    "c.B1()\n",
    "c.C1()"
   ]
  },
  {
   "cell_type": "code",
   "execution_count": 264,
   "id": "3ad96513",
   "metadata": {},
   "outputs": [
    {
     "name": "stdout",
     "output_type": "stream",
     "text": [
      "hello\n",
      "inside the B class\n",
      "inside A class\n"
     ]
    }
   ],
   "source": [
    "#multiple inheritence (dada-->papa-->-->child)\n",
    "\n",
    "class A:\n",
    "    print(\"hello\")\n",
    "    \n",
    "    def A1(self):\n",
    "        print(\"inside A class\")\n",
    "class B:\n",
    "    def B1(self):\n",
    "        print(\"inside the B class\")\n",
    "class C(B,A):\n",
    "    def C1(self):\n",
    "        val=self.C1()  #RecursionError: it will call itself infinite number of times\n",
    "        return val\n",
    "        \n",
    "b=B()\n",
    "c=C()\n",
    "c.B1()\n",
    "\n",
    "c.A1()"
   ]
  },
  {
   "cell_type": "code",
   "execution_count": 265,
   "id": "cc2ca6ca",
   "metadata": {},
   "outputs": [
    {
     "ename": "RecursionError",
     "evalue": "maximum recursion depth exceeded",
     "output_type": "error",
     "traceback": [
      "\u001b[0;31m---------------------------------------------------------------------------\u001b[0m",
      "\u001b[0;31mRecursionError\u001b[0m                            Traceback (most recent call last)",
      "Cell \u001b[0;32mIn[265], line 2\u001b[0m\n\u001b[1;32m      1\u001b[0m c\u001b[38;5;241m=\u001b[39mC()\n\u001b[0;32m----> 2\u001b[0m c\u001b[38;5;241m.\u001b[39mC1()\n",
      "Cell \u001b[0;32mIn[264], line 13\u001b[0m, in \u001b[0;36mC.C1\u001b[0;34m(self)\u001b[0m\n\u001b[1;32m     12\u001b[0m \u001b[38;5;28;01mdef\u001b[39;00m \u001b[38;5;21mC1\u001b[39m(\u001b[38;5;28mself\u001b[39m):\n\u001b[0;32m---> 13\u001b[0m     val\u001b[38;5;241m=\u001b[39m\u001b[38;5;28mself\u001b[39m\u001b[38;5;241m.\u001b[39mC1()  \u001b[38;5;66;03m#RecursionError: it will call itself infinite number of times\u001b[39;00m\n\u001b[1;32m     14\u001b[0m     \u001b[38;5;28;01mreturn\u001b[39;00m val\n",
      "Cell \u001b[0;32mIn[264], line 13\u001b[0m, in \u001b[0;36mC.C1\u001b[0;34m(self)\u001b[0m\n\u001b[1;32m     12\u001b[0m \u001b[38;5;28;01mdef\u001b[39;00m \u001b[38;5;21mC1\u001b[39m(\u001b[38;5;28mself\u001b[39m):\n\u001b[0;32m---> 13\u001b[0m     val\u001b[38;5;241m=\u001b[39m\u001b[38;5;28mself\u001b[39m\u001b[38;5;241m.\u001b[39mC1()  \u001b[38;5;66;03m#RecursionError: it will call itself infinite number of times\u001b[39;00m\n\u001b[1;32m     14\u001b[0m     \u001b[38;5;28;01mreturn\u001b[39;00m val\n",
      "    \u001b[0;31m[... skipping similar frames: C.C1 at line 13 (2971 times)]\u001b[0m\n",
      "Cell \u001b[0;32mIn[264], line 13\u001b[0m, in \u001b[0;36mC.C1\u001b[0;34m(self)\u001b[0m\n\u001b[1;32m     12\u001b[0m \u001b[38;5;28;01mdef\u001b[39;00m \u001b[38;5;21mC1\u001b[39m(\u001b[38;5;28mself\u001b[39m):\n\u001b[0;32m---> 13\u001b[0m     val\u001b[38;5;241m=\u001b[39m\u001b[38;5;28mself\u001b[39m\u001b[38;5;241m.\u001b[39mC1()  \u001b[38;5;66;03m#RecursionError: it will call itself infinite number of times\u001b[39;00m\n\u001b[1;32m     14\u001b[0m     \u001b[38;5;28;01mreturn\u001b[39;00m val\n",
      "\u001b[0;31mRecursionError\u001b[0m: maximum recursion depth exceeded"
     ]
    }
   ],
   "source": [
    "c=C()\n",
    "c.C1()"
   ]
  },
  {
   "cell_type": "markdown",
   "id": "44786c8c",
   "metadata": {},
   "source": [
    "# Method Overloading\n",
    "A same function gives different values depending upon the given different values"
   ]
  },
  {
   "cell_type": "code",
   "execution_count": 274,
   "id": "51e6e291",
   "metadata": {},
   "outputs": [],
   "source": [
    "class Geometry:\n",
    "    \n",
    "    def area(self,b,a=0):\n",
    "        if a==0:\n",
    "            print(\"Area of the circle is\",3.14*b*b)\n",
    "        else:\n",
    "            print(\"area of the rectangle is\",a*b)\n",
    "        "
   ]
  },
  {
   "cell_type": "code",
   "execution_count": 275,
   "id": "91a1eef2",
   "metadata": {},
   "outputs": [
    {
     "name": "stdout",
     "output_type": "stream",
     "text": [
      "area of the rectangle is 6\n",
      "Area of the circle is 28.259999999999998\n"
     ]
    }
   ],
   "source": [
    "a=Geometry()\n",
    "a.area(2,3)\n",
    "a.area(3)"
   ]
  },
  {
   "cell_type": "markdown",
   "id": "29a79eef",
   "metadata": {},
   "source": [
    "# Operator Overloading\n",
    "same operator behaiving differently depending upon task"
   ]
  },
  {
   "cell_type": "code",
   "execution_count": 277,
   "id": "fb42553c",
   "metadata": {},
   "outputs": [
    {
     "name": "stdout",
     "output_type": "stream",
     "text": [
      "30\n",
      "hello there\n"
     ]
    }
   ],
   "source": [
    "print(10+20)\n",
    "print(\"hello\"+\" there\")"
   ]
  },
  {
   "cell_type": "code",
   "execution_count": null,
   "id": "c04a807b",
   "metadata": {},
   "outputs": [],
   "source": []
  }
 ],
 "metadata": {
  "kernelspec": {
   "display_name": "Python 3 (ipykernel)",
   "language": "python",
   "name": "python3"
  },
  "language_info": {
   "codemirror_mode": {
    "name": "ipython",
    "version": 3
   },
   "file_extension": ".py",
   "mimetype": "text/x-python",
   "name": "python",
   "nbconvert_exporter": "python",
   "pygments_lexer": "ipython3",
   "version": "3.11.4"
  }
 },
 "nbformat": 4,
 "nbformat_minor": 5
}
