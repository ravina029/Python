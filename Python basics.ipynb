{
 "cells": [
  {
   "cell_type": "markdown",
   "id": "24becf4a",
   "metadata": {},
   "source": [
    "# Seperator in print "
   ]
  },
  {
   "cell_type": "code",
   "execution_count": 2,
   "id": "3340752a",
   "metadata": {},
   "outputs": [
    {
     "name": "stdout",
     "output_type": "stream",
     "text": [
      "hello/dear/students\n"
     ]
    }
   ],
   "source": [
    "print(\"hello\",\"dear\",\"students\",sep=\"/\")"
   ]
  },
  {
   "cell_type": "code",
   "execution_count": 3,
   "id": "81b57c32",
   "metadata": {},
   "outputs": [
    {
     "name": "stdout",
     "output_type": "stream",
     "text": [
      "hello*dear*students\n"
     ]
    }
   ],
   "source": [
    "print(\"hello\",\"dear\",\"students\",sep=\"*\")"
   ]
  },
  {
   "cell_type": "code",
   "execution_count": 4,
   "id": "d5274e2b",
   "metadata": {},
   "outputs": [
    {
     "name": "stdout",
     "output_type": "stream",
     "text": [
      "hello-dear-students\n"
     ]
    }
   ],
   "source": [
    "print(\"hello\",\"dear\",\"students\",sep=\"-\")"
   ]
  },
  {
   "cell_type": "code",
   "execution_count": 7,
   "id": "a69466e6",
   "metadata": {},
   "outputs": [
    {
     "name": "stdout",
     "output_type": "stream",
     "text": [
      "hello *students\n"
     ]
    }
   ],
   "source": [
    "# end of string\n",
    "print(\"hello\",end=\" \")\n",
    "print(\"students\")"
   ]
  },
  {
   "cell_type": "code",
   "execution_count": 8,
   "id": "7a892e78",
   "metadata": {},
   "outputs": [
    {
     "name": "stdout",
     "output_type": "stream",
     "text": [
      "hello\tstudents\n"
     ]
    }
   ],
   "source": [
    "# end of string\\\n",
    "print(\"hello\",end=\"\\t\")\n",
    "print(\"students\")"
   ]
  },
  {
   "cell_type": "code",
   "execution_count": 9,
   "id": "6f6ddca1",
   "metadata": {},
   "outputs": [
    {
     "name": "stdout",
     "output_type": "stream",
     "text": [
      "hello _+__+_+students\n"
     ]
    }
   ],
   "source": [
    "# end of string\\\n",
    "print(\"hello\",end=\" _+__+_+\")\n",
    "print(\"students\")"
   ]
  },
  {
   "cell_type": "markdown",
   "id": "47a69bba",
   "metadata": {},
   "source": [
    "# Data Types\n",
    "1. Basic: int,float,str,complex\n",
    "2. container: list, set, dict,tuple\n",
    "3. user defined.\n"
   ]
  },
  {
   "cell_type": "markdown",
   "id": "4ab1e725",
   "metadata": {},
   "source": [
    "# Variables: \n",
    "#no variable decration required in python\n",
    "#dynamic typing: i.e no declaration of variable required"
   ]
  },
  {
   "cell_type": "markdown",
   "id": "d0fb1321",
   "metadata": {},
   "source": [
    "# Dynamic Bindig\n",
    "a variable can store diffrent types of values "
   ]
  },
  {
   "cell_type": "code",
   "execution_count": 11,
   "id": "162c840b",
   "metadata": {},
   "outputs": [],
   "source": [
    "a=10\n",
    "a=\"ravi\""
   ]
  },
  {
   "cell_type": "code",
   "execution_count": null,
   "id": "ba2fff74",
   "metadata": {},
   "outputs": [],
   "source": [
    "#special declaration\n",
    "a=10;b=6;v=66\n",
    "a,b,c=12,24,45"
   ]
  },
  {
   "cell_type": "markdown",
   "id": "f71c5f64",
   "metadata": {},
   "source": [
    "# keywords\n",
    "1. a word that is reserved for special meaning and can't be used for other varaibles name.\n"
   ]
  },
  {
   "cell_type": "code",
   "execution_count": 12,
   "id": "0c4019da",
   "metadata": {},
   "outputs": [
    {
     "name": "stdout",
     "output_type": "stream",
     "text": [
      "['False', 'None', 'True', 'and', 'as', 'assert', 'async', 'await', 'break', 'class', 'continue', 'def', 'del', 'elif', 'else', 'except', 'finally', 'for', 'from', 'global', 'if', 'import', 'in', 'is', 'lambda', 'nonlocal', 'not', 'or', 'pass', 'raise', 'return', 'try', 'while', 'with', 'yield']\n"
     ]
    }
   ],
   "source": [
    "import keyword\n",
    "print(keyword.kwlist)"
   ]
  },
  {
   "cell_type": "markdown",
   "id": "9601023a",
   "metadata": {},
   "source": [
    "# Identifiers\n",
    "identifier is name used for a variable, object, class, function etc \n",
    "1. they start with an alphbet or an _\n",
    "2. special character and numbers will throw errors\n",
    "3. no keywords are allowed"
   ]
  },
  {
   "cell_type": "code",
   "execution_count": 18,
   "id": "f3e035f5",
   "metadata": {},
   "outputs": [
    {
     "name": "stdout",
     "output_type": "stream",
     "text": [
      "hello\n"
     ]
    }
   ],
   "source": [
    "_=\"hello\"\n",
    "print(_)"
   ]
  },
  {
   "cell_type": "markdown",
   "id": "70b62dfb",
   "metadata": {},
   "source": [
    "# User Input"
   ]
  },
  {
   "cell_type": "code",
   "execution_count": 20,
   "id": "47fae42e",
   "metadata": {},
   "outputs": [
    {
     "name": "stdout",
     "output_type": "stream",
     "text": [
      "hey\n"
     ]
    },
    {
     "data": {
      "text/plain": [
       "'hey'"
      ]
     },
     "execution_count": 20,
     "metadata": {},
     "output_type": "execute_result"
    }
   ],
   "source": [
    "input()"
   ]
  },
  {
   "cell_type": "code",
   "execution_count": 22,
   "id": "8681e801",
   "metadata": {},
   "outputs": [
    {
     "name": "stdout",
     "output_type": "stream",
     "text": [
      "enter your name: ravi\n"
     ]
    }
   ],
   "source": [
    "a=input(\"enter your name: \")"
   ]
  },
  {
   "cell_type": "code",
   "execution_count": 24,
   "id": "66d7e241",
   "metadata": {},
   "outputs": [
    {
     "name": "stdout",
     "output_type": "stream",
     "text": [
      "enter your age: 23\n"
     ]
    }
   ],
   "source": [
    "a=int(input(\"enter your age: \"))"
   ]
  },
  {
   "cell_type": "code",
   "execution_count": 25,
   "id": "f44669fb",
   "metadata": {},
   "outputs": [
    {
     "name": "stdout",
     "output_type": "stream",
     "text": [
      "enter first number: 2\n",
      "enter 2nd number: 3\n",
      "5\n"
     ]
    }
   ],
   "source": [
    "a=int(input(\"enter first number: \"))\n",
    "b=int(input(\"enter 2nd number: \"))\n",
    "print(a+b)"
   ]
  },
  {
   "cell_type": "markdown",
   "id": "00a76445",
   "metadata": {},
   "source": [
    "# Type coversion\n",
    "1. implicit\n",
    "2. explicit"
   ]
  },
  {
   "cell_type": "code",
   "execution_count": 27,
   "id": "5c11bdbe",
   "metadata": {},
   "outputs": [
    {
     "data": {
      "text/plain": [
       "8.5"
      ]
     },
     "execution_count": 27,
     "metadata": {},
     "output_type": "execute_result"
    }
   ],
   "source": [
    "#implicit type conversion\n",
    "b=4+4.5\n",
    "b"
   ]
  },
  {
   "cell_type": "code",
   "execution_count": 30,
   "id": "67cee6a0",
   "metadata": {},
   "outputs": [
    {
     "data": {
      "text/plain": [
       "(10+7j)"
      ]
     },
     "execution_count": 30,
     "metadata": {},
     "output_type": "execute_result"
    }
   ],
   "source": [
    "5+5+7j"
   ]
  },
  {
   "cell_type": "code",
   "execution_count": 31,
   "id": "fae4c07d",
   "metadata": {},
   "outputs": [
    {
     "data": {
      "text/plain": [
       "(10.6+7j)"
      ]
     },
     "execution_count": 31,
     "metadata": {},
     "output_type": "execute_result"
    }
   ],
   "source": [
    "5.6+5+7j"
   ]
  },
  {
   "cell_type": "markdown",
   "id": "6d99838b",
   "metadata": {},
   "source": [
    "# explicit Type Conversion\n"
   ]
  },
  {
   "cell_type": "code",
   "execution_count": 40,
   "id": "3e67ba0c",
   "metadata": {},
   "outputs": [
    {
     "name": "stdout",
     "output_type": "stream",
     "text": [
      "enter first number: 2\n",
      "enter 2nd number: 23\n",
      "25\n"
     ]
    }
   ],
   "source": [
    "a=int(input(\"enter first number: \"))\n",
    "b=int(input(\"enter 2nd number: \"))\n",
    "print(a+b)"
   ]
  },
  {
   "cell_type": "code",
   "execution_count": 34,
   "id": "b6df06f9",
   "metadata": {},
   "outputs": [
    {
     "data": {
      "text/plain": [
       "34"
      ]
     },
     "execution_count": 34,
     "metadata": {},
     "output_type": "execute_result"
    }
   ],
   "source": [
    "int(\"34\")"
   ]
  },
  {
   "cell_type": "code",
   "execution_count": 35,
   "id": "f08107d6",
   "metadata": {},
   "outputs": [
    {
     "data": {
      "text/plain": [
       "3.0"
      ]
     },
     "execution_count": 35,
     "metadata": {},
     "output_type": "execute_result"
    }
   ],
   "source": [
    "float(3)"
   ]
  },
  {
   "cell_type": "code",
   "execution_count": 36,
   "id": "c580054e",
   "metadata": {},
   "outputs": [
    {
     "data": {
      "text/plain": [
       "'3'"
      ]
     },
     "execution_count": 36,
     "metadata": {},
     "output_type": "execute_result"
    }
   ],
   "source": [
    "str(3)"
   ]
  },
  {
   "cell_type": "code",
   "execution_count": 37,
   "id": "4031042f",
   "metadata": {},
   "outputs": [
    {
     "data": {
      "text/plain": [
       "True"
      ]
     },
     "execution_count": 37,
     "metadata": {},
     "output_type": "execute_result"
    }
   ],
   "source": [
    "bool(a)"
   ]
  },
  {
   "cell_type": "code",
   "execution_count": 38,
   "id": "8b97d96e",
   "metadata": {},
   "outputs": [
    {
     "data": {
      "text/plain": [
       "False"
      ]
     },
     "execution_count": 38,
     "metadata": {},
     "output_type": "execute_result"
    }
   ],
   "source": [
    "bool(0)"
   ]
  },
  {
   "cell_type": "code",
   "execution_count": 39,
   "id": "d6bec310",
   "metadata": {},
   "outputs": [
    {
     "data": {
      "text/plain": [
       "['h', 'e', 'l', 'l', 'o']"
      ]
     },
     "execution_count": 39,
     "metadata": {},
     "output_type": "execute_result"
    }
   ],
   "source": [
    "list(\"hello\")"
   ]
  },
  {
   "cell_type": "code",
   "execution_count": 104,
   "id": "5b59d571",
   "metadata": {},
   "outputs": [
    {
     "data": {
      "text/plain": [
       "5"
      ]
     },
     "execution_count": 104,
     "metadata": {},
     "output_type": "execute_result"
    }
   ],
   "source": [
    "abs(-5)"
   ]
  },
  {
   "cell_type": "code",
   "execution_count": 105,
   "id": "e1ac45ef",
   "metadata": {},
   "outputs": [
    {
     "data": {
      "text/plain": [
       "8"
      ]
     },
     "execution_count": 105,
     "metadata": {},
     "output_type": "execute_result"
    }
   ],
   "source": [
    "pow(2,3)"
   ]
  },
  {
   "cell_type": "code",
   "execution_count": 106,
   "id": "3ce5c75b",
   "metadata": {},
   "outputs": [
    {
     "data": {
      "text/plain": [
       "1"
      ]
     },
     "execution_count": 106,
     "metadata": {},
     "output_type": "execute_result"
    }
   ],
   "source": [
    "min([1,2,3])"
   ]
  },
  {
   "cell_type": "code",
   "execution_count": 107,
   "id": "5f7e0d5f",
   "metadata": {},
   "outputs": [
    {
     "data": {
      "text/plain": [
       "4"
      ]
     },
     "execution_count": 107,
     "metadata": {},
     "output_type": "execute_result"
    }
   ],
   "source": [
    "max([1,2,3,4])"
   ]
  },
  {
   "cell_type": "code",
   "execution_count": 108,
   "id": "e486580b",
   "metadata": {},
   "outputs": [
    {
     "data": {
      "text/plain": [
       "'i'"
      ]
     },
     "execution_count": 108,
     "metadata": {},
     "output_type": "execute_result"
    }
   ],
   "source": [
    "min(\"min\")"
   ]
  },
  {
   "cell_type": "code",
   "execution_count": 109,
   "id": "86ad98e5",
   "metadata": {},
   "outputs": [
    {
     "data": {
      "text/plain": [
       "'x'"
      ]
     },
     "execution_count": 109,
     "metadata": {},
     "output_type": "execute_result"
    }
   ],
   "source": [
    "max(\"max\")"
   ]
  },
  {
   "cell_type": "code",
   "execution_count": 110,
   "id": "e0c804c2",
   "metadata": {},
   "outputs": [
    {
     "data": {
      "text/plain": [
       "11"
      ]
     },
     "execution_count": 110,
     "metadata": {},
     "output_type": "execute_result"
    }
   ],
   "source": [
    "round(32/3)"
   ]
  },
  {
   "cell_type": "code",
   "execution_count": 113,
   "id": "376615ee",
   "metadata": {},
   "outputs": [
    {
     "data": {
      "text/plain": [
       "(2, 1)"
      ]
     },
     "execution_count": 113,
     "metadata": {},
     "output_type": "execute_result"
    }
   ],
   "source": [
    "divmod(7,3)"
   ]
  },
  {
   "cell_type": "code",
   "execution_count": 115,
   "id": "9dc27b19",
   "metadata": {},
   "outputs": [
    {
     "data": {
      "text/plain": [
       "'0b101'"
      ]
     },
     "execution_count": 115,
     "metadata": {},
     "output_type": "execute_result"
    }
   ],
   "source": [
    "bin(5)"
   ]
  },
  {
   "cell_type": "code",
   "execution_count": 116,
   "id": "1ec9fb71",
   "metadata": {},
   "outputs": [
    {
     "data": {
      "text/plain": [
       "'0o3'"
      ]
     },
     "execution_count": 116,
     "metadata": {},
     "output_type": "execute_result"
    }
   ],
   "source": [
    "oct(3)"
   ]
  },
  {
   "cell_type": "code",
   "execution_count": 117,
   "id": "38c00b94",
   "metadata": {},
   "outputs": [
    {
     "data": {
      "text/plain": [
       "'0x5'"
      ]
     },
     "execution_count": 117,
     "metadata": {},
     "output_type": "execute_result"
    }
   ],
   "source": [
    "hex(5)"
   ]
  },
  {
   "cell_type": "code",
   "execution_count": 118,
   "id": "07cab584",
   "metadata": {},
   "outputs": [
    {
     "data": {
      "text/plain": [
       "4367328224"
      ]
     },
     "execution_count": 118,
     "metadata": {},
     "output_type": "execute_result"
    }
   ],
   "source": [
    "id(3)"
   ]
  },
  {
   "cell_type": "code",
   "execution_count": 119,
   "id": "12c01975",
   "metadata": {},
   "outputs": [
    {
     "data": {
      "text/plain": [
       "4367328192"
      ]
     },
     "execution_count": 119,
     "metadata": {},
     "output_type": "execute_result"
    }
   ],
   "source": [
    "id(2)"
   ]
  },
  {
   "cell_type": "code",
   "execution_count": 120,
   "id": "38355b31",
   "metadata": {},
   "outputs": [
    {
     "data": {
      "text/plain": [
       "97"
      ]
     },
     "execution_count": 120,
     "metadata": {},
     "output_type": "execute_result"
    }
   ],
   "source": [
    "ord(\"a\")"
   ]
  },
  {
   "cell_type": "code",
   "execution_count": 121,
   "id": "470434c4",
   "metadata": {},
   "outputs": [
    {
     "data": {
      "text/plain": [
       "5"
      ]
     },
     "execution_count": 121,
     "metadata": {},
     "output_type": "execute_result"
    }
   ],
   "source": [
    "len(\"happy\")"
   ]
  },
  {
   "cell_type": "code",
   "execution_count": 122,
   "id": "a543dd92",
   "metadata": {},
   "outputs": [
    {
     "data": {
      "text/plain": [
       "9"
      ]
     },
     "execution_count": 122,
     "metadata": {},
     "output_type": "execute_result"
    }
   ],
   "source": [
    "sum([1,2,2,4])"
   ]
  },
  {
   "cell_type": "code",
   "execution_count": 123,
   "id": "fcbf7e68",
   "metadata": {},
   "outputs": [
    {
     "name": "stdout",
     "output_type": "stream",
     "text": [
      "Help on built-in function print in module builtins:\n",
      "\n",
      "print(*args, sep=' ', end='\\n', file=None, flush=False)\n",
      "    Prints the values to a stream, or to sys.stdout by default.\n",
      "    \n",
      "    sep\n",
      "      string inserted between values, default a space.\n",
      "    end\n",
      "      string appended after the last value, default a newline.\n",
      "    file\n",
      "      a file-like object (stream); defaults to the current sys.stdout.\n",
      "    flush\n",
      "      whether to forcibly flush the stream.\n",
      "\n"
     ]
    }
   ],
   "source": [
    "help(\"print\")"
   ]
  },
  {
   "cell_type": "code",
   "execution_count": 124,
   "id": "b699a4a1",
   "metadata": {},
   "outputs": [
    {
     "name": "stdout",
     "output_type": "stream",
     "text": [
      "Help on built-in function sum in module builtins:\n",
      "\n",
      "sum(iterable, /, start=0)\n",
      "    Return the sum of a 'start' value (default: 0) plus an iterable of numbers\n",
      "    \n",
      "    When the iterable is empty, return the start value.\n",
      "    This function is intended specifically for use with numeric values and may\n",
      "    reject non-numeric types.\n",
      "\n"
     ]
    }
   ],
   "source": [
    "help(sum)"
   ]
  },
  {
   "cell_type": "code",
   "execution_count": null,
   "id": "c1cc56e9",
   "metadata": {},
   "outputs": [],
   "source": []
  },
  {
   "cell_type": "markdown",
   "id": "f2cd78ed",
   "metadata": {},
   "source": [
    "# Literals \n",
    "variables\n",
    "1. nuemerical \n",
    "2. string\n",
    "3. bool\n",
    "4. special\n"
   ]
  },
  {
   "cell_type": "code",
   "execution_count": 41,
   "id": "42224004",
   "metadata": {},
   "outputs": [
    {
     "name": "stdout",
     "output_type": "stream",
     "text": [
      "150.0\n"
     ]
    }
   ],
   "source": [
    "#float\n",
    "print(1.5e2)"
   ]
  },
  {
   "cell_type": "code",
   "execution_count": 42,
   "id": "36660ece",
   "metadata": {},
   "outputs": [
    {
     "name": "stdout",
     "output_type": "stream",
     "text": [
      "0.0014\n"
     ]
    }
   ],
   "source": [
    "print(1.4e-3)"
   ]
  },
  {
   "cell_type": "code",
   "execution_count": 43,
   "id": "e5943643",
   "metadata": {},
   "outputs": [
    {
     "data": {
      "text/plain": [
       "'helo\\nworld'"
      ]
     },
     "execution_count": 43,
     "metadata": {},
     "output_type": "execute_result"
    }
   ],
   "source": [
    "# string \n",
    "'hello'\n",
    "\"hello\"\n",
    "\"\"\"helo\n",
    "world\"\"\""
   ]
  },
  {
   "cell_type": "code",
   "execution_count": 45,
   "id": "befc73e4",
   "metadata": {},
   "outputs": [],
   "source": [
    "#unicode :for printing smilies or unicode characters"
   ]
  },
  {
   "cell_type": "code",
   "execution_count": 46,
   "id": "975fdf65",
   "metadata": {},
   "outputs": [
    {
     "data": {
      "text/plain": [
       "3"
      ]
     },
     "execution_count": 46,
     "metadata": {},
     "output_type": "execute_result"
    }
   ],
   "source": [
    "#Boolean Literal\n",
    "a=True+2\n",
    "a"
   ]
  },
  {
   "cell_type": "code",
   "execution_count": 48,
   "id": "de881309",
   "metadata": {},
   "outputs": [
    {
     "data": {
      "text/plain": [
       "5"
      ]
     },
     "execution_count": 48,
     "metadata": {},
     "output_type": "execute_result"
    }
   ],
   "source": [
    "a=False+5\n",
    "a"
   ]
  },
  {
   "cell_type": "code",
   "execution_count": 50,
   "id": "5b204afd",
   "metadata": {},
   "outputs": [
    {
     "name": "stdout",
     "output_type": "stream",
     "text": [
      "None\n"
     ]
    }
   ],
   "source": [
    "# None variable declaraction\n",
    "a=None\n",
    "print(a)"
   ]
  },
  {
   "cell_type": "markdown",
   "id": "e0cba9f8",
   "metadata": {},
   "source": [
    "# Operators\n",
    "1. Arithmatic\n",
    "2. comparison\n",
    "3. Logical\n",
    "4. Bitwise\n",
    "5. Assignment\n",
    "6. Identity\n",
    "7. Membership\n"
   ]
  },
  {
   "cell_type": "code",
   "execution_count": 51,
   "id": "9728fe0d",
   "metadata": {},
   "outputs": [
    {
     "name": "stdout",
     "output_type": "stream",
     "text": [
      "5\n",
      "-1\n",
      "0\n",
      "6\n",
      "0.6666666666666666\n",
      "2\n"
     ]
    }
   ],
   "source": [
    "#Arithmatic\n",
    "print(2+3)\n",
    "print(2-3)\n",
    "print(2//3)\n",
    "print(2*3)\n",
    "print(2/3)\n",
    "print(2%3)"
   ]
  },
  {
   "cell_type": "code",
   "execution_count": 52,
   "id": "7e868cb1",
   "metadata": {},
   "outputs": [
    {
     "name": "stdout",
     "output_type": "stream",
     "text": [
      "False\n",
      "True\n",
      "False\n",
      "True\n"
     ]
    }
   ],
   "source": [
    "#comparison\n",
    "print(2>3)\n",
    "print(2<3)\n",
    "print(2==3)\n",
    "print(2!=3)"
   ]
  },
  {
   "cell_type": "code",
   "execution_count": 53,
   "id": "c31f1133",
   "metadata": {},
   "outputs": [
    {
     "data": {
      "text/plain": [
       "1"
      ]
     },
     "execution_count": 53,
     "metadata": {},
     "output_type": "execute_result"
    }
   ],
   "source": [
    "#Logical\n",
    "x=True\n",
    "y=False\n",
    "x+y"
   ]
  },
  {
   "cell_type": "code",
   "execution_count": 54,
   "id": "f656c8b5",
   "metadata": {},
   "outputs": [
    {
     "name": "stdout",
     "output_type": "stream",
     "text": [
      "True\n"
     ]
    }
   ],
   "source": [
    "print(x or y)"
   ]
  },
  {
   "cell_type": "code",
   "execution_count": 55,
   "id": "be31e680",
   "metadata": {},
   "outputs": [
    {
     "name": "stdout",
     "output_type": "stream",
     "text": [
      "False\n"
     ]
    }
   ],
   "source": [
    "print(x and y)"
   ]
  },
  {
   "cell_type": "code",
   "execution_count": 57,
   "id": "4576956f",
   "metadata": {},
   "outputs": [
    {
     "name": "stdout",
     "output_type": "stream",
     "text": [
      "True\n"
     ]
    }
   ],
   "source": [
    "print(x != y)"
   ]
  },
  {
   "cell_type": "code",
   "execution_count": 60,
   "id": "82fa1586",
   "metadata": {},
   "outputs": [
    {
     "name": "stdout",
     "output_type": "stream",
     "text": [
      "True\n"
     ]
    }
   ],
   "source": [
    "print(not y)"
   ]
  },
  {
   "cell_type": "code",
   "execution_count": 61,
   "id": "6fd78323",
   "metadata": {},
   "outputs": [
    {
     "name": "stdout",
     "output_type": "stream",
     "text": [
      "2\n"
     ]
    }
   ],
   "source": [
    "# Bitwise\n",
    "# thses operators are used when we deal with binary data\n",
    "#  in image processing we use these operators  \n",
    "print(2&3)"
   ]
  },
  {
   "cell_type": "code",
   "execution_count": 62,
   "id": "a813e6c7",
   "metadata": {},
   "outputs": [
    {
     "name": "stdout",
     "output_type": "stream",
     "text": [
      "3\n"
     ]
    }
   ],
   "source": [
    "print(2|3)"
   ]
  },
  {
   "cell_type": "code",
   "execution_count": 63,
   "id": "793b058e",
   "metadata": {},
   "outputs": [
    {
     "name": "stdout",
     "output_type": "stream",
     "text": [
      "0\n"
     ]
    }
   ],
   "source": [
    "print(2>>3) # right shift"
   ]
  },
  {
   "cell_type": "code",
   "execution_count": 64,
   "id": "b737d7ec",
   "metadata": {},
   "outputs": [
    {
     "name": "stdout",
     "output_type": "stream",
     "text": [
      "16\n"
     ]
    }
   ],
   "source": [
    "print(2<<3) #left shift "
   ]
  },
  {
   "cell_type": "code",
   "execution_count": 66,
   "id": "55668a91",
   "metadata": {},
   "outputs": [
    {
     "data": {
      "text/plain": [
       "3"
      ]
     },
     "execution_count": 66,
     "metadata": {},
     "output_type": "execute_result"
    }
   ],
   "source": [
    "# Assignment\n",
    "a=b \n",
    "a=2\n",
    "b=3\n",
    "a=b \n",
    "a=b\n",
    "a"
   ]
  },
  {
   "cell_type": "code",
   "execution_count": 67,
   "id": "97f04401",
   "metadata": {},
   "outputs": [],
   "source": [
    "a+=3"
   ]
  },
  {
   "cell_type": "code",
   "execution_count": 68,
   "id": "b39a90d0",
   "metadata": {},
   "outputs": [
    {
     "data": {
      "text/plain": [
       "6"
      ]
     },
     "execution_count": 68,
     "metadata": {},
     "output_type": "execute_result"
    }
   ],
   "source": [
    "a"
   ]
  },
  {
   "cell_type": "code",
   "execution_count": 69,
   "id": "2ff66130",
   "metadata": {},
   "outputs": [
    {
     "name": "stdout",
     "output_type": "stream",
     "text": [
      "False\n"
     ]
    }
   ],
   "source": [
    "print(a is b)"
   ]
  },
  {
   "cell_type": "code",
   "execution_count": 70,
   "id": "40e45b50",
   "metadata": {},
   "outputs": [
    {
     "name": "stdout",
     "output_type": "stream",
     "text": [
      "False\n"
     ]
    }
   ],
   "source": [
    "a=[1,2,3]\n",
    "b=[1,2,3]\n",
    "print(a is b)"
   ]
  },
  {
   "cell_type": "code",
   "execution_count": 74,
   "id": "df65c538",
   "metadata": {},
   "outputs": [
    {
     "name": "stdout",
     "output_type": "stream",
     "text": [
      "True\n",
      "False\n"
     ]
    }
   ],
   "source": [
    "# membership operators\n",
    "x='hello'\n",
    "print('h' in x)\n",
    "print('a' in x)"
   ]
  },
  {
   "cell_type": "code",
   "execution_count": 78,
   "id": "142e33a6",
   "metadata": {},
   "outputs": [
    {
     "name": "stdout",
     "output_type": "stream",
     "text": [
      "enter mail: vermaravina\n",
      "roll: 34\n",
      "invalid\n"
     ]
    }
   ],
   "source": [
    "a=input(\"enter mail: \")\n",
    "b=int(input(\"roll: \"))\n",
    "\n",
    "      \n",
    "if a=='hello@gmail.com' and b==2:\n",
    "      print(\"welcome\")\n",
    "elif a=='hello@gmail.com' and b!=2:\n",
    "    print(\"incorrect\")\n",
    "if a!='hello@gmail.com' and b==2:\n",
    "    print(\"incorrect mail\")\n",
    "\n",
    "else: \n",
    "      print(\"invalid\")"
   ]
  },
  {
   "cell_type": "markdown",
   "id": "c070570f",
   "metadata": {},
   "source": [
    "# Loops\n",
    "where we don't know how many time a loop will iterate, use while loop\n",
    "while condition:\n",
    "    code"
   ]
  },
  {
   "cell_type": "code",
   "execution_count": 79,
   "id": "2869482e",
   "metadata": {},
   "outputs": [
    {
     "name": "stdout",
     "output_type": "stream",
     "text": [
      "0\n",
      "1\n",
      "2\n",
      "3\n",
      "4\n",
      "5\n",
      "6\n",
      "7\n",
      "8\n",
      "9\n"
     ]
    }
   ],
   "source": [
    "i=0\n",
    "while i<10:\n",
    "    print(i)\n",
    "    i+=1\n",
    "    "
   ]
  },
  {
   "cell_type": "code",
   "execution_count": 80,
   "id": "000a76f7",
   "metadata": {},
   "outputs": [],
   "source": [
    "import random"
   ]
  },
  {
   "cell_type": "code",
   "execution_count": 81,
   "id": "889e77d0",
   "metadata": {},
   "outputs": [
    {
     "data": {
      "text/plain": [
       "48"
      ]
     },
     "execution_count": 81,
     "metadata": {},
     "output_type": "execute_result"
    }
   ],
   "source": [
    "random.randint(1,100)"
   ]
  },
  {
   "cell_type": "code",
   "execution_count": 84,
   "id": "f294635d",
   "metadata": {},
   "outputs": [
    {
     "name": "stdout",
     "output_type": "stream",
     "text": [
      "enter a number: 2\n",
      "guess is less than jackpot\n",
      "guess again: 3\n",
      "guess is less than jackpot\n",
      "guess again: 4\n",
      "guess is less than jackpot\n",
      "guess again: 56\n",
      "guess is bigger \n",
      "guess again: 45\n",
      "guess is bigger \n",
      "guess again: 34\n",
      "guess is less than jackpot\n",
      "guess again: 36\n",
      "guess is less than jackpot\n",
      "guess again: 38\n",
      "guess is less than jackpot\n",
      "guess again: 39\n",
      "guess is less than jackpot\n",
      "guess again: 40\n",
      "correct response\n",
      "you took 10 attemps\n"
     ]
    }
   ],
   "source": [
    "jackpot=random.randint(1,100)\n",
    "guess=int(input(\"enter a number: \"))\n",
    "counter=1\n",
    "while guess!=jackpot:\n",
    "    if guess<jackpot:\n",
    "        print(\"guess is less than jackpot\")\n",
    "    else:\n",
    "        print(\"guess is bigger \")\n",
    "    \n",
    "    guess=int(input(\"guess again: \"))\n",
    "    counter+=1\n",
    "\n",
    "print(\"correct response\")\n",
    "print(f\"you took {counter} attemps\")\n",
    "        "
   ]
  },
  {
   "cell_type": "markdown",
   "id": "b2e0748d",
   "metadata": {},
   "source": [
    "# for loop\n"
   ]
  },
  {
   "cell_type": "code",
   "execution_count": 85,
   "id": "f81099f2",
   "metadata": {},
   "outputs": [
    {
     "data": {
      "text/plain": [
       "[1, 2, 3, 4, 5, 6, 7, 8, 9]"
      ]
     },
     "execution_count": 85,
     "metadata": {},
     "output_type": "execute_result"
    }
   ],
   "source": [
    "list(range(1,10))"
   ]
  },
  {
   "cell_type": "code",
   "execution_count": 86,
   "id": "8ab98e4b",
   "metadata": {},
   "outputs": [
    {
     "data": {
      "text/plain": [
       "[0, 1, 2, 3, 4, 5, 6, 7, 8, 9]"
      ]
     },
     "execution_count": 86,
     "metadata": {},
     "output_type": "execute_result"
    }
   ],
   "source": [
    "list(range(10))"
   ]
  },
  {
   "cell_type": "code",
   "execution_count": 87,
   "id": "f45ff06b",
   "metadata": {},
   "outputs": [
    {
     "data": {
      "text/plain": [
       "[1, 3, 5, 7, 9]"
      ]
     },
     "execution_count": 87,
     "metadata": {},
     "output_type": "execute_result"
    }
   ],
   "source": [
    "list(range(1,10,2))"
   ]
  },
  {
   "cell_type": "code",
   "execution_count": 88,
   "id": "58196dd6",
   "metadata": {},
   "outputs": [
    {
     "data": {
      "text/plain": [
       "[]"
      ]
     },
     "execution_count": 88,
     "metadata": {},
     "output_type": "execute_result"
    }
   ],
   "source": [
    "list(range(1,10,-1))"
   ]
  },
  {
   "cell_type": "code",
   "execution_count": 90,
   "id": "a1d4d420",
   "metadata": {},
   "outputs": [
    {
     "data": {
      "text/plain": [
       "[10, 9, 8, 7, 6, 5, 4, 3, 2, 1]"
      ]
     },
     "execution_count": 90,
     "metadata": {},
     "output_type": "execute_result"
    }
   ],
   "source": [
    "list(range(10,0,-1))"
   ]
  },
  {
   "cell_type": "code",
   "execution_count": 91,
   "id": "f5866c59",
   "metadata": {},
   "outputs": [
    {
     "name": "stdout",
     "output_type": "stream",
     "text": [
      "0\n",
      "1\n",
      "2\n",
      "3\n",
      "4\n",
      "5\n",
      "6\n",
      "7\n",
      "8\n",
      "9\n"
     ]
    }
   ],
   "source": [
    "for i in range(10):\n",
    "    print(i)"
   ]
  },
  {
   "cell_type": "code",
   "execution_count": 92,
   "id": "b2188bb9",
   "metadata": {},
   "outputs": [
    {
     "name": "stdout",
     "output_type": "stream",
     "text": [
      "h\n",
      "e\n",
      "l\n",
      "l\n",
      "o\n"
     ]
    }
   ],
   "source": [
    "for i in (\"hello\"):\n",
    "    print(i)"
   ]
  },
  {
   "cell_type": "code",
   "execution_count": 93,
   "id": "4fe067cf",
   "metadata": {},
   "outputs": [
    {
     "name": "stdout",
     "output_type": "stream",
     "text": [
      "10\n",
      "9\n",
      "8\n",
      "7\n",
      "6\n",
      "5\n",
      "4\n",
      "3\n",
      "2\n",
      "1\n"
     ]
    }
   ],
   "source": [
    "for i in range(10,0,-1):\n",
    "    print(i)"
   ]
  },
  {
   "cell_type": "code",
   "execution_count": 94,
   "id": "ee838988",
   "metadata": {},
   "outputs": [
    {
     "name": "stdout",
     "output_type": "stream",
     "text": [
      "1\n",
      "2\n",
      "3\n",
      "4\n"
     ]
    }
   ],
   "source": [
    "for i in {1,2,3,4}:\n",
    "    print(i)"
   ]
  },
  {
   "cell_type": "code",
   "execution_count": 97,
   "id": "a91271c4",
   "metadata": {},
   "outputs": [
    {
     "name": "stdout",
     "output_type": "stream",
     "text": [
      "\n",
      "* \n",
      "* * \n",
      "* * * \n",
      "* * * * \n",
      "* * * * * \n",
      "* * * * * * \n"
     ]
    }
   ],
   "source": [
    "for i in range(7):\n",
    "    for j in range(i):\n",
    "        print(\"*\",end=\" \")\n",
    "        \n",
    "    print(\"\")"
   ]
  },
  {
   "cell_type": "markdown",
   "id": "c3f50584",
   "metadata": {},
   "source": [
    "# Break,Continue, and Pass\n"
   ]
  },
  {
   "cell_type": "code",
   "execution_count": 99,
   "id": "93b9d8a4",
   "metadata": {},
   "outputs": [
    {
     "name": "stdout",
     "output_type": "stream",
     "text": [
      "0\n",
      "1\n",
      "2\n",
      "3\n",
      "4\n"
     ]
    }
   ],
   "source": [
    "#break\n",
    "for i in range(10):\n",
    "    if i==5:\n",
    "        break\n",
    "    print(i)"
   ]
  },
  {
   "cell_type": "code",
   "execution_count": 102,
   "id": "7f2d9c72",
   "metadata": {},
   "outputs": [
    {
     "name": "stdout",
     "output_type": "stream",
     "text": [
      "0 hello\n",
      "1 hello\n",
      "2 hello\n",
      "3 hello\n",
      "4 hello\n",
      "6 hello\n",
      "7 hello\n",
      "8 hello\n",
      "9 hello\n"
     ]
    }
   ],
   "source": [
    "#Continue\n",
    "for i in range(10):\n",
    "    if i==5:\n",
    "        continue\n",
    "    print(i,\"hello\")"
   ]
  },
  {
   "cell_type": "code",
   "execution_count": 103,
   "id": "05036c4b",
   "metadata": {},
   "outputs": [],
   "source": [
    "#pass: just to skip the code for some time\n",
    "for i in range(10):\n",
    "    pass"
   ]
  },
  {
   "cell_type": "markdown",
   "id": "7297b39a",
   "metadata": {},
   "source": [
    "# Built in modules"
   ]
  },
  {
   "cell_type": "code",
   "execution_count": 126,
   "id": "35a52436",
   "metadata": {},
   "outputs": [
    {
     "name": "stdout",
     "output_type": "stream",
     "text": [
      "\n",
      "Please wait a moment while I gather a list of all available modules...\n",
      "\n"
     ]
    },
    {
     "name": "stderr",
     "output_type": "stream",
     "text": [
      "WARNING: AstropyDeprecationWarning: The private astropy._erfa module has been made into its own package, pyerfa, which is a dependency of astropy and can be imported directly using \"import erfa\" [astropy._erfa]\n",
      "/Users/ravina/anaconda3/lib/python3.11/site-packages/nltk/twitter/__init__.py:20: UserWarning: The twython library has not been installed. Some functionality from the twitter package will not be available.\n",
      "  warnings.warn(\n",
      "/Users/ravina/anaconda3/lib/python3.11/site-packages/notebook/utils.py:280: DeprecationWarning: distutils Version classes are deprecated. Use packaging.version instead.\n",
      "  return LooseVersion(v) >= LooseVersion(check)\n",
      "/Users/ravina/anaconda3/lib/python3.11/site-packages/notebook/utils.py:280: DeprecationWarning: distutils Version classes are deprecated. Use packaging.version instead.\n",
      "  return LooseVersion(v) >= LooseVersion(check)\n",
      "/Users/ravina/anaconda3/lib/python3.11/pkgutil.py:92: NumbaPendingDeprecationWarning: \u001b[1mThe 'pycc' module is pending deprecation. Replacement technology is being developed.\n",
      "\n",
      "Pending Deprecation in Numba 0.57.0. For more information please see: https://numba.readthedocs.io/en/stable/reference/deprecation.html#deprecation-of-the-numba-pycc-module\u001b[0m\n",
      "  __import__(info.name)\n",
      "/Users/ravina/anaconda3/lib/python3.11/pkgutil.py:92: UserWarning: The numpy.array_api submodule is still experimental. See NEP 47.\n",
      "  __import__(info.name)\n",
      "/Users/ravina/anaconda3/lib/python3.11/site-packages/pandas_datareader/compat/__init__.py:11: DeprecationWarning: distutils Version classes are deprecated. Use packaging.version instead.\n",
      "  PANDAS_VERSION = LooseVersion(pd.__version__)\n",
      "/Users/ravina/anaconda3/lib/python3.11/site-packages/pandas_datareader/compat/__init__.py:13: DeprecationWarning: distutils Version classes are deprecated. Use packaging.version instead.\n",
      "  PANDAS_0210 = PANDAS_VERSION >= LooseVersion(\"0.21.0\")\n",
      "/Users/ravina/anaconda3/lib/python3.11/site-packages/pandas_datareader/compat/__init__.py:14: DeprecationWarning: distutils Version classes are deprecated. Use packaging.version instead.\n",
      "  PANDAS_0220 = PANDAS_VERSION >= LooseVersion(\"0.22.0\")\n",
      "/Users/ravina/anaconda3/lib/python3.11/site-packages/pandas_datareader/compat/__init__.py:15: DeprecationWarning: distutils Version classes are deprecated. Use packaging.version instead.\n",
      "  PANDAS_0230 = PANDAS_VERSION >= LooseVersion(\"0.23.0\")\n",
      "/Users/ravina/anaconda3/lib/python3.11/site-packages/visions/utils/monkeypatches/imghdr_patch.py:2: DeprecationWarning: 'imghdr' is deprecated and slated for removal in Python 3.13\n",
      "  from imghdr import tests\n",
      "/Users/ravina/anaconda3/lib/python3.11/site-packages/numba/core/decorators.py:262: NumbaDeprecationWarning: \u001b[1mnumba.generated_jit is deprecated. Please see the documentation at: https://numba.readthedocs.io/en/stable/reference/deprecation.html#deprecation-of-generated-jit for more information and advice on a suitable replacement.\u001b[0m\n",
      "  warnings.warn(msg, NumbaDeprecationWarning)\n",
      "/Users/ravina/anaconda3/lib/python3.11/site-packages/visions/backends/shared/nan_handling.py:50: NumbaDeprecationWarning: \u001b[1mThe 'nopython' keyword argument was not supplied to the 'numba.jit' decorator. The implicit default value for this argument is currently False, but it will be changed to True in Numba 0.59.0. See https://numba.readthedocs.io/en/stable/reference/deprecation.html#deprecation-of-object-mode-fall-back-behaviour-when-using-jit for details.\u001b[0m\n",
      "  @nb.jit\n",
      "/Users/ravina/anaconda3/lib/python3.11/pkgutil.py:92: DeprecationWarning: `import pandas_profiling` is going to be deprecated by April 1st. Please use `import ydata_profiling` instead.\n",
      "  __import__(info.name)\n",
      "/Users/ravina/anaconda3/lib/python3.11/site-packages/_distutils_hack/__init__.py:33: UserWarning: Setuptools is replacing distutils.\n",
      "  warnings.warn(\"Setuptools is replacing distutils.\")\n",
      "/Users/ravina/anaconda3/lib/python3.11/pkgutil.py:92: DeprecationWarning: pkg_resources is deprecated as an API. See https://setuptools.pypa.io/en/latest/pkg_resources.html\n",
      "  __import__(info.name)\n",
      "/Users/ravina/anaconda3/lib/python3.11/site-packages/pip/_vendor/pkg_resources/__init__.py:2871: DeprecationWarning: Deprecated call to `pkg_resources.declare_namespace('mpl_toolkits')`.\n",
      "Implementing implicit namespace packages (as specified in PEP 420) is preferred to `pkg_resources.declare_namespace`. See https://setuptools.pypa.io/en/latest/references/keywords.html#keyword-namespace-packages\n",
      "  declare_namespace(pkg)\n",
      "/Users/ravina/anaconda3/lib/python3.11/site-packages/pip/_vendor/pkg_resources/__init__.py:2871: DeprecationWarning: Deprecated call to `pkg_resources.declare_namespace('ruamel')`.\n",
      "Implementing implicit namespace packages (as specified in PEP 420) is preferred to `pkg_resources.declare_namespace`. See https://setuptools.pypa.io/en/latest/references/keywords.html#keyword-namespace-packages\n",
      "  declare_namespace(pkg)\n",
      "/Users/ravina/anaconda3/lib/python3.11/site-packages/pip/_vendor/pkg_resources/__init__.py:2871: DeprecationWarning: Deprecated call to `pkg_resources.declare_namespace('sphinxcontrib')`.\n",
      "Implementing implicit namespace packages (as specified in PEP 420) is preferred to `pkg_resources.declare_namespace`. See https://setuptools.pypa.io/en/latest/references/keywords.html#keyword-namespace-packages\n",
      "  declare_namespace(pkg)\n",
      "/Users/ravina/anaconda3/lib/python3.11/site-packages/pip/_vendor/pkg_resources/__init__.py:2871: DeprecationWarning: Deprecated call to `pkg_resources.declare_namespace('sphinxcontrib')`.\n",
      "Implementing implicit namespace packages (as specified in PEP 420) is preferred to `pkg_resources.declare_namespace`. See https://setuptools.pypa.io/en/latest/references/keywords.html#keyword-namespace-packages\n",
      "  declare_namespace(pkg)\n",
      "/Users/ravina/anaconda3/lib/python3.11/site-packages/pip/_vendor/pkg_resources/__init__.py:2871: DeprecationWarning: Deprecated call to `pkg_resources.declare_namespace('sphinxcontrib')`.\n",
      "Implementing implicit namespace packages (as specified in PEP 420) is preferred to `pkg_resources.declare_namespace`. See https://setuptools.pypa.io/en/latest/references/keywords.html#keyword-namespace-packages\n",
      "  declare_namespace(pkg)\n",
      "/Users/ravina/anaconda3/lib/python3.11/site-packages/pip/_vendor/pkg_resources/__init__.py:2871: DeprecationWarning: Deprecated call to `pkg_resources.declare_namespace('sphinxcontrib')`.\n",
      "Implementing implicit namespace packages (as specified in PEP 420) is preferred to `pkg_resources.declare_namespace`. See https://setuptools.pypa.io/en/latest/references/keywords.html#keyword-namespace-packages\n",
      "  declare_namespace(pkg)\n",
      "/Users/ravina/anaconda3/lib/python3.11/site-packages/pip/_vendor/pkg_resources/__init__.py:2871: DeprecationWarning: Deprecated call to `pkg_resources.declare_namespace('sphinxcontrib')`.\n",
      "Implementing implicit namespace packages (as specified in PEP 420) is preferred to `pkg_resources.declare_namespace`. See https://setuptools.pypa.io/en/latest/references/keywords.html#keyword-namespace-packages\n",
      "  declare_namespace(pkg)\n",
      "/Users/ravina/anaconda3/lib/python3.11/site-packages/pip/_vendor/pkg_resources/__init__.py:2871: DeprecationWarning: Deprecated call to `pkg_resources.declare_namespace('sphinxcontrib')`.\n",
      "Implementing implicit namespace packages (as specified in PEP 420) is preferred to `pkg_resources.declare_namespace`. See https://setuptools.pypa.io/en/latest/references/keywords.html#keyword-namespace-packages\n",
      "  declare_namespace(pkg)\n",
      "/Users/ravina/anaconda3/lib/python3.11/site-packages/pip/_vendor/pkg_resources/__init__.py:2871: DeprecationWarning: Deprecated call to `pkg_resources.declare_namespace('zope')`.\n",
      "Implementing implicit namespace packages (as specified in PEP 420) is preferred to `pkg_resources.declare_namespace`. See https://setuptools.pypa.io/en/latest/references/keywords.html#keyword-namespace-packages\n",
      "  declare_namespace(pkg)\n",
      "/Users/ravina/anaconda3/lib/python3.11/site-packages/plotly/matplotlylib/mplexporter/renderers/base.py:4: DeprecationWarning: The distutils package is deprecated and slated for removal in Python 3.12. Use setuptools or check PEP 632 for potential alternatives\n",
      "  from distutils.version import LooseVersion\n",
      "/Users/ravina/anaconda3/lib/python3.11/distutils/command/build_ext.py:13: DeprecationWarning:\n",
      "\n",
      "The distutils.sysconfig module is deprecated, use sysconfig instead\n",
      "\n"
     ]
    },
    {
     "ename": "KeyboardInterrupt",
     "evalue": "",
     "output_type": "error",
     "traceback": [
      "\u001b[0;31m---------------------------------------------------------------------------\u001b[0m",
      "\u001b[0;31mKeyboardInterrupt\u001b[0m                         Traceback (most recent call last)",
      "Cell \u001b[0;32mIn[126], line 1\u001b[0m\n\u001b[0;32m----> 1\u001b[0m help(\u001b[38;5;124m'\u001b[39m\u001b[38;5;124mmodules\u001b[39m\u001b[38;5;124m'\u001b[39m)\n",
      "File \u001b[0;32m<frozen _sitebuiltins>:103\u001b[0m, in \u001b[0;36m__call__\u001b[0;34m(self, *args, **kwds)\u001b[0m\n",
      "File \u001b[0;32m~/anaconda3/lib/python3.11/pydoc.py:2002\u001b[0m, in \u001b[0;36mHelper.__call__\u001b[0;34m(self, request)\u001b[0m\n\u001b[1;32m   2000\u001b[0m \u001b[38;5;28;01mif\u001b[39;00m request \u001b[38;5;129;01mis\u001b[39;00m \u001b[38;5;129;01mnot\u001b[39;00m \u001b[38;5;28mself\u001b[39m\u001b[38;5;241m.\u001b[39m_GoInteractive:\n\u001b[1;32m   2001\u001b[0m     \u001b[38;5;28;01mtry\u001b[39;00m:\n\u001b[0;32m-> 2002\u001b[0m         \u001b[38;5;28mself\u001b[39m\u001b[38;5;241m.\u001b[39mhelp(request)\n\u001b[1;32m   2003\u001b[0m     \u001b[38;5;28;01mexcept\u001b[39;00m \u001b[38;5;167;01mImportError\u001b[39;00m \u001b[38;5;28;01mas\u001b[39;00m e:\n\u001b[1;32m   2004\u001b[0m         \u001b[38;5;28mself\u001b[39m\u001b[38;5;241m.\u001b[39moutput\u001b[38;5;241m.\u001b[39mwrite(\u001b[38;5;124mf\u001b[39m\u001b[38;5;124m'\u001b[39m\u001b[38;5;132;01m{\u001b[39;00me\u001b[38;5;132;01m}\u001b[39;00m\u001b[38;5;130;01m\\n\u001b[39;00m\u001b[38;5;124m'\u001b[39m)\n",
      "File \u001b[0;32m~/anaconda3/lib/python3.11/pydoc.py:2051\u001b[0m, in \u001b[0;36mHelper.help\u001b[0;34m(self, request)\u001b[0m\n\u001b[1;32m   2049\u001b[0m \u001b[38;5;28;01melif\u001b[39;00m request \u001b[38;5;241m==\u001b[39m \u001b[38;5;124m'\u001b[39m\u001b[38;5;124msymbols\u001b[39m\u001b[38;5;124m'\u001b[39m: \u001b[38;5;28mself\u001b[39m\u001b[38;5;241m.\u001b[39mlistsymbols()\n\u001b[1;32m   2050\u001b[0m \u001b[38;5;28;01melif\u001b[39;00m request \u001b[38;5;241m==\u001b[39m \u001b[38;5;124m'\u001b[39m\u001b[38;5;124mtopics\u001b[39m\u001b[38;5;124m'\u001b[39m: \u001b[38;5;28mself\u001b[39m\u001b[38;5;241m.\u001b[39mlisttopics()\n\u001b[0;32m-> 2051\u001b[0m \u001b[38;5;28;01melif\u001b[39;00m request \u001b[38;5;241m==\u001b[39m \u001b[38;5;124m'\u001b[39m\u001b[38;5;124mmodules\u001b[39m\u001b[38;5;124m'\u001b[39m: \u001b[38;5;28mself\u001b[39m\u001b[38;5;241m.\u001b[39mlistmodules()\n\u001b[1;32m   2052\u001b[0m \u001b[38;5;28;01melif\u001b[39;00m request[:\u001b[38;5;241m8\u001b[39m] \u001b[38;5;241m==\u001b[39m \u001b[38;5;124m'\u001b[39m\u001b[38;5;124mmodules \u001b[39m\u001b[38;5;124m'\u001b[39m:\n\u001b[1;32m   2053\u001b[0m     \u001b[38;5;28mself\u001b[39m\u001b[38;5;241m.\u001b[39mlistmodules(request\u001b[38;5;241m.\u001b[39msplit()[\u001b[38;5;241m1\u001b[39m])\n",
      "File \u001b[0;32m~/anaconda3/lib/python3.11/pydoc.py:2203\u001b[0m, in \u001b[0;36mHelper.listmodules\u001b[0;34m(self, key)\u001b[0m\n\u001b[1;32m   2201\u001b[0m             \u001b[38;5;28;01mdef\u001b[39;00m \u001b[38;5;21monerror\u001b[39m(modname):\n\u001b[1;32m   2202\u001b[0m                 callback(\u001b[38;5;28;01mNone\u001b[39;00m, modname, \u001b[38;5;28;01mNone\u001b[39;00m)\n\u001b[0;32m-> 2203\u001b[0m             ModuleScanner()\u001b[38;5;241m.\u001b[39mrun(callback, onerror\u001b[38;5;241m=\u001b[39monerror)\n\u001b[1;32m   2204\u001b[0m             \u001b[38;5;28mself\u001b[39m\u001b[38;5;241m.\u001b[39mlist(modules\u001b[38;5;241m.\u001b[39mkeys())\n\u001b[1;32m   2205\u001b[0m             \u001b[38;5;28mself\u001b[39m\u001b[38;5;241m.\u001b[39moutput\u001b[38;5;241m.\u001b[39mwrite(\u001b[38;5;124m'''\u001b[39m\n\u001b[1;32m   2206\u001b[0m \u001b[38;5;124mEnter any module name to get more help.  Or, type \u001b[39m\u001b[38;5;124m\"\u001b[39m\u001b[38;5;124mmodules spam\u001b[39m\u001b[38;5;124m\"\u001b[39m\u001b[38;5;124m to search\u001b[39m\n\u001b[1;32m   2207\u001b[0m \u001b[38;5;124mfor modules whose name or summary contain the string \u001b[39m\u001b[38;5;124m\"\u001b[39m\u001b[38;5;124mspam\u001b[39m\u001b[38;5;124m\"\u001b[39m\u001b[38;5;124m.\u001b[39m\n\u001b[1;32m   2208\u001b[0m \u001b[38;5;124m'''\u001b[39m)\n",
      "File \u001b[0;32m~/anaconda3/lib/python3.11/pydoc.py:2232\u001b[0m, in \u001b[0;36mModuleScanner.run\u001b[0;34m(self, callback, key, completer, onerror)\u001b[0m\n\u001b[1;32m   2229\u001b[0m             \u001b[38;5;28;01mif\u001b[39;00m name\u001b[38;5;241m.\u001b[39mlower()\u001b[38;5;241m.\u001b[39mfind(key) \u001b[38;5;241m>\u001b[39m\u001b[38;5;241m=\u001b[39m \u001b[38;5;241m0\u001b[39m:\n\u001b[1;32m   2230\u001b[0m                 callback(\u001b[38;5;28;01mNone\u001b[39;00m, modname, desc)\n\u001b[0;32m-> 2232\u001b[0m \u001b[38;5;28;01mfor\u001b[39;00m importer, modname, ispkg \u001b[38;5;129;01min\u001b[39;00m pkgutil\u001b[38;5;241m.\u001b[39mwalk_packages(onerror\u001b[38;5;241m=\u001b[39monerror):\n\u001b[1;32m   2233\u001b[0m     \u001b[38;5;28;01mif\u001b[39;00m \u001b[38;5;28mself\u001b[39m\u001b[38;5;241m.\u001b[39mquit:\n\u001b[1;32m   2234\u001b[0m         \u001b[38;5;28;01mbreak\u001b[39;00m\n",
      "File \u001b[0;32m~/anaconda3/lib/python3.11/pkgutil.py:107\u001b[0m, in \u001b[0;36mwalk_packages\u001b[0;34m(path, prefix, onerror)\u001b[0m\n\u001b[1;32m    104\u001b[0m \u001b[38;5;66;03m# don't traverse path items we've seen before\u001b[39;00m\n\u001b[1;32m    105\u001b[0m path \u001b[38;5;241m=\u001b[39m [p \u001b[38;5;28;01mfor\u001b[39;00m p \u001b[38;5;129;01min\u001b[39;00m path \u001b[38;5;28;01mif\u001b[39;00m \u001b[38;5;129;01mnot\u001b[39;00m seen(p)]\n\u001b[0;32m--> 107\u001b[0m \u001b[38;5;28;01myield from\u001b[39;00m walk_packages(path, info\u001b[38;5;241m.\u001b[39mname\u001b[38;5;241m+\u001b[39m\u001b[38;5;124m'\u001b[39m\u001b[38;5;124m.\u001b[39m\u001b[38;5;124m'\u001b[39m, onerror)\n",
      "File \u001b[0;32m~/anaconda3/lib/python3.11/pkgutil.py:92\u001b[0m, in \u001b[0;36mwalk_packages\u001b[0;34m(path, prefix, onerror)\u001b[0m\n\u001b[1;32m     90\u001b[0m \u001b[38;5;28;01mif\u001b[39;00m info\u001b[38;5;241m.\u001b[39mispkg:\n\u001b[1;32m     91\u001b[0m     \u001b[38;5;28;01mtry\u001b[39;00m:\n\u001b[0;32m---> 92\u001b[0m         \u001b[38;5;28m__import__\u001b[39m(info\u001b[38;5;241m.\u001b[39mname)\n\u001b[1;32m     93\u001b[0m     \u001b[38;5;28;01mexcept\u001b[39;00m \u001b[38;5;167;01mImportError\u001b[39;00m:\n\u001b[1;32m     94\u001b[0m         \u001b[38;5;28;01mif\u001b[39;00m onerror \u001b[38;5;129;01mis\u001b[39;00m \u001b[38;5;129;01mnot\u001b[39;00m \u001b[38;5;28;01mNone\u001b[39;00m:\n",
      "File \u001b[0;32m~/anaconda3/lib/python3.11/site-packages/skimage/graph/__init__.py:5\u001b[0m\n\u001b[1;32m      3\u001b[0m \u001b[38;5;28;01mfrom\u001b[39;00m \u001b[38;5;21;01m.\u001b[39;00m\u001b[38;5;21;01m_graph_merge\u001b[39;00m \u001b[38;5;28;01mimport\u001b[39;00m merge_hierarchical\n\u001b[1;32m      4\u001b[0m \u001b[38;5;28;01mfrom\u001b[39;00m \u001b[38;5;21;01m.\u001b[39;00m\u001b[38;5;21;01m_rag\u001b[39;00m \u001b[38;5;28;01mimport\u001b[39;00m rag_mean_color, RAG, show_rag, rag_boundary\n\u001b[0;32m----> 5\u001b[0m \u001b[38;5;28;01mfrom\u001b[39;00m \u001b[38;5;21;01m.\u001b[39;00m\u001b[38;5;21;01mspath\u001b[39;00m \u001b[38;5;28;01mimport\u001b[39;00m shortest_path\n\u001b[1;32m      6\u001b[0m \u001b[38;5;28;01mfrom\u001b[39;00m \u001b[38;5;21;01m.\u001b[39;00m\u001b[38;5;21;01mmcp\u001b[39;00m \u001b[38;5;28;01mimport\u001b[39;00m (\n\u001b[1;32m      7\u001b[0m     MCP, MCP_Geometric, MCP_Connect, MCP_Flexible, route_through_array\n\u001b[1;32m      8\u001b[0m )\n\u001b[1;32m     11\u001b[0m __all__ \u001b[38;5;241m=\u001b[39m [\n\u001b[1;32m     12\u001b[0m     \u001b[38;5;124m'\u001b[39m\u001b[38;5;124mpixel_graph\u001b[39m\u001b[38;5;124m'\u001b[39m,\n\u001b[1;32m     13\u001b[0m     \u001b[38;5;124m'\u001b[39m\u001b[38;5;124mcentral_pixel\u001b[39m\u001b[38;5;124m'\u001b[39m,\n\u001b[0;32m   (...)\u001b[0m\n\u001b[1;32m     25\u001b[0m     \u001b[38;5;124m'\u001b[39m\u001b[38;5;124mRAG\u001b[39m\u001b[38;5;124m'\u001b[39m,\n\u001b[1;32m     26\u001b[0m ]\n",
      "File \u001b[0;32m~/anaconda3/lib/python3.11/site-packages/skimage/graph/spath.py:2\u001b[0m\n\u001b[1;32m      1\u001b[0m \u001b[38;5;28;01mimport\u001b[39;00m \u001b[38;5;21;01mnumpy\u001b[39;00m \u001b[38;5;28;01mas\u001b[39;00m \u001b[38;5;21;01mnp\u001b[39;00m\n\u001b[0;32m----> 2\u001b[0m \u001b[38;5;28;01mfrom\u001b[39;00m \u001b[38;5;21;01m.\u001b[39;00m \u001b[38;5;28;01mimport\u001b[39;00m _spath\n\u001b[1;32m      5\u001b[0m \u001b[38;5;28;01mdef\u001b[39;00m \u001b[38;5;21mshortest_path\u001b[39m(arr, reach\u001b[38;5;241m=\u001b[39m\u001b[38;5;241m1\u001b[39m, axis\u001b[38;5;241m=\u001b[39m\u001b[38;5;241m-\u001b[39m\u001b[38;5;241m1\u001b[39m, output_indexlist\u001b[38;5;241m=\u001b[39m\u001b[38;5;28;01mFalse\u001b[39;00m):\n\u001b[1;32m      6\u001b[0m \u001b[38;5;250m    \u001b[39m\u001b[38;5;124;03m\"\"\"Find the shortest path through an n-d array from one side to another.\u001b[39;00m\n\u001b[1;32m      7\u001b[0m \n\u001b[1;32m      8\u001b[0m \u001b[38;5;124;03m    Parameters\u001b[39;00m\n\u001b[0;32m   (...)\u001b[0m\n\u001b[1;32m     36\u001b[0m \n\u001b[1;32m     37\u001b[0m \u001b[38;5;124;03m    \"\"\"\u001b[39;00m\n",
      "File \u001b[0;32m_spath.pyx:1\u001b[0m, in \u001b[0;36minit skimage.graph._spath\u001b[0;34m()\u001b[0m\n",
      "File \u001b[0;32m_mcp.pyx:1\u001b[0m, in \u001b[0;36minit skimage.graph._mcp\u001b[0;34m()\u001b[0m\n",
      "File \u001b[0;32m<frozen importlib._bootstrap>:405\u001b[0m, in \u001b[0;36mparent\u001b[0;34m(self)\u001b[0m\n",
      "\u001b[0;31mKeyboardInterrupt\u001b[0m: "
     ]
    }
   ],
   "source": [
    "help('modules')"
   ]
  },
  {
   "cell_type": "code",
   "execution_count": 127,
   "id": "0951a7c0",
   "metadata": {},
   "outputs": [],
   "source": [
    "#math module\n",
    "import math"
   ]
  },
  {
   "cell_type": "code",
   "execution_count": 128,
   "id": "ea2b09ca",
   "metadata": {},
   "outputs": [
    {
     "data": {
      "text/plain": [
       "3.141592653589793"
      ]
     },
     "execution_count": 128,
     "metadata": {},
     "output_type": "execute_result"
    }
   ],
   "source": [
    "math.pi"
   ]
  },
  {
   "cell_type": "code",
   "execution_count": 129,
   "id": "f430d89f",
   "metadata": {},
   "outputs": [
    {
     "data": {
      "text/plain": [
       "2.718281828459045"
      ]
     },
     "execution_count": 129,
     "metadata": {},
     "output_type": "execute_result"
    }
   ],
   "source": [
    "math.e"
   ]
  },
  {
   "cell_type": "code",
   "execution_count": 130,
   "id": "a33f5168",
   "metadata": {},
   "outputs": [
    {
     "data": {
      "text/plain": [
       "6"
      ]
     },
     "execution_count": 130,
     "metadata": {},
     "output_type": "execute_result"
    }
   ],
   "source": [
    "math.factorial(3)"
   ]
  },
  {
   "cell_type": "code",
   "execution_count": 131,
   "id": "a5d3ae78",
   "metadata": {},
   "outputs": [
    {
     "data": {
      "text/plain": [
       "2.302585092994046"
      ]
     },
     "execution_count": 131,
     "metadata": {},
     "output_type": "execute_result"
    }
   ],
   "source": [
    "math.log(10)"
   ]
  },
  {
   "cell_type": "code",
   "execution_count": 132,
   "id": "00b88e90",
   "metadata": {},
   "outputs": [
    {
     "data": {
      "text/plain": [
       "4.605170185988092"
      ]
     },
     "execution_count": 132,
     "metadata": {},
     "output_type": "execute_result"
    }
   ],
   "source": [
    "math.log(100)"
   ]
  },
  {
   "cell_type": "code",
   "execution_count": 134,
   "id": "738ff1c5",
   "metadata": {},
   "outputs": [
    {
     "data": {
      "text/plain": [
       "3"
      ]
     },
     "execution_count": 134,
     "metadata": {},
     "output_type": "execute_result"
    }
   ],
   "source": [
    "random.randint(1,10)"
   ]
  },
  {
   "cell_type": "code",
   "execution_count": 139,
   "id": "7f24294e",
   "metadata": {},
   "outputs": [
    {
     "data": {
      "text/plain": [
       "[1, 4, 2, 5, 3]"
      ]
     },
     "execution_count": 139,
     "metadata": {},
     "output_type": "execute_result"
    }
   ],
   "source": [
    "b=[1,2,3,4,5]\n",
    "random.shuffle(b)\n",
    "b"
   ]
  },
  {
   "cell_type": "code",
   "execution_count": 142,
   "id": "95cc4483",
   "metadata": {},
   "outputs": [
    {
     "data": {
      "text/plain": [
       "1709049226.3387"
      ]
     },
     "execution_count": 142,
     "metadata": {},
     "output_type": "execute_result"
    }
   ],
   "source": [
    "import time\n",
    "time.time()"
   ]
  },
  {
   "cell_type": "code",
   "execution_count": 143,
   "id": "07b646ca",
   "metadata": {},
   "outputs": [
    {
     "data": {
      "text/plain": [
       "'Tue Feb 27 17:53:59 2024'"
      ]
     },
     "execution_count": 143,
     "metadata": {},
     "output_type": "execute_result"
    }
   ],
   "source": [
    "time.ctime()"
   ]
  },
  {
   "cell_type": "code",
   "execution_count": 146,
   "id": "5c8e109e",
   "metadata": {},
   "outputs": [
    {
     "name": "stdout",
     "output_type": "stream",
     "text": [
      "hello\n",
      "end\n"
     ]
    }
   ],
   "source": [
    "print(\"hello\")\n",
    "time.sleep(2) #time delay for next operation\n",
    "print(\"end\")"
   ]
  },
  {
   "cell_type": "code",
   "execution_count": 145,
   "id": "0dfe1cbb",
   "metadata": {},
   "outputs": [
    {
     "name": "stdout",
     "output_type": "stream",
     "text": [
      "None\n"
     ]
    }
   ],
   "source": [
    "print(time.sleep(1))"
   ]
  },
  {
   "cell_type": "code",
   "execution_count": 147,
   "id": "739d6e33",
   "metadata": {},
   "outputs": [],
   "source": [
    "import os"
   ]
  },
  {
   "cell_type": "code",
   "execution_count": 148,
   "id": "3a874afe",
   "metadata": {},
   "outputs": [
    {
     "data": {
      "text/plain": [
       "'/Users/ravina'"
      ]
     },
     "execution_count": 148,
     "metadata": {},
     "output_type": "execute_result"
    }
   ],
   "source": [
    "os.getcwd()"
   ]
  },
  {
   "cell_type": "code",
   "execution_count": 149,
   "id": "67a85523",
   "metadata": {},
   "outputs": [
    {
     "data": {
      "text/plain": [
       "['Use_of_perceptron.ipynb',\n",
       " 'flask',\n",
       " 'similarity_scores.pkl',\n",
       " '.config',\n",
       " 'NLP Basics.ipynb',\n",
       " 'Music',\n",
       " 'OOP_Concepts.ipynb',\n",
       " '.zprofile.pysave',\n",
       " 'basic machine learning .ipynb',\n",
       " 'textpreprocessing_vectorization.ipynb',\n",
       " '.condarc',\n",
       " '.docker',\n",
       " 'movie_review_and_genre.csv',\n",
       " 'popular_df.pkl',\n",
       " 'Untitled5.ipynb',\n",
       " 'untitled0.py',\n",
       " 'Python basics.ipynb',\n",
       " 'decision tree.ipynb',\n",
       " 'Untitled1.ipynb',\n",
       " 'Docker',\n",
       " 'EDA(Advance house price prediction).ipynb',\n",
       " 'SkLearn.ipynb',\n",
       " '.DS_Store',\n",
       " 'Standardization application and effect-Copy1.ipynb',\n",
       " 'nltk_data',\n",
       " 'fifa.py.ipynb',\n",
       " 'Python Error handling.ipynb',\n",
       " 'get-pip.py',\n",
       " 'df',\n",
       " '.CFUserTextEncoding',\n",
       " 'hey.txt',\n",
       " '.xonshrc',\n",
       " 'python',\n",
       " 'EDA3(Air line price prediction).ipynb',\n",
       " 'Untitled.ipynb',\n",
       " 'DBSCAN.ipynb',\n",
       " '.zshrc',\n",
       " 'code.',\n",
       " 'my_venv',\n",
       " '1Titanic_data_analysis.ipynb',\n",
       " 'Dockerfile',\n",
       " 'SVC(Linear, polynomial,RBF,Sigmoid).ipynb',\n",
       " 'data2.csv',\n",
       " 'oppenhimer',\n",
       " 'Linear_ridge_lasso.ipynb',\n",
       " 'Untitled4.ipynb',\n",
       " '.streamlit',\n",
       " '.local',\n",
       " 'random.csv',\n",
       " 'Untitled6.ipynb',\n",
       " 'Users.csv',\n",
       " 'Pictures',\n",
       " 'book_recommender_system.py',\n",
       " 'sv.pkl',\n",
       " '.zprofile',\n",
       " 'hugging face project.py.py',\n",
       " 'tesing.csv',\n",
       " 'OOps Concepts in python.ipynb',\n",
       " 'Higher Order functions in python.ipynb',\n",
       " 'Clustering .ipynb',\n",
       " 'EDA2.ipynb',\n",
       " 'Postman',\n",
       " 'DataFrame.ipynb',\n",
       " 'predict_using_pipeline.ipynb',\n",
       " 'practice.py',\n",
       " '.zsh_history',\n",
       " '.ipython',\n",
       " 'Desktop',\n",
       " 'Library',\n",
       " '.pyforest',\n",
       " '.matplotlib',\n",
       " '.lesshst',\n",
       " '.zprofile.macports-saved_2023-09-08_at_14:58:00',\n",
       " 'gensim-data',\n",
       " '.spyder-py3',\n",
       " 'data.csv',\n",
       " 'seaborn-data',\n",
       " \"Perceptron's loss function.ipynb\",\n",
       " 'scikit_learn_data',\n",
       " 'functions practice.ipynb',\n",
       " 'Ratings.csv',\n",
       " 'project_env',\n",
       " 'Multicollinearity.ipynb',\n",
       " 'Pipeline_application on Titanic.ipynb',\n",
       " 'Google Drive',\n",
       " 'sklearn_column_trnsformer .ipynb',\n",
       " 'Sleep Disorder.ipynb',\n",
       " 'Books.csv',\n",
       " 'PycharmProjects',\n",
       " 'Public',\n",
       " 'hello.json',\n",
       " 'EDA_column_transformation_amazon data.ipynb',\n",
       " 'uner',\n",
       " 'reg.py',\n",
       " 'pythonbook.ipynb',\n",
       " '.idlerc',\n",
       " '.tcshrc',\n",
       " 'Download data using API.ipynb',\n",
       " 'Postman Agent',\n",
       " 'text.py',\n",
       " 'Tensorflow.ipynb',\n",
       " 'spacy.ipynb',\n",
       " '.anaconda',\n",
       " 'model',\n",
       " 'requirement.txt',\n",
       " 'Untitled8.ipynb',\n",
       " '.ssh',\n",
       " 'Movies',\n",
       " 'Applications',\n",
       " 'app.py',\n",
       " 'movie_review_and_genre',\n",
       " 'Time_Series_data_EDA.ipynb',\n",
       " 'opt',\n",
       " 'pt.pkl',\n",
       " '.Trash',\n",
       " 'wine_data_analysis.ipynb',\n",
       " 'Standardization application and effect.ipynb',\n",
       " '.ipynb_checkpoints',\n",
       " '.zshrc.swp',\n",
       " 'Advanced python.ipynb',\n",
       " 'Whatsapp_chatAnalyzer',\n",
       " '.jupyter',\n",
       " '.keras',\n",
       " 'testing.csv',\n",
       " 'Oppenhimer Sentiment Analysis.ipynb',\n",
       " 'Advance Python.ipynb',\n",
       " 'Documents',\n",
       " 'venv',\n",
       " '.pyenv',\n",
       " 'hugging face project',\n",
       " 'statistics.ipynb',\n",
       " '.mysql_history',\n",
       " '.vscode',\n",
       " 'pipe.pkl',\n",
       " 'movies.csv',\n",
       " '.bash_profile',\n",
       " 'EDA4(automated EDA).ipynb',\n",
       " 'cdot.',\n",
       " '.nginx.com.swp',\n",
       " 'anaconda3',\n",
       " 'Encoding.ipynb',\n",
       " 'Downloads',\n",
       " '.python_history',\n",
       " 'statistical models practice.ipynb',\n",
       " '.continuum',\n",
       " '.cache',\n",
       " '.gitconfig',\n",
       " 'Class practice.ipynb',\n",
       " 'basic_text_preprocessing.ipynb',\n",
       " '.bash_history',\n",
       " '.viminfo',\n",
       " '.zsh_sessions',\n",
       " 'Feature Engineering (Advance house price prediciton).ipynb',\n",
       " '.astropy',\n",
       " 'Singular values(d and D) thesis.ipynb',\n",
       " 'OneDrive - Technion',\n",
       " '.conda',\n",
       " 'Linear regression machine learning.ipynb',\n",
       " 'Zomato_EDA_and_feature_engineering.ipynb',\n",
       " 'Boosting_algo.ipynb']"
      ]
     },
     "execution_count": 149,
     "metadata": {},
     "output_type": "execute_result"
    }
   ],
   "source": [
    "os.listdir()"
   ]
  },
  {
   "cell_type": "code",
   "execution_count": null,
   "id": "7b98b9fc",
   "metadata": {},
   "outputs": [],
   "source": []
  }
 ],
 "metadata": {
  "kernelspec": {
   "display_name": "Python 3 (ipykernel)",
   "language": "python",
   "name": "python3"
  },
  "language_info": {
   "codemirror_mode": {
    "name": "ipython",
    "version": 3
   },
   "file_extension": ".py",
   "mimetype": "text/x-python",
   "name": "python",
   "nbconvert_exporter": "python",
   "pygments_lexer": "ipython3",
   "version": "3.11.4"
  }
 },
 "nbformat": 4,
 "nbformat_minor": 5
}
